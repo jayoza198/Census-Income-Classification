{
  "nbformat": 4,
  "nbformat_minor": 0,
  "metadata": {
    "colab": {
      "provenance": []
    },
    "kernelspec": {
      "name": "python3",
      "display_name": "Python 3"
    },
    "language_info": {
      "name": "python"
    }
  },
  "cells": [
    {
      "cell_type": "code",
      "execution_count": 2,
      "metadata": {
        "id": "thlN0CHNJNUU"
      },
      "outputs": [],
      "source": [
        "import numpy as np \n",
        "import pandas as pd\n",
        "import seaborn as sns\n",
        "import matplotlib.pyplot as plt\n",
        "import warnings\n",
        "warnings.filterwarnings('ignore')"
      ]
    },
    {
      "cell_type": "code",
      "source": [
        "df  = pd.read_csv(\"https://raw.githubusercontent.com/dphi-official/Datasets/master/Census_Income/Training_set_census.csv\",\n",
        "                          na_values=[' ', ' NA', ' ?', 'Do not know', ' Do not know',\n",
        "                                    'Not in universe', ' Not in universe'])"
      ],
      "metadata": {
        "id": "O-dbC--SJj9D"
      },
      "execution_count": 9,
      "outputs": []
    },
    {
      "cell_type": "code",
      "source": [
        "df.sample(10).T"
      ],
      "metadata": {
        "colab": {
          "base_uri": "https://localhost:8080/",
          "height": 1000
        },
        "id": "517V1RuhKALW",
        "outputId": "2a4aa8bb-8919-4500-ad8d-a8274e42aa1c"
      },
      "execution_count": 10,
      "outputs": [
        {
          "output_type": "execute_result",
          "data": {
            "text/plain": [
              "                                                                193892  \\\n",
              "age                                                                 46   \n",
              "class_of_worker                                                Private   \n",
              "industry_code                                                       32   \n",
              "occupation_code                                                     18   \n",
              "education                          Associates degree-occup /vocational   \n",
              "wage_per_hour                                                        0   \n",
              "enrolled_in_edu_inst_lastwk                                        NaN   \n",
              "marital_status                         Married-civilian spouse present   \n",
              "major_industry_code                                    Wholesale trade   \n",
              "major_occupation_code                                            Sales   \n",
              "race                                                             White   \n",
              "hispanic_origin                                              All other   \n",
              "sex                                                             Female   \n",
              "member_of_labor_union                                              NaN   \n",
              "reason_for_unemployment                                     Re-entrant   \n",
              "full_parttime_employment_stat                 Children or Armed Forces   \n",
              "capital_gains                                                        0   \n",
              "capital_losses                                                       0   \n",
              "dividend_from_Stocks                                                 0   \n",
              "tax_filer_status                                   Joint both under 65   \n",
              "region_of_previous_residence                                       NaN   \n",
              "state_of_previous_residence                                        NaN   \n",
              "d_household_family_stat                          Spouse of householder   \n",
              "d_household_summary                              Spouse of householder   \n",
              "migration_msa                                                 Nonmover   \n",
              "migration_reg                                                 Nonmover   \n",
              "migration_within_reg                                          Nonmover   \n",
              "live_1_year_ago                                                    Yes   \n",
              "migration_sunbelt                                                  NaN   \n",
              "num_person_Worked_employer                                           1   \n",
              "family_members_under_18                                            NaN   \n",
              "country_father                                           United-States   \n",
              "country_mother                                           United-States   \n",
              "country_self                                             United-States   \n",
              "citizenship                          Native- Born in the United States   \n",
              "business_or_self_employed                                            0   \n",
              "fill_questionnaire_veteran_admin                                   NaN   \n",
              "veterans_benefits                                                    2   \n",
              "weeks_worked_in_year                                                13   \n",
              "year                                                                94   \n",
              "income_level                                                         0   \n",
              "\n",
              "                                                                  11682   \\\n",
              "age                                                                   36   \n",
              "class_of_worker                                         Local government   \n",
              "industry_code                                                         43   \n",
              "occupation_code                                                       10   \n",
              "education                         Masters degree(MA MS MEng MEd MSW MBA)   \n",
              "wage_per_hour                                                          0   \n",
              "enrolled_in_edu_inst_lastwk                                          NaN   \n",
              "marital_status                           Married-civilian spouse present   \n",
              "major_industry_code                                            Education   \n",
              "major_occupation_code                             Professional specialty   \n",
              "race                                                               White   \n",
              "hispanic_origin                                                All other   \n",
              "sex                                                               Female   \n",
              "member_of_labor_union                                                NaN   \n",
              "reason_for_unemployment                                              NaN   \n",
              "full_parttime_employment_stat                   Children or Armed Forces   \n",
              "capital_gains                                                          0   \n",
              "capital_losses                                                         0   \n",
              "dividend_from_Stocks                                                   0   \n",
              "tax_filer_status                                     Joint both under 65   \n",
              "region_of_previous_residence                                         NaN   \n",
              "state_of_previous_residence                                          NaN   \n",
              "d_household_family_stat                            Spouse of householder   \n",
              "d_household_summary                                Spouse of householder   \n",
              "migration_msa                                                   Nonmover   \n",
              "migration_reg                                                   Nonmover   \n",
              "migration_within_reg                                            Nonmover   \n",
              "live_1_year_ago                                                      Yes   \n",
              "migration_sunbelt                                                    NaN   \n",
              "num_person_Worked_employer                                             4   \n",
              "family_members_under_18                                              NaN   \n",
              "country_father                                             United-States   \n",
              "country_mother                                             United-States   \n",
              "country_self                                               United-States   \n",
              "citizenship                            Native- Born in the United States   \n",
              "business_or_self_employed                                              0   \n",
              "fill_questionnaire_veteran_admin                                     NaN   \n",
              "veterans_benefits                                                      2   \n",
              "weeks_worked_in_year                                                  52   \n",
              "year                                                                  94   \n",
              "income_level                                                           0   \n",
              "\n",
              "                                                                       23227   \\\n",
              "age                                                                        56   \n",
              "class_of_worker                                                       Private   \n",
              "industry_code                                                               9   \n",
              "occupation_code                                                            36   \n",
              "education                                                   7th and 8th grade   \n",
              "wage_per_hour                                                               0   \n",
              "enrolled_in_edu_inst_lastwk                                               NaN   \n",
              "marital_status                                Married-civilian spouse present   \n",
              "major_industry_code                               Manufacturing-durable goods   \n",
              "major_occupation_code                   Machine operators assmblrs & inspctrs   \n",
              "race                                                                    White   \n",
              "hispanic_origin                                                     All other   \n",
              "sex                                                                      Male   \n",
              "member_of_labor_union                                                      No   \n",
              "reason_for_unemployment                                                   NaN   \n",
              "full_parttime_employment_stat                        Children or Armed Forces   \n",
              "capital_gains                                                               0   \n",
              "capital_losses                                                              0   \n",
              "dividend_from_Stocks                                                        0   \n",
              "tax_filer_status                                          Joint both under 65   \n",
              "region_of_previous_residence                                              NaN   \n",
              "state_of_previous_residence                                               NaN   \n",
              "d_household_family_stat                                           Householder   \n",
              "d_household_summary                                               Householder   \n",
              "migration_msa                                                        Nonmover   \n",
              "migration_reg                                                        Nonmover   \n",
              "migration_within_reg                                                 Nonmover   \n",
              "live_1_year_ago                                                           Yes   \n",
              "migration_sunbelt                                                         NaN   \n",
              "num_person_Worked_employer                                                  1   \n",
              "family_members_under_18                                                   NaN   \n",
              "country_father                                                       Portugal   \n",
              "country_mother                                                       Portugal   \n",
              "country_self                                                         Portugal   \n",
              "citizenship                       Foreign born- U S citizen by naturalization   \n",
              "business_or_self_employed                                                   0   \n",
              "fill_questionnaire_veteran_admin                                          NaN   \n",
              "veterans_benefits                                                           2   \n",
              "weeks_worked_in_year                                                       52   \n",
              "year                                                                       94   \n",
              "income_level                                                                0   \n",
              "\n",
              "                                                             89599   \\\n",
              "age                                                              35   \n",
              "class_of_worker                                         Without pay   \n",
              "industry_code                                                    45   \n",
              "occupation_code                                                   3   \n",
              "education                                Bachelors degree(BA AB BS)   \n",
              "wage_per_hour                                                     0   \n",
              "enrolled_in_edu_inst_lastwk                                     NaN   \n",
              "marital_status                      Married-civilian spouse present   \n",
              "major_industry_code                     Other professional services   \n",
              "major_occupation_code                Executive admin and managerial   \n",
              "race                                                          White   \n",
              "hispanic_origin                                           All other   \n",
              "sex                                                          Female   \n",
              "member_of_labor_union                                           NaN   \n",
              "reason_for_unemployment                                         NaN   \n",
              "full_parttime_employment_stat              Children or Armed Forces   \n",
              "capital_gains                                                     0   \n",
              "capital_losses                                                    0   \n",
              "dividend_from_Stocks                                            150   \n",
              "tax_filer_status                                Joint both under 65   \n",
              "region_of_previous_residence                                    NaN   \n",
              "state_of_previous_residence                                     NaN   \n",
              "d_household_family_stat                       Spouse of householder   \n",
              "d_household_summary                           Spouse of householder   \n",
              "migration_msa                                              Nonmover   \n",
              "migration_reg                                              Nonmover   \n",
              "migration_within_reg                                       Nonmover   \n",
              "live_1_year_ago                                                 Yes   \n",
              "migration_sunbelt                                               NaN   \n",
              "num_person_Worked_employer                                        2   \n",
              "family_members_under_18                                         NaN   \n",
              "country_father                                        United-States   \n",
              "country_mother                                        United-States   \n",
              "country_self                                          United-States   \n",
              "citizenship                       Native- Born in the United States   \n",
              "business_or_self_employed                                         0   \n",
              "fill_questionnaire_veteran_admin                                NaN   \n",
              "veterans_benefits                                                 2   \n",
              "weeks_worked_in_year                                             52   \n",
              "year                                                             94   \n",
              "income_level                                                      0   \n",
              "\n",
              "                                                             22141   \\\n",
              "age                                                              36   \n",
              "class_of_worker                                             Private   \n",
              "industry_code                                                    33   \n",
              "occupation_code                                                  29   \n",
              "education                                                10th grade   \n",
              "wage_per_hour                                                     0   \n",
              "enrolled_in_edu_inst_lastwk                                     NaN   \n",
              "marital_status                      Married-civilian spouse present   \n",
              "major_industry_code                                    Retail trade   \n",
              "major_occupation_code                                 Other service   \n",
              "race                                                          White   \n",
              "hispanic_origin                                           All other   \n",
              "sex                                                          Female   \n",
              "member_of_labor_union                                           NaN   \n",
              "reason_for_unemployment                                         NaN   \n",
              "full_parttime_employment_stat              Children or Armed Forces   \n",
              "capital_gains                                                     0   \n",
              "capital_losses                                                    0   \n",
              "dividend_from_Stocks                                              0   \n",
              "tax_filer_status                                Joint both under 65   \n",
              "region_of_previous_residence                                    NaN   \n",
              "state_of_previous_residence                                     NaN   \n",
              "d_household_family_stat                       Spouse of householder   \n",
              "d_household_summary                           Spouse of householder   \n",
              "migration_msa                                              Nonmover   \n",
              "migration_reg                                              Nonmover   \n",
              "migration_within_reg                                       Nonmover   \n",
              "live_1_year_ago                                                 Yes   \n",
              "migration_sunbelt                                               NaN   \n",
              "num_person_Worked_employer                                        1   \n",
              "family_members_under_18                                         NaN   \n",
              "country_father                                        United-States   \n",
              "country_mother                                        United-States   \n",
              "country_self                                          United-States   \n",
              "citizenship                       Native- Born in the United States   \n",
              "business_or_self_employed                                         0   \n",
              "fill_questionnaire_veteran_admin                                NaN   \n",
              "veterans_benefits                                                 2   \n",
              "weeks_worked_in_year                                             52   \n",
              "year                                                             94   \n",
              "income_level                                                      0   \n",
              "\n",
              "                                                             85708   \\\n",
              "age                                                              62   \n",
              "class_of_worker                                                 NaN   \n",
              "industry_code                                                     0   \n",
              "occupation_code                                                   0   \n",
              "education                                      High school graduate   \n",
              "wage_per_hour                                                     0   \n",
              "enrolled_in_edu_inst_lastwk                                     NaN   \n",
              "marital_status                                              Widowed   \n",
              "major_industry_code                     Not in universe or children   \n",
              "major_occupation_code                                           NaN   \n",
              "race                                                          White   \n",
              "hispanic_origin                                           All other   \n",
              "sex                                                          Female   \n",
              "member_of_labor_union                                           NaN   \n",
              "reason_for_unemployment                                         NaN   \n",
              "full_parttime_employment_stat              Children or Armed Forces   \n",
              "capital_gains                                                     0   \n",
              "capital_losses                                                    0   \n",
              "dividend_from_Stocks                                              0   \n",
              "tax_filer_status                                           Nonfiler   \n",
              "region_of_previous_residence                                    NaN   \n",
              "state_of_previous_residence                                     NaN   \n",
              "d_household_family_stat                       Nonfamily householder   \n",
              "d_household_summary                                     Householder   \n",
              "migration_msa                                              Nonmover   \n",
              "migration_reg                                              Nonmover   \n",
              "migration_within_reg                                       Nonmover   \n",
              "live_1_year_ago                                                 Yes   \n",
              "migration_sunbelt                                               NaN   \n",
              "num_person_Worked_employer                                        0   \n",
              "family_members_under_18                                         NaN   \n",
              "country_father                                        United-States   \n",
              "country_mother                                        United-States   \n",
              "country_self                                          United-States   \n",
              "citizenship                       Native- Born in the United States   \n",
              "business_or_self_employed                                         0   \n",
              "fill_questionnaire_veteran_admin                                NaN   \n",
              "veterans_benefits                                                 2   \n",
              "weeks_worked_in_year                                              0   \n",
              "year                                                             94   \n",
              "income_level                                                      0   \n",
              "\n",
              "                                                              66074   \\\n",
              "age                                                               49   \n",
              "class_of_worker                                              Private   \n",
              "industry_code                                                     24   \n",
              "occupation_code                                                    4   \n",
              "education                                 Some college but no degree   \n",
              "wage_per_hour                                                      0   \n",
              "enrolled_in_edu_inst_lastwk                                      NaN   \n",
              "marital_status                       Married-civilian spouse present   \n",
              "major_industry_code                   Manufacturing-nondurable goods   \n",
              "major_occupation_code                         Professional specialty   \n",
              "race                                                           White   \n",
              "hispanic_origin                                            All other   \n",
              "sex                                                             Male   \n",
              "member_of_labor_union                                            NaN   \n",
              "reason_for_unemployment                              Other job loser   \n",
              "full_parttime_employment_stat               Children or Armed Forces   \n",
              "capital_gains                                                      0   \n",
              "capital_losses                                                     0   \n",
              "dividend_from_Stocks                                               0   \n",
              "tax_filer_status                                 Joint both under 65   \n",
              "region_of_previous_residence                                     NaN   \n",
              "state_of_previous_residence                                      NaN   \n",
              "d_household_family_stat                                  Householder   \n",
              "d_household_summary                                      Householder   \n",
              "migration_msa                                               Nonmover   \n",
              "migration_reg                                               Nonmover   \n",
              "migration_within_reg                                        Nonmover   \n",
              "live_1_year_ago                                                  Yes   \n",
              "migration_sunbelt                                                NaN   \n",
              "num_person_Worked_employer                                         0   \n",
              "family_members_under_18                                          NaN   \n",
              "country_father                                         United-States   \n",
              "country_mother                                         United-States   \n",
              "country_self                                           United-States   \n",
              "citizenship                        Native- Born in the United States   \n",
              "business_or_self_employed                                          0   \n",
              "fill_questionnaire_veteran_admin                                 NaN   \n",
              "veterans_benefits                                                  2   \n",
              "weeks_worked_in_year                                               0   \n",
              "year                                                              94   \n",
              "income_level                                                       0   \n",
              "\n",
              "                                                                   191387  \\\n",
              "age                                                                    25   \n",
              "class_of_worker                                                   Private   \n",
              "industry_code                                                          41   \n",
              "occupation_code                                                         8   \n",
              "education                              Associates degree-academic program   \n",
              "wage_per_hour                                                           0   \n",
              "enrolled_in_edu_inst_lastwk                                           NaN   \n",
              "marital_status                                              Never married   \n",
              "major_industry_code                                     Hospital services   \n",
              "major_occupation_code                              Professional specialty   \n",
              "race                                                                White   \n",
              "hispanic_origin                                                 All other   \n",
              "sex                                                                Female   \n",
              "member_of_labor_union                                                 NaN   \n",
              "reason_for_unemployment                                               NaN   \n",
              "full_parttime_employment_stat                    Children or Armed Forces   \n",
              "capital_gains                                                           0   \n",
              "capital_losses                                                          0   \n",
              "dividend_from_Stocks                                                    0   \n",
              "tax_filer_status                                                   Single   \n",
              "region_of_previous_residence                                          NaN   \n",
              "state_of_previous_residence                                           NaN   \n",
              "d_household_family_stat           Child 18+ never marr Not in a subfamily   \n",
              "d_household_summary                                     Child 18 or older   \n",
              "migration_msa                                                    Nonmover   \n",
              "migration_reg                                                    Nonmover   \n",
              "migration_within_reg                                             Nonmover   \n",
              "live_1_year_ago                                                       Yes   \n",
              "migration_sunbelt                                                     NaN   \n",
              "num_person_Worked_employer                                              6   \n",
              "family_members_under_18                                               NaN   \n",
              "country_father                                              United-States   \n",
              "country_mother                                              United-States   \n",
              "country_self                                                United-States   \n",
              "citizenship                             Native- Born in the United States   \n",
              "business_or_self_employed                                               0   \n",
              "fill_questionnaire_veteran_admin                                      NaN   \n",
              "veterans_benefits                                                       2   \n",
              "weeks_worked_in_year                                                   24   \n",
              "year                                                                   94   \n",
              "income_level                                                            0   \n",
              "\n",
              "                                                              24463   \\\n",
              "age                                                               72   \n",
              "class_of_worker                       Self-employed-not incorporated   \n",
              "industry_code                                                      2   \n",
              "occupation_code                                                   43   \n",
              "education                                       High school graduate   \n",
              "wage_per_hour                                                      0   \n",
              "enrolled_in_edu_inst_lastwk                                      NaN   \n",
              "marital_status                       Married-civilian spouse present   \n",
              "major_industry_code                                      Agriculture   \n",
              "major_occupation_code                   Farming forestry and fishing   \n",
              "race                                                           White   \n",
              "hispanic_origin                                            All other   \n",
              "sex                                                             Male   \n",
              "member_of_labor_union                                            NaN   \n",
              "reason_for_unemployment                                          NaN   \n",
              "full_parttime_employment_stat     PT for non-econ reasons usually FT   \n",
              "capital_gains                                                      0   \n",
              "capital_losses                                                     0   \n",
              "dividend_from_Stocks                                               0   \n",
              "tax_filer_status                                      Joint both 65+   \n",
              "region_of_previous_residence                                     NaN   \n",
              "state_of_previous_residence                                      NaN   \n",
              "d_household_family_stat                                  Householder   \n",
              "d_household_summary                                      Householder   \n",
              "migration_msa                                                    NaN   \n",
              "migration_reg                                                    NaN   \n",
              "migration_within_reg                                             NaN   \n",
              "live_1_year_ago                     Not in universe under 1 year old   \n",
              "migration_sunbelt                                                NaN   \n",
              "num_person_Worked_employer                                         1   \n",
              "family_members_under_18                                          NaN   \n",
              "country_father                                         United-States   \n",
              "country_mother                                         United-States   \n",
              "country_self                                           United-States   \n",
              "citizenship                        Native- Born in the United States   \n",
              "business_or_self_employed                                          0   \n",
              "fill_questionnaire_veteran_admin                                 NaN   \n",
              "veterans_benefits                                                  2   \n",
              "weeks_worked_in_year                                              52   \n",
              "year                                                              95   \n",
              "income_level                                                       0   \n",
              "\n",
              "                                                                  148550  \n",
              "age                                                                   45  \n",
              "class_of_worker                                         Local government  \n",
              "industry_code                                                         43  \n",
              "occupation_code                                                        2  \n",
              "education                         Masters degree(MA MS MEng MEd MSW MBA)  \n",
              "wage_per_hour                                                          0  \n",
              "enrolled_in_edu_inst_lastwk                                          NaN  \n",
              "marital_status                           Married-civilian spouse present  \n",
              "major_industry_code                                            Education  \n",
              "major_occupation_code                     Executive admin and managerial  \n",
              "race                                                               White  \n",
              "hispanic_origin                                                All other  \n",
              "sex                                                                 Male  \n",
              "member_of_labor_union                                                NaN  \n",
              "reason_for_unemployment                                              NaN  \n",
              "full_parttime_employment_stat                        Full-time schedules  \n",
              "capital_gains                                                      15024  \n",
              "capital_losses                                                         0  \n",
              "dividend_from_Stocks                                                   0  \n",
              "tax_filer_status                                     Joint both under 65  \n",
              "region_of_previous_residence                                         NaN  \n",
              "state_of_previous_residence                                          NaN  \n",
              "d_household_family_stat                                      Householder  \n",
              "d_household_summary                                          Householder  \n",
              "migration_msa                                                        NaN  \n",
              "migration_reg                                                        NaN  \n",
              "migration_within_reg                                                 NaN  \n",
              "live_1_year_ago                         Not in universe under 1 year old  \n",
              "migration_sunbelt                                                    NaN  \n",
              "num_person_Worked_employer                                             4  \n",
              "family_members_under_18                                              NaN  \n",
              "country_father                                             United-States  \n",
              "country_mother                                             United-States  \n",
              "country_self                                               United-States  \n",
              "citizenship                            Native- Born in the United States  \n",
              "business_or_self_employed                                              0  \n",
              "fill_questionnaire_veteran_admin                                     NaN  \n",
              "veterans_benefits                                                      2  \n",
              "weeks_worked_in_year                                                  52  \n",
              "year                                                                  95  \n",
              "income_level                                                           1  "
            ],
            "text/html": [
              "\n",
              "  <div id=\"df-649086ce-6448-4c1f-a7f2-2a6377f1bb20\">\n",
              "    <div class=\"colab-df-container\">\n",
              "      <div>\n",
              "<style scoped>\n",
              "    .dataframe tbody tr th:only-of-type {\n",
              "        vertical-align: middle;\n",
              "    }\n",
              "\n",
              "    .dataframe tbody tr th {\n",
              "        vertical-align: top;\n",
              "    }\n",
              "\n",
              "    .dataframe thead th {\n",
              "        text-align: right;\n",
              "    }\n",
              "</style>\n",
              "<table border=\"1\" class=\"dataframe\">\n",
              "  <thead>\n",
              "    <tr style=\"text-align: right;\">\n",
              "      <th></th>\n",
              "      <th>193892</th>\n",
              "      <th>11682</th>\n",
              "      <th>23227</th>\n",
              "      <th>89599</th>\n",
              "      <th>22141</th>\n",
              "      <th>85708</th>\n",
              "      <th>66074</th>\n",
              "      <th>191387</th>\n",
              "      <th>24463</th>\n",
              "      <th>148550</th>\n",
              "    </tr>\n",
              "  </thead>\n",
              "  <tbody>\n",
              "    <tr>\n",
              "      <th>age</th>\n",
              "      <td>46</td>\n",
              "      <td>36</td>\n",
              "      <td>56</td>\n",
              "      <td>35</td>\n",
              "      <td>36</td>\n",
              "      <td>62</td>\n",
              "      <td>49</td>\n",
              "      <td>25</td>\n",
              "      <td>72</td>\n",
              "      <td>45</td>\n",
              "    </tr>\n",
              "    <tr>\n",
              "      <th>class_of_worker</th>\n",
              "      <td>Private</td>\n",
              "      <td>Local government</td>\n",
              "      <td>Private</td>\n",
              "      <td>Without pay</td>\n",
              "      <td>Private</td>\n",
              "      <td>NaN</td>\n",
              "      <td>Private</td>\n",
              "      <td>Private</td>\n",
              "      <td>Self-employed-not incorporated</td>\n",
              "      <td>Local government</td>\n",
              "    </tr>\n",
              "    <tr>\n",
              "      <th>industry_code</th>\n",
              "      <td>32</td>\n",
              "      <td>43</td>\n",
              "      <td>9</td>\n",
              "      <td>45</td>\n",
              "      <td>33</td>\n",
              "      <td>0</td>\n",
              "      <td>24</td>\n",
              "      <td>41</td>\n",
              "      <td>2</td>\n",
              "      <td>43</td>\n",
              "    </tr>\n",
              "    <tr>\n",
              "      <th>occupation_code</th>\n",
              "      <td>18</td>\n",
              "      <td>10</td>\n",
              "      <td>36</td>\n",
              "      <td>3</td>\n",
              "      <td>29</td>\n",
              "      <td>0</td>\n",
              "      <td>4</td>\n",
              "      <td>8</td>\n",
              "      <td>43</td>\n",
              "      <td>2</td>\n",
              "    </tr>\n",
              "    <tr>\n",
              "      <th>education</th>\n",
              "      <td>Associates degree-occup /vocational</td>\n",
              "      <td>Masters degree(MA MS MEng MEd MSW MBA)</td>\n",
              "      <td>7th and 8th grade</td>\n",
              "      <td>Bachelors degree(BA AB BS)</td>\n",
              "      <td>10th grade</td>\n",
              "      <td>High school graduate</td>\n",
              "      <td>Some college but no degree</td>\n",
              "      <td>Associates degree-academic program</td>\n",
              "      <td>High school graduate</td>\n",
              "      <td>Masters degree(MA MS MEng MEd MSW MBA)</td>\n",
              "    </tr>\n",
              "    <tr>\n",
              "      <th>wage_per_hour</th>\n",
              "      <td>0</td>\n",
              "      <td>0</td>\n",
              "      <td>0</td>\n",
              "      <td>0</td>\n",
              "      <td>0</td>\n",
              "      <td>0</td>\n",
              "      <td>0</td>\n",
              "      <td>0</td>\n",
              "      <td>0</td>\n",
              "      <td>0</td>\n",
              "    </tr>\n",
              "    <tr>\n",
              "      <th>enrolled_in_edu_inst_lastwk</th>\n",
              "      <td>NaN</td>\n",
              "      <td>NaN</td>\n",
              "      <td>NaN</td>\n",
              "      <td>NaN</td>\n",
              "      <td>NaN</td>\n",
              "      <td>NaN</td>\n",
              "      <td>NaN</td>\n",
              "      <td>NaN</td>\n",
              "      <td>NaN</td>\n",
              "      <td>NaN</td>\n",
              "    </tr>\n",
              "    <tr>\n",
              "      <th>marital_status</th>\n",
              "      <td>Married-civilian spouse present</td>\n",
              "      <td>Married-civilian spouse present</td>\n",
              "      <td>Married-civilian spouse present</td>\n",
              "      <td>Married-civilian spouse present</td>\n",
              "      <td>Married-civilian spouse present</td>\n",
              "      <td>Widowed</td>\n",
              "      <td>Married-civilian spouse present</td>\n",
              "      <td>Never married</td>\n",
              "      <td>Married-civilian spouse present</td>\n",
              "      <td>Married-civilian spouse present</td>\n",
              "    </tr>\n",
              "    <tr>\n",
              "      <th>major_industry_code</th>\n",
              "      <td>Wholesale trade</td>\n",
              "      <td>Education</td>\n",
              "      <td>Manufacturing-durable goods</td>\n",
              "      <td>Other professional services</td>\n",
              "      <td>Retail trade</td>\n",
              "      <td>Not in universe or children</td>\n",
              "      <td>Manufacturing-nondurable goods</td>\n",
              "      <td>Hospital services</td>\n",
              "      <td>Agriculture</td>\n",
              "      <td>Education</td>\n",
              "    </tr>\n",
              "    <tr>\n",
              "      <th>major_occupation_code</th>\n",
              "      <td>Sales</td>\n",
              "      <td>Professional specialty</td>\n",
              "      <td>Machine operators assmblrs &amp; inspctrs</td>\n",
              "      <td>Executive admin and managerial</td>\n",
              "      <td>Other service</td>\n",
              "      <td>NaN</td>\n",
              "      <td>Professional specialty</td>\n",
              "      <td>Professional specialty</td>\n",
              "      <td>Farming forestry and fishing</td>\n",
              "      <td>Executive admin and managerial</td>\n",
              "    </tr>\n",
              "    <tr>\n",
              "      <th>race</th>\n",
              "      <td>White</td>\n",
              "      <td>White</td>\n",
              "      <td>White</td>\n",
              "      <td>White</td>\n",
              "      <td>White</td>\n",
              "      <td>White</td>\n",
              "      <td>White</td>\n",
              "      <td>White</td>\n",
              "      <td>White</td>\n",
              "      <td>White</td>\n",
              "    </tr>\n",
              "    <tr>\n",
              "      <th>hispanic_origin</th>\n",
              "      <td>All other</td>\n",
              "      <td>All other</td>\n",
              "      <td>All other</td>\n",
              "      <td>All other</td>\n",
              "      <td>All other</td>\n",
              "      <td>All other</td>\n",
              "      <td>All other</td>\n",
              "      <td>All other</td>\n",
              "      <td>All other</td>\n",
              "      <td>All other</td>\n",
              "    </tr>\n",
              "    <tr>\n",
              "      <th>sex</th>\n",
              "      <td>Female</td>\n",
              "      <td>Female</td>\n",
              "      <td>Male</td>\n",
              "      <td>Female</td>\n",
              "      <td>Female</td>\n",
              "      <td>Female</td>\n",
              "      <td>Male</td>\n",
              "      <td>Female</td>\n",
              "      <td>Male</td>\n",
              "      <td>Male</td>\n",
              "    </tr>\n",
              "    <tr>\n",
              "      <th>member_of_labor_union</th>\n",
              "      <td>NaN</td>\n",
              "      <td>NaN</td>\n",
              "      <td>No</td>\n",
              "      <td>NaN</td>\n",
              "      <td>NaN</td>\n",
              "      <td>NaN</td>\n",
              "      <td>NaN</td>\n",
              "      <td>NaN</td>\n",
              "      <td>NaN</td>\n",
              "      <td>NaN</td>\n",
              "    </tr>\n",
              "    <tr>\n",
              "      <th>reason_for_unemployment</th>\n",
              "      <td>Re-entrant</td>\n",
              "      <td>NaN</td>\n",
              "      <td>NaN</td>\n",
              "      <td>NaN</td>\n",
              "      <td>NaN</td>\n",
              "      <td>NaN</td>\n",
              "      <td>Other job loser</td>\n",
              "      <td>NaN</td>\n",
              "      <td>NaN</td>\n",
              "      <td>NaN</td>\n",
              "    </tr>\n",
              "    <tr>\n",
              "      <th>full_parttime_employment_stat</th>\n",
              "      <td>Children or Armed Forces</td>\n",
              "      <td>Children or Armed Forces</td>\n",
              "      <td>Children or Armed Forces</td>\n",
              "      <td>Children or Armed Forces</td>\n",
              "      <td>Children or Armed Forces</td>\n",
              "      <td>Children or Armed Forces</td>\n",
              "      <td>Children or Armed Forces</td>\n",
              "      <td>Children or Armed Forces</td>\n",
              "      <td>PT for non-econ reasons usually FT</td>\n",
              "      <td>Full-time schedules</td>\n",
              "    </tr>\n",
              "    <tr>\n",
              "      <th>capital_gains</th>\n",
              "      <td>0</td>\n",
              "      <td>0</td>\n",
              "      <td>0</td>\n",
              "      <td>0</td>\n",
              "      <td>0</td>\n",
              "      <td>0</td>\n",
              "      <td>0</td>\n",
              "      <td>0</td>\n",
              "      <td>0</td>\n",
              "      <td>15024</td>\n",
              "    </tr>\n",
              "    <tr>\n",
              "      <th>capital_losses</th>\n",
              "      <td>0</td>\n",
              "      <td>0</td>\n",
              "      <td>0</td>\n",
              "      <td>0</td>\n",
              "      <td>0</td>\n",
              "      <td>0</td>\n",
              "      <td>0</td>\n",
              "      <td>0</td>\n",
              "      <td>0</td>\n",
              "      <td>0</td>\n",
              "    </tr>\n",
              "    <tr>\n",
              "      <th>dividend_from_Stocks</th>\n",
              "      <td>0</td>\n",
              "      <td>0</td>\n",
              "      <td>0</td>\n",
              "      <td>150</td>\n",
              "      <td>0</td>\n",
              "      <td>0</td>\n",
              "      <td>0</td>\n",
              "      <td>0</td>\n",
              "      <td>0</td>\n",
              "      <td>0</td>\n",
              "    </tr>\n",
              "    <tr>\n",
              "      <th>tax_filer_status</th>\n",
              "      <td>Joint both under 65</td>\n",
              "      <td>Joint both under 65</td>\n",
              "      <td>Joint both under 65</td>\n",
              "      <td>Joint both under 65</td>\n",
              "      <td>Joint both under 65</td>\n",
              "      <td>Nonfiler</td>\n",
              "      <td>Joint both under 65</td>\n",
              "      <td>Single</td>\n",
              "      <td>Joint both 65+</td>\n",
              "      <td>Joint both under 65</td>\n",
              "    </tr>\n",
              "    <tr>\n",
              "      <th>region_of_previous_residence</th>\n",
              "      <td>NaN</td>\n",
              "      <td>NaN</td>\n",
              "      <td>NaN</td>\n",
              "      <td>NaN</td>\n",
              "      <td>NaN</td>\n",
              "      <td>NaN</td>\n",
              "      <td>NaN</td>\n",
              "      <td>NaN</td>\n",
              "      <td>NaN</td>\n",
              "      <td>NaN</td>\n",
              "    </tr>\n",
              "    <tr>\n",
              "      <th>state_of_previous_residence</th>\n",
              "      <td>NaN</td>\n",
              "      <td>NaN</td>\n",
              "      <td>NaN</td>\n",
              "      <td>NaN</td>\n",
              "      <td>NaN</td>\n",
              "      <td>NaN</td>\n",
              "      <td>NaN</td>\n",
              "      <td>NaN</td>\n",
              "      <td>NaN</td>\n",
              "      <td>NaN</td>\n",
              "    </tr>\n",
              "    <tr>\n",
              "      <th>d_household_family_stat</th>\n",
              "      <td>Spouse of householder</td>\n",
              "      <td>Spouse of householder</td>\n",
              "      <td>Householder</td>\n",
              "      <td>Spouse of householder</td>\n",
              "      <td>Spouse of householder</td>\n",
              "      <td>Nonfamily householder</td>\n",
              "      <td>Householder</td>\n",
              "      <td>Child 18+ never marr Not in a subfamily</td>\n",
              "      <td>Householder</td>\n",
              "      <td>Householder</td>\n",
              "    </tr>\n",
              "    <tr>\n",
              "      <th>d_household_summary</th>\n",
              "      <td>Spouse of householder</td>\n",
              "      <td>Spouse of householder</td>\n",
              "      <td>Householder</td>\n",
              "      <td>Spouse of householder</td>\n",
              "      <td>Spouse of householder</td>\n",
              "      <td>Householder</td>\n",
              "      <td>Householder</td>\n",
              "      <td>Child 18 or older</td>\n",
              "      <td>Householder</td>\n",
              "      <td>Householder</td>\n",
              "    </tr>\n",
              "    <tr>\n",
              "      <th>migration_msa</th>\n",
              "      <td>Nonmover</td>\n",
              "      <td>Nonmover</td>\n",
              "      <td>Nonmover</td>\n",
              "      <td>Nonmover</td>\n",
              "      <td>Nonmover</td>\n",
              "      <td>Nonmover</td>\n",
              "      <td>Nonmover</td>\n",
              "      <td>Nonmover</td>\n",
              "      <td>NaN</td>\n",
              "      <td>NaN</td>\n",
              "    </tr>\n",
              "    <tr>\n",
              "      <th>migration_reg</th>\n",
              "      <td>Nonmover</td>\n",
              "      <td>Nonmover</td>\n",
              "      <td>Nonmover</td>\n",
              "      <td>Nonmover</td>\n",
              "      <td>Nonmover</td>\n",
              "      <td>Nonmover</td>\n",
              "      <td>Nonmover</td>\n",
              "      <td>Nonmover</td>\n",
              "      <td>NaN</td>\n",
              "      <td>NaN</td>\n",
              "    </tr>\n",
              "    <tr>\n",
              "      <th>migration_within_reg</th>\n",
              "      <td>Nonmover</td>\n",
              "      <td>Nonmover</td>\n",
              "      <td>Nonmover</td>\n",
              "      <td>Nonmover</td>\n",
              "      <td>Nonmover</td>\n",
              "      <td>Nonmover</td>\n",
              "      <td>Nonmover</td>\n",
              "      <td>Nonmover</td>\n",
              "      <td>NaN</td>\n",
              "      <td>NaN</td>\n",
              "    </tr>\n",
              "    <tr>\n",
              "      <th>live_1_year_ago</th>\n",
              "      <td>Yes</td>\n",
              "      <td>Yes</td>\n",
              "      <td>Yes</td>\n",
              "      <td>Yes</td>\n",
              "      <td>Yes</td>\n",
              "      <td>Yes</td>\n",
              "      <td>Yes</td>\n",
              "      <td>Yes</td>\n",
              "      <td>Not in universe under 1 year old</td>\n",
              "      <td>Not in universe under 1 year old</td>\n",
              "    </tr>\n",
              "    <tr>\n",
              "      <th>migration_sunbelt</th>\n",
              "      <td>NaN</td>\n",
              "      <td>NaN</td>\n",
              "      <td>NaN</td>\n",
              "      <td>NaN</td>\n",
              "      <td>NaN</td>\n",
              "      <td>NaN</td>\n",
              "      <td>NaN</td>\n",
              "      <td>NaN</td>\n",
              "      <td>NaN</td>\n",
              "      <td>NaN</td>\n",
              "    </tr>\n",
              "    <tr>\n",
              "      <th>num_person_Worked_employer</th>\n",
              "      <td>1</td>\n",
              "      <td>4</td>\n",
              "      <td>1</td>\n",
              "      <td>2</td>\n",
              "      <td>1</td>\n",
              "      <td>0</td>\n",
              "      <td>0</td>\n",
              "      <td>6</td>\n",
              "      <td>1</td>\n",
              "      <td>4</td>\n",
              "    </tr>\n",
              "    <tr>\n",
              "      <th>family_members_under_18</th>\n",
              "      <td>NaN</td>\n",
              "      <td>NaN</td>\n",
              "      <td>NaN</td>\n",
              "      <td>NaN</td>\n",
              "      <td>NaN</td>\n",
              "      <td>NaN</td>\n",
              "      <td>NaN</td>\n",
              "      <td>NaN</td>\n",
              "      <td>NaN</td>\n",
              "      <td>NaN</td>\n",
              "    </tr>\n",
              "    <tr>\n",
              "      <th>country_father</th>\n",
              "      <td>United-States</td>\n",
              "      <td>United-States</td>\n",
              "      <td>Portugal</td>\n",
              "      <td>United-States</td>\n",
              "      <td>United-States</td>\n",
              "      <td>United-States</td>\n",
              "      <td>United-States</td>\n",
              "      <td>United-States</td>\n",
              "      <td>United-States</td>\n",
              "      <td>United-States</td>\n",
              "    </tr>\n",
              "    <tr>\n",
              "      <th>country_mother</th>\n",
              "      <td>United-States</td>\n",
              "      <td>United-States</td>\n",
              "      <td>Portugal</td>\n",
              "      <td>United-States</td>\n",
              "      <td>United-States</td>\n",
              "      <td>United-States</td>\n",
              "      <td>United-States</td>\n",
              "      <td>United-States</td>\n",
              "      <td>United-States</td>\n",
              "      <td>United-States</td>\n",
              "    </tr>\n",
              "    <tr>\n",
              "      <th>country_self</th>\n",
              "      <td>United-States</td>\n",
              "      <td>United-States</td>\n",
              "      <td>Portugal</td>\n",
              "      <td>United-States</td>\n",
              "      <td>United-States</td>\n",
              "      <td>United-States</td>\n",
              "      <td>United-States</td>\n",
              "      <td>United-States</td>\n",
              "      <td>United-States</td>\n",
              "      <td>United-States</td>\n",
              "    </tr>\n",
              "    <tr>\n",
              "      <th>citizenship</th>\n",
              "      <td>Native- Born in the United States</td>\n",
              "      <td>Native- Born in the United States</td>\n",
              "      <td>Foreign born- U S citizen by naturalization</td>\n",
              "      <td>Native- Born in the United States</td>\n",
              "      <td>Native- Born in the United States</td>\n",
              "      <td>Native- Born in the United States</td>\n",
              "      <td>Native- Born in the United States</td>\n",
              "      <td>Native- Born in the United States</td>\n",
              "      <td>Native- Born in the United States</td>\n",
              "      <td>Native- Born in the United States</td>\n",
              "    </tr>\n",
              "    <tr>\n",
              "      <th>business_or_self_employed</th>\n",
              "      <td>0</td>\n",
              "      <td>0</td>\n",
              "      <td>0</td>\n",
              "      <td>0</td>\n",
              "      <td>0</td>\n",
              "      <td>0</td>\n",
              "      <td>0</td>\n",
              "      <td>0</td>\n",
              "      <td>0</td>\n",
              "      <td>0</td>\n",
              "    </tr>\n",
              "    <tr>\n",
              "      <th>fill_questionnaire_veteran_admin</th>\n",
              "      <td>NaN</td>\n",
              "      <td>NaN</td>\n",
              "      <td>NaN</td>\n",
              "      <td>NaN</td>\n",
              "      <td>NaN</td>\n",
              "      <td>NaN</td>\n",
              "      <td>NaN</td>\n",
              "      <td>NaN</td>\n",
              "      <td>NaN</td>\n",
              "      <td>NaN</td>\n",
              "    </tr>\n",
              "    <tr>\n",
              "      <th>veterans_benefits</th>\n",
              "      <td>2</td>\n",
              "      <td>2</td>\n",
              "      <td>2</td>\n",
              "      <td>2</td>\n",
              "      <td>2</td>\n",
              "      <td>2</td>\n",
              "      <td>2</td>\n",
              "      <td>2</td>\n",
              "      <td>2</td>\n",
              "      <td>2</td>\n",
              "    </tr>\n",
              "    <tr>\n",
              "      <th>weeks_worked_in_year</th>\n",
              "      <td>13</td>\n",
              "      <td>52</td>\n",
              "      <td>52</td>\n",
              "      <td>52</td>\n",
              "      <td>52</td>\n",
              "      <td>0</td>\n",
              "      <td>0</td>\n",
              "      <td>24</td>\n",
              "      <td>52</td>\n",
              "      <td>52</td>\n",
              "    </tr>\n",
              "    <tr>\n",
              "      <th>year</th>\n",
              "      <td>94</td>\n",
              "      <td>94</td>\n",
              "      <td>94</td>\n",
              "      <td>94</td>\n",
              "      <td>94</td>\n",
              "      <td>94</td>\n",
              "      <td>94</td>\n",
              "      <td>94</td>\n",
              "      <td>95</td>\n",
              "      <td>95</td>\n",
              "    </tr>\n",
              "    <tr>\n",
              "      <th>income_level</th>\n",
              "      <td>0</td>\n",
              "      <td>0</td>\n",
              "      <td>0</td>\n",
              "      <td>0</td>\n",
              "      <td>0</td>\n",
              "      <td>0</td>\n",
              "      <td>0</td>\n",
              "      <td>0</td>\n",
              "      <td>0</td>\n",
              "      <td>1</td>\n",
              "    </tr>\n",
              "  </tbody>\n",
              "</table>\n",
              "</div>\n",
              "      <button class=\"colab-df-convert\" onclick=\"convertToInteractive('df-649086ce-6448-4c1f-a7f2-2a6377f1bb20')\"\n",
              "              title=\"Convert this dataframe to an interactive table.\"\n",
              "              style=\"display:none;\">\n",
              "        \n",
              "  <svg xmlns=\"http://www.w3.org/2000/svg\" height=\"24px\"viewBox=\"0 0 24 24\"\n",
              "       width=\"24px\">\n",
              "    <path d=\"M0 0h24v24H0V0z\" fill=\"none\"/>\n",
              "    <path d=\"M18.56 5.44l.94 2.06.94-2.06 2.06-.94-2.06-.94-.94-2.06-.94 2.06-2.06.94zm-11 1L8.5 8.5l.94-2.06 2.06-.94-2.06-.94L8.5 2.5l-.94 2.06-2.06.94zm10 10l.94 2.06.94-2.06 2.06-.94-2.06-.94-.94-2.06-.94 2.06-2.06.94z\"/><path d=\"M17.41 7.96l-1.37-1.37c-.4-.4-.92-.59-1.43-.59-.52 0-1.04.2-1.43.59L10.3 9.45l-7.72 7.72c-.78.78-.78 2.05 0 2.83L4 21.41c.39.39.9.59 1.41.59.51 0 1.02-.2 1.41-.59l7.78-7.78 2.81-2.81c.8-.78.8-2.07 0-2.86zM5.41 20L4 18.59l7.72-7.72 1.47 1.35L5.41 20z\"/>\n",
              "  </svg>\n",
              "      </button>\n",
              "      \n",
              "  <style>\n",
              "    .colab-df-container {\n",
              "      display:flex;\n",
              "      flex-wrap:wrap;\n",
              "      gap: 12px;\n",
              "    }\n",
              "\n",
              "    .colab-df-convert {\n",
              "      background-color: #E8F0FE;\n",
              "      border: none;\n",
              "      border-radius: 50%;\n",
              "      cursor: pointer;\n",
              "      display: none;\n",
              "      fill: #1967D2;\n",
              "      height: 32px;\n",
              "      padding: 0 0 0 0;\n",
              "      width: 32px;\n",
              "    }\n",
              "\n",
              "    .colab-df-convert:hover {\n",
              "      background-color: #E2EBFA;\n",
              "      box-shadow: 0px 1px 2px rgba(60, 64, 67, 0.3), 0px 1px 3px 1px rgba(60, 64, 67, 0.15);\n",
              "      fill: #174EA6;\n",
              "    }\n",
              "\n",
              "    [theme=dark] .colab-df-convert {\n",
              "      background-color: #3B4455;\n",
              "      fill: #D2E3FC;\n",
              "    }\n",
              "\n",
              "    [theme=dark] .colab-df-convert:hover {\n",
              "      background-color: #434B5C;\n",
              "      box-shadow: 0px 1px 3px 1px rgba(0, 0, 0, 0.15);\n",
              "      filter: drop-shadow(0px 1px 2px rgba(0, 0, 0, 0.3));\n",
              "      fill: #FFFFFF;\n",
              "    }\n",
              "  </style>\n",
              "\n",
              "      <script>\n",
              "        const buttonEl =\n",
              "          document.querySelector('#df-649086ce-6448-4c1f-a7f2-2a6377f1bb20 button.colab-df-convert');\n",
              "        buttonEl.style.display =\n",
              "          google.colab.kernel.accessAllowed ? 'block' : 'none';\n",
              "\n",
              "        async function convertToInteractive(key) {\n",
              "          const element = document.querySelector('#df-649086ce-6448-4c1f-a7f2-2a6377f1bb20');\n",
              "          const dataTable =\n",
              "            await google.colab.kernel.invokeFunction('convertToInteractive',\n",
              "                                                     [key], {});\n",
              "          if (!dataTable) return;\n",
              "\n",
              "          const docLinkHtml = 'Like what you see? Visit the ' +\n",
              "            '<a target=\"_blank\" href=https://colab.research.google.com/notebooks/data_table.ipynb>data table notebook</a>'\n",
              "            + ' to learn more about interactive tables.';\n",
              "          element.innerHTML = '';\n",
              "          dataTable['output_type'] = 'display_data';\n",
              "          await google.colab.output.renderOutput(dataTable, element);\n",
              "          const docLink = document.createElement('div');\n",
              "          docLink.innerHTML = docLinkHtml;\n",
              "          element.appendChild(docLink);\n",
              "        }\n",
              "      </script>\n",
              "    </div>\n",
              "  </div>\n",
              "  "
            ]
          },
          "metadata": {},
          "execution_count": 10
        }
      ]
    },
    {
      "cell_type": "code",
      "source": [
        "df_eval = pd.read_csv('https://raw.githubusercontent.com/dphi-official/Datasets/master/Census_Income/Testing_set_census.csv',\n",
        "                         na_values=[' ', 'NA', ' ?', 'Do not know', ' Do not know',\n",
        "                                   'Not in universe', ' Not in universe'])"
      ],
      "metadata": {
        "id": "g4zocRreKB9O"
      },
      "execution_count": 11,
      "outputs": []
    },
    {
      "cell_type": "code",
      "source": [
        "df_eval.head().T"
      ],
      "metadata": {
        "colab": {
          "base_uri": "https://localhost:8080/",
          "height": 1000
        },
        "id": "BeOmXbvFKMzQ",
        "outputId": "326ad1cb-e338-40a3-ffee-85f507a8e241"
      },
      "execution_count": 12,
      "outputs": [
        {
          "output_type": "execute_result",
          "data": {
            "text/plain": [
              "                                                                  0  \\\n",
              "age                                                              65   \n",
              "class_of_worker                                                 NaN   \n",
              "industry_code                                                     0   \n",
              "occupation_code                                                   0   \n",
              "education                                     12th grade no diploma   \n",
              "wage_per_hour                                                     0   \n",
              "enrolled_in_edu_inst_lastwk                                     NaN   \n",
              "marital_status                      Married-civilian spouse present   \n",
              "major_industry_code                     Not in universe or children   \n",
              "major_occupation_code                                           NaN   \n",
              "race                                                          White   \n",
              "hispanic_origin                                           All other   \n",
              "sex                                                            Male   \n",
              "member_of_labor_union                                           NaN   \n",
              "reason_for_unemployment                                         NaN   \n",
              "full_parttime_employment_stat              Children or Armed Forces   \n",
              "capital_gains                                                     0   \n",
              "capital_losses                                                    0   \n",
              "dividend_from_Stocks                                              0   \n",
              "tax_filer_status                       Joint one under 65 & one 65+   \n",
              "region_of_previous_residence                                    NaN   \n",
              "state_of_previous_residence                                     NaN   \n",
              "d_household_family_stat                                 Householder   \n",
              "d_household_summary                                     Householder   \n",
              "migration_msa                                              Nonmover   \n",
              "migration_reg                                              Nonmover   \n",
              "migration_within_reg                                       Nonmover   \n",
              "live_1_year_ago                                                 Yes   \n",
              "migration_sunbelt                                               NaN   \n",
              "num_person_Worked_employer                                        0   \n",
              "family_members_under_18                                         NaN   \n",
              "country_father                                        United-States   \n",
              "country_mother                                        United-States   \n",
              "country_self                                          United-States   \n",
              "citizenship                       Native- Born in the United States   \n",
              "business_or_self_employed                                         0   \n",
              "fill_questionnaire_veteran_admin                                NaN   \n",
              "veterans_benefits                                                 2   \n",
              "weeks_worked_in_year                                              0   \n",
              "year                                                             94   \n",
              "\n",
              "                                                                  1  \\\n",
              "age                                                              75   \n",
              "class_of_worker                                                 NaN   \n",
              "industry_code                                                     0   \n",
              "occupation_code                                                   0   \n",
              "education                                Bachelors degree(BA AB BS)   \n",
              "wage_per_hour                                                     0   \n",
              "enrolled_in_edu_inst_lastwk                                     NaN   \n",
              "marital_status                                             Divorced   \n",
              "major_industry_code                     Not in universe or children   \n",
              "major_occupation_code                                           NaN   \n",
              "race                                                          White   \n",
              "hispanic_origin                                           All other   \n",
              "sex                                                          Female   \n",
              "member_of_labor_union                                           NaN   \n",
              "reason_for_unemployment                                         NaN   \n",
              "full_parttime_employment_stat                    Not in labor force   \n",
              "capital_gains                                                     0   \n",
              "capital_losses                                                    0   \n",
              "dividend_from_Stocks                                              0   \n",
              "tax_filer_status                                           Nonfiler   \n",
              "region_of_previous_residence                                    NaN   \n",
              "state_of_previous_residence                                     NaN   \n",
              "d_household_family_stat                       Nonfamily householder   \n",
              "d_household_summary                                     Householder   \n",
              "migration_msa                                                   NaN   \n",
              "migration_reg                                                   NaN   \n",
              "migration_within_reg                                            NaN   \n",
              "live_1_year_ago                    Not in universe under 1 year old   \n",
              "migration_sunbelt                                               NaN   \n",
              "num_person_Worked_employer                                        0   \n",
              "family_members_under_18                                         NaN   \n",
              "country_father                                               France   \n",
              "country_mother                                                  NaN   \n",
              "country_self                                          United-States   \n",
              "citizenship                       Native- Born in the United States   \n",
              "business_or_self_employed                                         0   \n",
              "fill_questionnaire_veteran_admin                                NaN   \n",
              "veterans_benefits                                                 2   \n",
              "weeks_worked_in_year                                              0   \n",
              "year                                                             95   \n",
              "\n",
              "                                                                  2  \\\n",
              "age                                                              26   \n",
              "class_of_worker                                                 NaN   \n",
              "industry_code                                                     0   \n",
              "occupation_code                                                   0   \n",
              "education                                      High school graduate   \n",
              "wage_per_hour                                                     0   \n",
              "enrolled_in_edu_inst_lastwk                                     NaN   \n",
              "marital_status                      Married-civilian spouse present   \n",
              "major_industry_code                     Not in universe or children   \n",
              "major_occupation_code                                           NaN   \n",
              "race                                                          White   \n",
              "hispanic_origin                                        Puerto Rican   \n",
              "sex                                                          Female   \n",
              "member_of_labor_union                                           NaN   \n",
              "reason_for_unemployment                                         NaN   \n",
              "full_parttime_employment_stat              Children or Armed Forces   \n",
              "capital_gains                                                     0   \n",
              "capital_losses                                                    0   \n",
              "dividend_from_Stocks                                              0   \n",
              "tax_filer_status                                Joint both under 65   \n",
              "region_of_previous_residence                                    NaN   \n",
              "state_of_previous_residence                                     NaN   \n",
              "d_household_family_stat                                 Householder   \n",
              "d_household_summary                                     Householder   \n",
              "migration_msa                                              Nonmover   \n",
              "migration_reg                                              Nonmover   \n",
              "migration_within_reg                                       Nonmover   \n",
              "live_1_year_ago                                                 Yes   \n",
              "migration_sunbelt                                               NaN   \n",
              "num_person_Worked_employer                                        0   \n",
              "family_members_under_18                                         NaN   \n",
              "country_father                                        United-States   \n",
              "country_mother                                        United-States   \n",
              "country_self                                          United-States   \n",
              "citizenship                       Native- Born in the United States   \n",
              "business_or_self_employed                                         0   \n",
              "fill_questionnaire_veteran_admin                                NaN   \n",
              "veterans_benefits                                                 2   \n",
              "weeks_worked_in_year                                              0   \n",
              "year                                                             94   \n",
              "\n",
              "                                                                   3  \\\n",
              "age                                                               42   \n",
              "class_of_worker                           Self-employed-incorporated   \n",
              "industry_code                                                      2   \n",
              "occupation_code                                                   43   \n",
              "education                                 Bachelors degree(BA AB BS)   \n",
              "wage_per_hour                                                      0   \n",
              "enrolled_in_edu_inst_lastwk                                      NaN   \n",
              "marital_status                       Married-civilian spouse present   \n",
              "major_industry_code                                      Agriculture   \n",
              "major_occupation_code                   Farming forestry and fishing   \n",
              "race                                                           White   \n",
              "hispanic_origin                                            All other   \n",
              "sex                                                           Female   \n",
              "member_of_labor_union                                            NaN   \n",
              "reason_for_unemployment                                          NaN   \n",
              "full_parttime_employment_stat     PT for non-econ reasons usually FT   \n",
              "capital_gains                                                      0   \n",
              "capital_losses                                                     0   \n",
              "dividend_from_Stocks                                             115   \n",
              "tax_filer_status                                 Joint both under 65   \n",
              "region_of_previous_residence                                     NaN   \n",
              "state_of_previous_residence                                      NaN   \n",
              "d_household_family_stat                        Spouse of householder   \n",
              "d_household_summary                            Spouse of householder   \n",
              "migration_msa                                                    NaN   \n",
              "migration_reg                                                    NaN   \n",
              "migration_within_reg                                             NaN   \n",
              "live_1_year_ago                     Not in universe under 1 year old   \n",
              "migration_sunbelt                                                NaN   \n",
              "num_person_Worked_employer                                         1   \n",
              "family_members_under_18                                          NaN   \n",
              "country_father                                         United-States   \n",
              "country_mother                                         United-States   \n",
              "country_self                                           United-States   \n",
              "citizenship                        Native- Born in the United States   \n",
              "business_or_self_employed                                          0   \n",
              "fill_questionnaire_veteran_admin                                 NaN   \n",
              "veterans_benefits                                                  2   \n",
              "weeks_worked_in_year                                              52   \n",
              "year                                                              95   \n",
              "\n",
              "                                                                   4  \n",
              "age                                                               35  \n",
              "class_of_worker                                              Private  \n",
              "industry_code                                                     33  \n",
              "occupation_code                                                   26  \n",
              "education                                 Some college but no degree  \n",
              "wage_per_hour                                                      0  \n",
              "enrolled_in_edu_inst_lastwk                                      NaN  \n",
              "marital_status                       Married-civilian spouse present  \n",
              "major_industry_code                                     Retail trade  \n",
              "major_occupation_code                 Adm support including clerical  \n",
              "race                                                           White  \n",
              "hispanic_origin                                            All other  \n",
              "sex                                                           Female  \n",
              "member_of_labor_union                                            NaN  \n",
              "reason_for_unemployment                                          NaN  \n",
              "full_parttime_employment_stat               Children or Armed Forces  \n",
              "capital_gains                                                      0  \n",
              "capital_losses                                                     0  \n",
              "dividend_from_Stocks                                             500  \n",
              "tax_filer_status                                 Joint both under 65  \n",
              "region_of_previous_residence                                   South  \n",
              "state_of_previous_residence                                Louisiana  \n",
              "d_household_family_stat                        Spouse of householder  \n",
              "d_household_summary                            Spouse of householder  \n",
              "migration_msa                                             MSA to MSA  \n",
              "migration_reg                                            Same county  \n",
              "migration_within_reg                                     Same county  \n",
              "live_1_year_ago                                                   No  \n",
              "migration_sunbelt                                                 No  \n",
              "num_person_Worked_employer                                         3  \n",
              "family_members_under_18                                          NaN  \n",
              "country_father                                         United-States  \n",
              "country_mother                                         United-States  \n",
              "country_self                                           United-States  \n",
              "citizenship                        Native- Born in the United States  \n",
              "business_or_self_employed                                          0  \n",
              "fill_questionnaire_veteran_admin                                 NaN  \n",
              "veterans_benefits                                                  2  \n",
              "weeks_worked_in_year                                              52  \n",
              "year                                                              94  "
            ],
            "text/html": [
              "\n",
              "  <div id=\"df-66a6be89-9eb1-4025-b00d-47e5f23ef40d\">\n",
              "    <div class=\"colab-df-container\">\n",
              "      <div>\n",
              "<style scoped>\n",
              "    .dataframe tbody tr th:only-of-type {\n",
              "        vertical-align: middle;\n",
              "    }\n",
              "\n",
              "    .dataframe tbody tr th {\n",
              "        vertical-align: top;\n",
              "    }\n",
              "\n",
              "    .dataframe thead th {\n",
              "        text-align: right;\n",
              "    }\n",
              "</style>\n",
              "<table border=\"1\" class=\"dataframe\">\n",
              "  <thead>\n",
              "    <tr style=\"text-align: right;\">\n",
              "      <th></th>\n",
              "      <th>0</th>\n",
              "      <th>1</th>\n",
              "      <th>2</th>\n",
              "      <th>3</th>\n",
              "      <th>4</th>\n",
              "    </tr>\n",
              "  </thead>\n",
              "  <tbody>\n",
              "    <tr>\n",
              "      <th>age</th>\n",
              "      <td>65</td>\n",
              "      <td>75</td>\n",
              "      <td>26</td>\n",
              "      <td>42</td>\n",
              "      <td>35</td>\n",
              "    </tr>\n",
              "    <tr>\n",
              "      <th>class_of_worker</th>\n",
              "      <td>NaN</td>\n",
              "      <td>NaN</td>\n",
              "      <td>NaN</td>\n",
              "      <td>Self-employed-incorporated</td>\n",
              "      <td>Private</td>\n",
              "    </tr>\n",
              "    <tr>\n",
              "      <th>industry_code</th>\n",
              "      <td>0</td>\n",
              "      <td>0</td>\n",
              "      <td>0</td>\n",
              "      <td>2</td>\n",
              "      <td>33</td>\n",
              "    </tr>\n",
              "    <tr>\n",
              "      <th>occupation_code</th>\n",
              "      <td>0</td>\n",
              "      <td>0</td>\n",
              "      <td>0</td>\n",
              "      <td>43</td>\n",
              "      <td>26</td>\n",
              "    </tr>\n",
              "    <tr>\n",
              "      <th>education</th>\n",
              "      <td>12th grade no diploma</td>\n",
              "      <td>Bachelors degree(BA AB BS)</td>\n",
              "      <td>High school graduate</td>\n",
              "      <td>Bachelors degree(BA AB BS)</td>\n",
              "      <td>Some college but no degree</td>\n",
              "    </tr>\n",
              "    <tr>\n",
              "      <th>wage_per_hour</th>\n",
              "      <td>0</td>\n",
              "      <td>0</td>\n",
              "      <td>0</td>\n",
              "      <td>0</td>\n",
              "      <td>0</td>\n",
              "    </tr>\n",
              "    <tr>\n",
              "      <th>enrolled_in_edu_inst_lastwk</th>\n",
              "      <td>NaN</td>\n",
              "      <td>NaN</td>\n",
              "      <td>NaN</td>\n",
              "      <td>NaN</td>\n",
              "      <td>NaN</td>\n",
              "    </tr>\n",
              "    <tr>\n",
              "      <th>marital_status</th>\n",
              "      <td>Married-civilian spouse present</td>\n",
              "      <td>Divorced</td>\n",
              "      <td>Married-civilian spouse present</td>\n",
              "      <td>Married-civilian spouse present</td>\n",
              "      <td>Married-civilian spouse present</td>\n",
              "    </tr>\n",
              "    <tr>\n",
              "      <th>major_industry_code</th>\n",
              "      <td>Not in universe or children</td>\n",
              "      <td>Not in universe or children</td>\n",
              "      <td>Not in universe or children</td>\n",
              "      <td>Agriculture</td>\n",
              "      <td>Retail trade</td>\n",
              "    </tr>\n",
              "    <tr>\n",
              "      <th>major_occupation_code</th>\n",
              "      <td>NaN</td>\n",
              "      <td>NaN</td>\n",
              "      <td>NaN</td>\n",
              "      <td>Farming forestry and fishing</td>\n",
              "      <td>Adm support including clerical</td>\n",
              "    </tr>\n",
              "    <tr>\n",
              "      <th>race</th>\n",
              "      <td>White</td>\n",
              "      <td>White</td>\n",
              "      <td>White</td>\n",
              "      <td>White</td>\n",
              "      <td>White</td>\n",
              "    </tr>\n",
              "    <tr>\n",
              "      <th>hispanic_origin</th>\n",
              "      <td>All other</td>\n",
              "      <td>All other</td>\n",
              "      <td>Puerto Rican</td>\n",
              "      <td>All other</td>\n",
              "      <td>All other</td>\n",
              "    </tr>\n",
              "    <tr>\n",
              "      <th>sex</th>\n",
              "      <td>Male</td>\n",
              "      <td>Female</td>\n",
              "      <td>Female</td>\n",
              "      <td>Female</td>\n",
              "      <td>Female</td>\n",
              "    </tr>\n",
              "    <tr>\n",
              "      <th>member_of_labor_union</th>\n",
              "      <td>NaN</td>\n",
              "      <td>NaN</td>\n",
              "      <td>NaN</td>\n",
              "      <td>NaN</td>\n",
              "      <td>NaN</td>\n",
              "    </tr>\n",
              "    <tr>\n",
              "      <th>reason_for_unemployment</th>\n",
              "      <td>NaN</td>\n",
              "      <td>NaN</td>\n",
              "      <td>NaN</td>\n",
              "      <td>NaN</td>\n",
              "      <td>NaN</td>\n",
              "    </tr>\n",
              "    <tr>\n",
              "      <th>full_parttime_employment_stat</th>\n",
              "      <td>Children or Armed Forces</td>\n",
              "      <td>Not in labor force</td>\n",
              "      <td>Children or Armed Forces</td>\n",
              "      <td>PT for non-econ reasons usually FT</td>\n",
              "      <td>Children or Armed Forces</td>\n",
              "    </tr>\n",
              "    <tr>\n",
              "      <th>capital_gains</th>\n",
              "      <td>0</td>\n",
              "      <td>0</td>\n",
              "      <td>0</td>\n",
              "      <td>0</td>\n",
              "      <td>0</td>\n",
              "    </tr>\n",
              "    <tr>\n",
              "      <th>capital_losses</th>\n",
              "      <td>0</td>\n",
              "      <td>0</td>\n",
              "      <td>0</td>\n",
              "      <td>0</td>\n",
              "      <td>0</td>\n",
              "    </tr>\n",
              "    <tr>\n",
              "      <th>dividend_from_Stocks</th>\n",
              "      <td>0</td>\n",
              "      <td>0</td>\n",
              "      <td>0</td>\n",
              "      <td>115</td>\n",
              "      <td>500</td>\n",
              "    </tr>\n",
              "    <tr>\n",
              "      <th>tax_filer_status</th>\n",
              "      <td>Joint one under 65 &amp; one 65+</td>\n",
              "      <td>Nonfiler</td>\n",
              "      <td>Joint both under 65</td>\n",
              "      <td>Joint both under 65</td>\n",
              "      <td>Joint both under 65</td>\n",
              "    </tr>\n",
              "    <tr>\n",
              "      <th>region_of_previous_residence</th>\n",
              "      <td>NaN</td>\n",
              "      <td>NaN</td>\n",
              "      <td>NaN</td>\n",
              "      <td>NaN</td>\n",
              "      <td>South</td>\n",
              "    </tr>\n",
              "    <tr>\n",
              "      <th>state_of_previous_residence</th>\n",
              "      <td>NaN</td>\n",
              "      <td>NaN</td>\n",
              "      <td>NaN</td>\n",
              "      <td>NaN</td>\n",
              "      <td>Louisiana</td>\n",
              "    </tr>\n",
              "    <tr>\n",
              "      <th>d_household_family_stat</th>\n",
              "      <td>Householder</td>\n",
              "      <td>Nonfamily householder</td>\n",
              "      <td>Householder</td>\n",
              "      <td>Spouse of householder</td>\n",
              "      <td>Spouse of householder</td>\n",
              "    </tr>\n",
              "    <tr>\n",
              "      <th>d_household_summary</th>\n",
              "      <td>Householder</td>\n",
              "      <td>Householder</td>\n",
              "      <td>Householder</td>\n",
              "      <td>Spouse of householder</td>\n",
              "      <td>Spouse of householder</td>\n",
              "    </tr>\n",
              "    <tr>\n",
              "      <th>migration_msa</th>\n",
              "      <td>Nonmover</td>\n",
              "      <td>NaN</td>\n",
              "      <td>Nonmover</td>\n",
              "      <td>NaN</td>\n",
              "      <td>MSA to MSA</td>\n",
              "    </tr>\n",
              "    <tr>\n",
              "      <th>migration_reg</th>\n",
              "      <td>Nonmover</td>\n",
              "      <td>NaN</td>\n",
              "      <td>Nonmover</td>\n",
              "      <td>NaN</td>\n",
              "      <td>Same county</td>\n",
              "    </tr>\n",
              "    <tr>\n",
              "      <th>migration_within_reg</th>\n",
              "      <td>Nonmover</td>\n",
              "      <td>NaN</td>\n",
              "      <td>Nonmover</td>\n",
              "      <td>NaN</td>\n",
              "      <td>Same county</td>\n",
              "    </tr>\n",
              "    <tr>\n",
              "      <th>live_1_year_ago</th>\n",
              "      <td>Yes</td>\n",
              "      <td>Not in universe under 1 year old</td>\n",
              "      <td>Yes</td>\n",
              "      <td>Not in universe under 1 year old</td>\n",
              "      <td>No</td>\n",
              "    </tr>\n",
              "    <tr>\n",
              "      <th>migration_sunbelt</th>\n",
              "      <td>NaN</td>\n",
              "      <td>NaN</td>\n",
              "      <td>NaN</td>\n",
              "      <td>NaN</td>\n",
              "      <td>No</td>\n",
              "    </tr>\n",
              "    <tr>\n",
              "      <th>num_person_Worked_employer</th>\n",
              "      <td>0</td>\n",
              "      <td>0</td>\n",
              "      <td>0</td>\n",
              "      <td>1</td>\n",
              "      <td>3</td>\n",
              "    </tr>\n",
              "    <tr>\n",
              "      <th>family_members_under_18</th>\n",
              "      <td>NaN</td>\n",
              "      <td>NaN</td>\n",
              "      <td>NaN</td>\n",
              "      <td>NaN</td>\n",
              "      <td>NaN</td>\n",
              "    </tr>\n",
              "    <tr>\n",
              "      <th>country_father</th>\n",
              "      <td>United-States</td>\n",
              "      <td>France</td>\n",
              "      <td>United-States</td>\n",
              "      <td>United-States</td>\n",
              "      <td>United-States</td>\n",
              "    </tr>\n",
              "    <tr>\n",
              "      <th>country_mother</th>\n",
              "      <td>United-States</td>\n",
              "      <td>NaN</td>\n",
              "      <td>United-States</td>\n",
              "      <td>United-States</td>\n",
              "      <td>United-States</td>\n",
              "    </tr>\n",
              "    <tr>\n",
              "      <th>country_self</th>\n",
              "      <td>United-States</td>\n",
              "      <td>United-States</td>\n",
              "      <td>United-States</td>\n",
              "      <td>United-States</td>\n",
              "      <td>United-States</td>\n",
              "    </tr>\n",
              "    <tr>\n",
              "      <th>citizenship</th>\n",
              "      <td>Native- Born in the United States</td>\n",
              "      <td>Native- Born in the United States</td>\n",
              "      <td>Native- Born in the United States</td>\n",
              "      <td>Native- Born in the United States</td>\n",
              "      <td>Native- Born in the United States</td>\n",
              "    </tr>\n",
              "    <tr>\n",
              "      <th>business_or_self_employed</th>\n",
              "      <td>0</td>\n",
              "      <td>0</td>\n",
              "      <td>0</td>\n",
              "      <td>0</td>\n",
              "      <td>0</td>\n",
              "    </tr>\n",
              "    <tr>\n",
              "      <th>fill_questionnaire_veteran_admin</th>\n",
              "      <td>NaN</td>\n",
              "      <td>NaN</td>\n",
              "      <td>NaN</td>\n",
              "      <td>NaN</td>\n",
              "      <td>NaN</td>\n",
              "    </tr>\n",
              "    <tr>\n",
              "      <th>veterans_benefits</th>\n",
              "      <td>2</td>\n",
              "      <td>2</td>\n",
              "      <td>2</td>\n",
              "      <td>2</td>\n",
              "      <td>2</td>\n",
              "    </tr>\n",
              "    <tr>\n",
              "      <th>weeks_worked_in_year</th>\n",
              "      <td>0</td>\n",
              "      <td>0</td>\n",
              "      <td>0</td>\n",
              "      <td>52</td>\n",
              "      <td>52</td>\n",
              "    </tr>\n",
              "    <tr>\n",
              "      <th>year</th>\n",
              "      <td>94</td>\n",
              "      <td>95</td>\n",
              "      <td>94</td>\n",
              "      <td>95</td>\n",
              "      <td>94</td>\n",
              "    </tr>\n",
              "  </tbody>\n",
              "</table>\n",
              "</div>\n",
              "      <button class=\"colab-df-convert\" onclick=\"convertToInteractive('df-66a6be89-9eb1-4025-b00d-47e5f23ef40d')\"\n",
              "              title=\"Convert this dataframe to an interactive table.\"\n",
              "              style=\"display:none;\">\n",
              "        \n",
              "  <svg xmlns=\"http://www.w3.org/2000/svg\" height=\"24px\"viewBox=\"0 0 24 24\"\n",
              "       width=\"24px\">\n",
              "    <path d=\"M0 0h24v24H0V0z\" fill=\"none\"/>\n",
              "    <path d=\"M18.56 5.44l.94 2.06.94-2.06 2.06-.94-2.06-.94-.94-2.06-.94 2.06-2.06.94zm-11 1L8.5 8.5l.94-2.06 2.06-.94-2.06-.94L8.5 2.5l-.94 2.06-2.06.94zm10 10l.94 2.06.94-2.06 2.06-.94-2.06-.94-.94-2.06-.94 2.06-2.06.94z\"/><path d=\"M17.41 7.96l-1.37-1.37c-.4-.4-.92-.59-1.43-.59-.52 0-1.04.2-1.43.59L10.3 9.45l-7.72 7.72c-.78.78-.78 2.05 0 2.83L4 21.41c.39.39.9.59 1.41.59.51 0 1.02-.2 1.41-.59l7.78-7.78 2.81-2.81c.8-.78.8-2.07 0-2.86zM5.41 20L4 18.59l7.72-7.72 1.47 1.35L5.41 20z\"/>\n",
              "  </svg>\n",
              "      </button>\n",
              "      \n",
              "  <style>\n",
              "    .colab-df-container {\n",
              "      display:flex;\n",
              "      flex-wrap:wrap;\n",
              "      gap: 12px;\n",
              "    }\n",
              "\n",
              "    .colab-df-convert {\n",
              "      background-color: #E8F0FE;\n",
              "      border: none;\n",
              "      border-radius: 50%;\n",
              "      cursor: pointer;\n",
              "      display: none;\n",
              "      fill: #1967D2;\n",
              "      height: 32px;\n",
              "      padding: 0 0 0 0;\n",
              "      width: 32px;\n",
              "    }\n",
              "\n",
              "    .colab-df-convert:hover {\n",
              "      background-color: #E2EBFA;\n",
              "      box-shadow: 0px 1px 2px rgba(60, 64, 67, 0.3), 0px 1px 3px 1px rgba(60, 64, 67, 0.15);\n",
              "      fill: #174EA6;\n",
              "    }\n",
              "\n",
              "    [theme=dark] .colab-df-convert {\n",
              "      background-color: #3B4455;\n",
              "      fill: #D2E3FC;\n",
              "    }\n",
              "\n",
              "    [theme=dark] .colab-df-convert:hover {\n",
              "      background-color: #434B5C;\n",
              "      box-shadow: 0px 1px 3px 1px rgba(0, 0, 0, 0.15);\n",
              "      filter: drop-shadow(0px 1px 2px rgba(0, 0, 0, 0.3));\n",
              "      fill: #FFFFFF;\n",
              "    }\n",
              "  </style>\n",
              "\n",
              "      <script>\n",
              "        const buttonEl =\n",
              "          document.querySelector('#df-66a6be89-9eb1-4025-b00d-47e5f23ef40d button.colab-df-convert');\n",
              "        buttonEl.style.display =\n",
              "          google.colab.kernel.accessAllowed ? 'block' : 'none';\n",
              "\n",
              "        async function convertToInteractive(key) {\n",
              "          const element = document.querySelector('#df-66a6be89-9eb1-4025-b00d-47e5f23ef40d');\n",
              "          const dataTable =\n",
              "            await google.colab.kernel.invokeFunction('convertToInteractive',\n",
              "                                                     [key], {});\n",
              "          if (!dataTable) return;\n",
              "\n",
              "          const docLinkHtml = 'Like what you see? Visit the ' +\n",
              "            '<a target=\"_blank\" href=https://colab.research.google.com/notebooks/data_table.ipynb>data table notebook</a>'\n",
              "            + ' to learn more about interactive tables.';\n",
              "          element.innerHTML = '';\n",
              "          dataTable['output_type'] = 'display_data';\n",
              "          await google.colab.output.renderOutput(dataTable, element);\n",
              "          const docLink = document.createElement('div');\n",
              "          docLink.innerHTML = docLinkHtml;\n",
              "          element.appendChild(docLink);\n",
              "        }\n",
              "      </script>\n",
              "    </div>\n",
              "  </div>\n",
              "  "
            ]
          },
          "metadata": {},
          "execution_count": 12
        }
      ]
    },
    {
      "cell_type": "code",
      "source": [
        "df.shape"
      ],
      "metadata": {
        "colab": {
          "base_uri": "https://localhost:8080/"
        },
        "id": "wAU7OyFhKXvz",
        "outputId": "b1a6077a-2384-49cc-9cad-86eb04eac54a"
      },
      "execution_count": 13,
      "outputs": [
        {
          "output_type": "execute_result",
          "data": {
            "text/plain": [
              "(200000, 41)"
            ]
          },
          "metadata": {},
          "execution_count": 13
        }
      ]
    },
    {
      "cell_type": "code",
      "source": [
        "df_eval.shape"
      ],
      "metadata": {
        "colab": {
          "base_uri": "https://localhost:8080/"
        },
        "id": "0tZi2idxKauI",
        "outputId": "addb98bf-4de3-4da6-95ed-535d7c036f1b"
      },
      "execution_count": 15,
      "outputs": [
        {
          "output_type": "execute_result",
          "data": {
            "text/plain": [
              "(50000, 40)"
            ]
          },
          "metadata": {},
          "execution_count": 15
        }
      ]
    },
    {
      "cell_type": "code",
      "source": [
        "df.info()"
      ],
      "metadata": {
        "colab": {
          "base_uri": "https://localhost:8080/"
        },
        "id": "hAforJRbKb5K",
        "outputId": "b0da7b0c-8b1d-4d07-9d01-1d94c2c25891"
      },
      "execution_count": 16,
      "outputs": [
        {
          "output_type": "stream",
          "name": "stdout",
          "text": [
            "<class 'pandas.core.frame.DataFrame'>\n",
            "RangeIndex: 200000 entries, 0 to 199999\n",
            "Data columns (total 41 columns):\n",
            " #   Column                            Non-Null Count   Dtype \n",
            "---  ------                            --------------   ----- \n",
            " 0   age                               200000 non-null  int64 \n",
            " 1   class_of_worker                   100856 non-null  object\n",
            " 2   industry_code                     200000 non-null  int64 \n",
            " 3   occupation_code                   200000 non-null  int64 \n",
            " 4   education                         200000 non-null  object\n",
            " 5   wage_per_hour                     200000 non-null  int64 \n",
            " 6   enrolled_in_edu_inst_lastwk       12543 non-null   object\n",
            " 7   marital_status                    200000 non-null  object\n",
            " 8   major_industry_code               200000 non-null  object\n",
            " 9   major_occupation_code             100430 non-null  object\n",
            " 10  race                              200000 non-null  object\n",
            " 11  hispanic_origin                   198850 non-null  object\n",
            " 12  sex                               200000 non-null  object\n",
            " 13  member_of_labor_union             19188 non-null   object\n",
            " 14  reason_for_unemployment           6106 non-null    object\n",
            " 15  full_parttime_employment_stat     200000 non-null  object\n",
            " 16  capital_gains                     200000 non-null  int64 \n",
            " 17  capital_losses                    200000 non-null  int64 \n",
            " 18  dividend_from_Stocks              200000 non-null  int64 \n",
            " 19  tax_filer_status                  200000 non-null  object\n",
            " 20  region_of_previous_residence      15701 non-null   object\n",
            " 21  state_of_previous_residence       15009 non-null   object\n",
            " 22  d_household_family_stat           200000 non-null  object\n",
            " 23  d_household_summary               200000 non-null  object\n",
            " 24  migration_msa                     98535 non-null   object\n",
            " 25  migration_reg                     98535 non-null   object\n",
            " 26  migration_within_reg              98535 non-null   object\n",
            " 27  live_1_year_ago                   200000 non-null  object\n",
            " 28  migration_sunbelt                 15701 non-null   object\n",
            " 29  num_person_Worked_employer        200000 non-null  int64 \n",
            " 30  family_members_under_18           54417 non-null   object\n",
            " 31  country_father                    193218 non-null  object\n",
            " 32  country_mother                    193804 non-null  object\n",
            " 33  country_self                      196507 non-null  object\n",
            " 34  citizenship                       200000 non-null  object\n",
            " 35  business_or_self_employed         200000 non-null  int64 \n",
            " 36  fill_questionnaire_veteran_admin  2064 non-null    object\n",
            " 37  veterans_benefits                 200000 non-null  int64 \n",
            " 38  weeks_worked_in_year              200000 non-null  int64 \n",
            " 39  year                              200000 non-null  int64 \n",
            " 40  income_level                      200000 non-null  int64 \n",
            "dtypes: int64(13), object(28)\n",
            "memory usage: 62.6+ MB\n"
          ]
        }
      ]
    },
    {
      "cell_type": "code",
      "source": [
        "df.nunique()"
      ],
      "metadata": {
        "colab": {
          "base_uri": "https://localhost:8080/"
        },
        "id": "v6Nb1W_IKgUB",
        "outputId": "99766860-f761-4ade-86d1-5f0106188aff"
      },
      "execution_count": 17,
      "outputs": [
        {
          "output_type": "execute_result",
          "data": {
            "text/plain": [
              "age                                   91\n",
              "class_of_worker                       16\n",
              "industry_code                         52\n",
              "occupation_code                       47\n",
              "education                             34\n",
              "wage_per_hour                       1231\n",
              "enrolled_in_edu_inst_lastwk            4\n",
              "marital_status                        14\n",
              "major_industry_code                   48\n",
              "major_occupation_code                 28\n",
              "race                                  10\n",
              "hispanic_origin                       16\n",
              "sex                                    4\n",
              "member_of_labor_union                  4\n",
              "reason_for_unemployment               10\n",
              "full_parttime_employment_stat         16\n",
              "capital_gains                        130\n",
              "capital_losses                       113\n",
              "dividend_from_Stocks                1497\n",
              "tax_filer_status                      12\n",
              "region_of_previous_residence          10\n",
              "state_of_previous_residence           98\n",
              "d_household_family_stat               74\n",
              "d_household_summary                   16\n",
              "migration_msa                         16\n",
              "migration_reg                         14\n",
              "migration_within_reg                  16\n",
              "live_1_year_ago                        6\n",
              "migration_sunbelt                      4\n",
              "num_person_Worked_employer             7\n",
              "family_members_under_18                8\n",
              "country_father                        84\n",
              "country_mother                        84\n",
              "country_self                          84\n",
              "citizenship                           10\n",
              "business_or_self_employed              3\n",
              "fill_questionnaire_veteran_admin       4\n",
              "veterans_benefits                      3\n",
              "weeks_worked_in_year                  53\n",
              "year                                   2\n",
              "income_level                           2\n",
              "dtype: int64"
            ]
          },
          "metadata": {},
          "execution_count": 17
        }
      ]
    },
    {
      "cell_type": "code",
      "source": [
        "df.describe()"
      ],
      "metadata": {
        "colab": {
          "base_uri": "https://localhost:8080/",
          "height": 364
        },
        "id": "95yYFGkaKiZm",
        "outputId": "5f961226-4ad4-403a-ad05-3a24bab81a83"
      },
      "execution_count": 18,
      "outputs": [
        {
          "output_type": "execute_result",
          "data": {
            "text/plain": [
              "                 age  industry_code  occupation_code  wage_per_hour  \\\n",
              "count  200000.000000  200000.000000    200000.000000  200000.000000   \n",
              "mean       34.662495      15.564830        11.326325      54.835700   \n",
              "std        22.225765      18.104961        14.424809     272.034681   \n",
              "min         0.000000       0.000000         0.000000       0.000000   \n",
              "25%        16.000000       0.000000         0.000000       0.000000   \n",
              "50%        33.000000       1.000000         1.000000       0.000000   \n",
              "75%        50.000000      33.000000        26.000000       0.000000   \n",
              "max        90.000000      51.000000        46.000000    9999.000000   \n",
              "\n",
              "       capital_gains  capital_losses  dividend_from_Stocks  \\\n",
              "count  200000.000000   200000.000000         200000.000000   \n",
              "mean      493.561580       38.921275            212.977630   \n",
              "std      5109.900136      277.867944           2062.591247   \n",
              "min         0.000000        0.000000              0.000000   \n",
              "25%         0.000000        0.000000              0.000000   \n",
              "50%         0.000000        0.000000              0.000000   \n",
              "75%         0.000000        0.000000              0.000000   \n",
              "max     99999.000000     4608.000000          99999.000000   \n",
              "\n",
              "       num_person_Worked_employer  business_or_self_employed  \\\n",
              "count               200000.000000              200000.000000   \n",
              "mean                     1.983780                   0.177995   \n",
              "std                      2.372892                   0.557014   \n",
              "min                      0.000000                   0.000000   \n",
              "25%                      0.000000                   0.000000   \n",
              "50%                      1.000000                   0.000000   \n",
              "75%                      4.000000                   0.000000   \n",
              "max                      6.000000                   2.000000   \n",
              "\n",
              "       veterans_benefits  weeks_worked_in_year           year   income_level  \n",
              "count      200000.000000         200000.000000  200000.000000  200000.000000  \n",
              "mean            1.522860             23.541820      94.499800       0.074360  \n",
              "std             0.846346             24.447497       0.500001       0.262357  \n",
              "min             0.000000              0.000000      94.000000       0.000000  \n",
              "25%             2.000000              0.000000      94.000000       0.000000  \n",
              "50%             2.000000             10.000000      94.000000       0.000000  \n",
              "75%             2.000000             52.000000      95.000000       0.000000  \n",
              "max             2.000000             52.000000      95.000000       1.000000  "
            ],
            "text/html": [
              "\n",
              "  <div id=\"df-d8e93c7f-bc91-44f6-9b20-eb394e75df6f\">\n",
              "    <div class=\"colab-df-container\">\n",
              "      <div>\n",
              "<style scoped>\n",
              "    .dataframe tbody tr th:only-of-type {\n",
              "        vertical-align: middle;\n",
              "    }\n",
              "\n",
              "    .dataframe tbody tr th {\n",
              "        vertical-align: top;\n",
              "    }\n",
              "\n",
              "    .dataframe thead th {\n",
              "        text-align: right;\n",
              "    }\n",
              "</style>\n",
              "<table border=\"1\" class=\"dataframe\">\n",
              "  <thead>\n",
              "    <tr style=\"text-align: right;\">\n",
              "      <th></th>\n",
              "      <th>age</th>\n",
              "      <th>industry_code</th>\n",
              "      <th>occupation_code</th>\n",
              "      <th>wage_per_hour</th>\n",
              "      <th>capital_gains</th>\n",
              "      <th>capital_losses</th>\n",
              "      <th>dividend_from_Stocks</th>\n",
              "      <th>num_person_Worked_employer</th>\n",
              "      <th>business_or_self_employed</th>\n",
              "      <th>veterans_benefits</th>\n",
              "      <th>weeks_worked_in_year</th>\n",
              "      <th>year</th>\n",
              "      <th>income_level</th>\n",
              "    </tr>\n",
              "  </thead>\n",
              "  <tbody>\n",
              "    <tr>\n",
              "      <th>count</th>\n",
              "      <td>200000.000000</td>\n",
              "      <td>200000.000000</td>\n",
              "      <td>200000.000000</td>\n",
              "      <td>200000.000000</td>\n",
              "      <td>200000.000000</td>\n",
              "      <td>200000.000000</td>\n",
              "      <td>200000.000000</td>\n",
              "      <td>200000.000000</td>\n",
              "      <td>200000.000000</td>\n",
              "      <td>200000.000000</td>\n",
              "      <td>200000.000000</td>\n",
              "      <td>200000.000000</td>\n",
              "      <td>200000.000000</td>\n",
              "    </tr>\n",
              "    <tr>\n",
              "      <th>mean</th>\n",
              "      <td>34.662495</td>\n",
              "      <td>15.564830</td>\n",
              "      <td>11.326325</td>\n",
              "      <td>54.835700</td>\n",
              "      <td>493.561580</td>\n",
              "      <td>38.921275</td>\n",
              "      <td>212.977630</td>\n",
              "      <td>1.983780</td>\n",
              "      <td>0.177995</td>\n",
              "      <td>1.522860</td>\n",
              "      <td>23.541820</td>\n",
              "      <td>94.499800</td>\n",
              "      <td>0.074360</td>\n",
              "    </tr>\n",
              "    <tr>\n",
              "      <th>std</th>\n",
              "      <td>22.225765</td>\n",
              "      <td>18.104961</td>\n",
              "      <td>14.424809</td>\n",
              "      <td>272.034681</td>\n",
              "      <td>5109.900136</td>\n",
              "      <td>277.867944</td>\n",
              "      <td>2062.591247</td>\n",
              "      <td>2.372892</td>\n",
              "      <td>0.557014</td>\n",
              "      <td>0.846346</td>\n",
              "      <td>24.447497</td>\n",
              "      <td>0.500001</td>\n",
              "      <td>0.262357</td>\n",
              "    </tr>\n",
              "    <tr>\n",
              "      <th>min</th>\n",
              "      <td>0.000000</td>\n",
              "      <td>0.000000</td>\n",
              "      <td>0.000000</td>\n",
              "      <td>0.000000</td>\n",
              "      <td>0.000000</td>\n",
              "      <td>0.000000</td>\n",
              "      <td>0.000000</td>\n",
              "      <td>0.000000</td>\n",
              "      <td>0.000000</td>\n",
              "      <td>0.000000</td>\n",
              "      <td>0.000000</td>\n",
              "      <td>94.000000</td>\n",
              "      <td>0.000000</td>\n",
              "    </tr>\n",
              "    <tr>\n",
              "      <th>25%</th>\n",
              "      <td>16.000000</td>\n",
              "      <td>0.000000</td>\n",
              "      <td>0.000000</td>\n",
              "      <td>0.000000</td>\n",
              "      <td>0.000000</td>\n",
              "      <td>0.000000</td>\n",
              "      <td>0.000000</td>\n",
              "      <td>0.000000</td>\n",
              "      <td>0.000000</td>\n",
              "      <td>2.000000</td>\n",
              "      <td>0.000000</td>\n",
              "      <td>94.000000</td>\n",
              "      <td>0.000000</td>\n",
              "    </tr>\n",
              "    <tr>\n",
              "      <th>50%</th>\n",
              "      <td>33.000000</td>\n",
              "      <td>1.000000</td>\n",
              "      <td>1.000000</td>\n",
              "      <td>0.000000</td>\n",
              "      <td>0.000000</td>\n",
              "      <td>0.000000</td>\n",
              "      <td>0.000000</td>\n",
              "      <td>1.000000</td>\n",
              "      <td>0.000000</td>\n",
              "      <td>2.000000</td>\n",
              "      <td>10.000000</td>\n",
              "      <td>94.000000</td>\n",
              "      <td>0.000000</td>\n",
              "    </tr>\n",
              "    <tr>\n",
              "      <th>75%</th>\n",
              "      <td>50.000000</td>\n",
              "      <td>33.000000</td>\n",
              "      <td>26.000000</td>\n",
              "      <td>0.000000</td>\n",
              "      <td>0.000000</td>\n",
              "      <td>0.000000</td>\n",
              "      <td>0.000000</td>\n",
              "      <td>4.000000</td>\n",
              "      <td>0.000000</td>\n",
              "      <td>2.000000</td>\n",
              "      <td>52.000000</td>\n",
              "      <td>95.000000</td>\n",
              "      <td>0.000000</td>\n",
              "    </tr>\n",
              "    <tr>\n",
              "      <th>max</th>\n",
              "      <td>90.000000</td>\n",
              "      <td>51.000000</td>\n",
              "      <td>46.000000</td>\n",
              "      <td>9999.000000</td>\n",
              "      <td>99999.000000</td>\n",
              "      <td>4608.000000</td>\n",
              "      <td>99999.000000</td>\n",
              "      <td>6.000000</td>\n",
              "      <td>2.000000</td>\n",
              "      <td>2.000000</td>\n",
              "      <td>52.000000</td>\n",
              "      <td>95.000000</td>\n",
              "      <td>1.000000</td>\n",
              "    </tr>\n",
              "  </tbody>\n",
              "</table>\n",
              "</div>\n",
              "      <button class=\"colab-df-convert\" onclick=\"convertToInteractive('df-d8e93c7f-bc91-44f6-9b20-eb394e75df6f')\"\n",
              "              title=\"Convert this dataframe to an interactive table.\"\n",
              "              style=\"display:none;\">\n",
              "        \n",
              "  <svg xmlns=\"http://www.w3.org/2000/svg\" height=\"24px\"viewBox=\"0 0 24 24\"\n",
              "       width=\"24px\">\n",
              "    <path d=\"M0 0h24v24H0V0z\" fill=\"none\"/>\n",
              "    <path d=\"M18.56 5.44l.94 2.06.94-2.06 2.06-.94-2.06-.94-.94-2.06-.94 2.06-2.06.94zm-11 1L8.5 8.5l.94-2.06 2.06-.94-2.06-.94L8.5 2.5l-.94 2.06-2.06.94zm10 10l.94 2.06.94-2.06 2.06-.94-2.06-.94-.94-2.06-.94 2.06-2.06.94z\"/><path d=\"M17.41 7.96l-1.37-1.37c-.4-.4-.92-.59-1.43-.59-.52 0-1.04.2-1.43.59L10.3 9.45l-7.72 7.72c-.78.78-.78 2.05 0 2.83L4 21.41c.39.39.9.59 1.41.59.51 0 1.02-.2 1.41-.59l7.78-7.78 2.81-2.81c.8-.78.8-2.07 0-2.86zM5.41 20L4 18.59l7.72-7.72 1.47 1.35L5.41 20z\"/>\n",
              "  </svg>\n",
              "      </button>\n",
              "      \n",
              "  <style>\n",
              "    .colab-df-container {\n",
              "      display:flex;\n",
              "      flex-wrap:wrap;\n",
              "      gap: 12px;\n",
              "    }\n",
              "\n",
              "    .colab-df-convert {\n",
              "      background-color: #E8F0FE;\n",
              "      border: none;\n",
              "      border-radius: 50%;\n",
              "      cursor: pointer;\n",
              "      display: none;\n",
              "      fill: #1967D2;\n",
              "      height: 32px;\n",
              "      padding: 0 0 0 0;\n",
              "      width: 32px;\n",
              "    }\n",
              "\n",
              "    .colab-df-convert:hover {\n",
              "      background-color: #E2EBFA;\n",
              "      box-shadow: 0px 1px 2px rgba(60, 64, 67, 0.3), 0px 1px 3px 1px rgba(60, 64, 67, 0.15);\n",
              "      fill: #174EA6;\n",
              "    }\n",
              "\n",
              "    [theme=dark] .colab-df-convert {\n",
              "      background-color: #3B4455;\n",
              "      fill: #D2E3FC;\n",
              "    }\n",
              "\n",
              "    [theme=dark] .colab-df-convert:hover {\n",
              "      background-color: #434B5C;\n",
              "      box-shadow: 0px 1px 3px 1px rgba(0, 0, 0, 0.15);\n",
              "      filter: drop-shadow(0px 1px 2px rgba(0, 0, 0, 0.3));\n",
              "      fill: #FFFFFF;\n",
              "    }\n",
              "  </style>\n",
              "\n",
              "      <script>\n",
              "        const buttonEl =\n",
              "          document.querySelector('#df-d8e93c7f-bc91-44f6-9b20-eb394e75df6f button.colab-df-convert');\n",
              "        buttonEl.style.display =\n",
              "          google.colab.kernel.accessAllowed ? 'block' : 'none';\n",
              "\n",
              "        async function convertToInteractive(key) {\n",
              "          const element = document.querySelector('#df-d8e93c7f-bc91-44f6-9b20-eb394e75df6f');\n",
              "          const dataTable =\n",
              "            await google.colab.kernel.invokeFunction('convertToInteractive',\n",
              "                                                     [key], {});\n",
              "          if (!dataTable) return;\n",
              "\n",
              "          const docLinkHtml = 'Like what you see? Visit the ' +\n",
              "            '<a target=\"_blank\" href=https://colab.research.google.com/notebooks/data_table.ipynb>data table notebook</a>'\n",
              "            + ' to learn more about interactive tables.';\n",
              "          element.innerHTML = '';\n",
              "          dataTable['output_type'] = 'display_data';\n",
              "          await google.colab.output.renderOutput(dataTable, element);\n",
              "          const docLink = document.createElement('div');\n",
              "          docLink.innerHTML = docLinkHtml;\n",
              "          element.appendChild(docLink);\n",
              "        }\n",
              "      </script>\n",
              "    </div>\n",
              "  </div>\n",
              "  "
            ]
          },
          "metadata": {},
          "execution_count": 18
        }
      ]
    },
    {
      "cell_type": "code",
      "source": [
        "df['sex'] = df['sex'].str.replace(' ','')"
      ],
      "metadata": {
        "id": "of3WiJnvKk53"
      },
      "execution_count": 19,
      "outputs": []
    },
    {
      "cell_type": "code",
      "source": [
        "df.sex.value_counts()"
      ],
      "metadata": {
        "colab": {
          "base_uri": "https://localhost:8080/"
        },
        "id": "wGdJEHt9Kl-x",
        "outputId": "51952221-1885-49cd-8ab7-1c19b9eda0ac"
      },
      "execution_count": 20,
      "outputs": [
        {
          "output_type": "execute_result",
          "data": {
            "text/plain": [
              "Female    103208\n",
              "Male       96792\n",
              "Name: sex, dtype: int64"
            ]
          },
          "metadata": {},
          "execution_count": 20
        }
      ]
    },
    {
      "cell_type": "code",
      "source": [
        "#Counting Duplicate Values\n",
        "df.duplicated(subset=None,keep='first').value_counts()"
      ],
      "metadata": {
        "colab": {
          "base_uri": "https://localhost:8080/"
        },
        "id": "LAN_DnQNKm6M",
        "outputId": "6b3f0485-9de4-4ed7-bd66-9aaf5fc81c0c"
      },
      "execution_count": 22,
      "outputs": [
        {
          "output_type": "execute_result",
          "data": {
            "text/plain": [
              "False    158450\n",
              "True      41550\n",
              "dtype: int64"
            ]
          },
          "metadata": {},
          "execution_count": 22
        }
      ]
    },
    {
      "cell_type": "code",
      "source": [
        "df = df.drop_duplicates()"
      ],
      "metadata": {
        "id": "M4erugJdKo6Z"
      },
      "execution_count": 23,
      "outputs": []
    },
    {
      "cell_type": "code",
      "source": [
        "missing_values = df.isnull().sum()"
      ],
      "metadata": {
        "id": "0ppKQFrPKrdV"
      },
      "execution_count": 24,
      "outputs": []
    },
    {
      "cell_type": "code",
      "source": [
        "missing_values"
      ],
      "metadata": {
        "colab": {
          "base_uri": "https://localhost:8080/"
        },
        "id": "7XsUdJK_Ksnr",
        "outputId": "e10edecc-44dc-4c44-dc9a-55c39246a982"
      },
      "execution_count": 25,
      "outputs": [
        {
          "output_type": "execute_result",
          "data": {
            "text/plain": [
              "age                                      0\n",
              "class_of_worker                      57925\n",
              "industry_code                            0\n",
              "occupation_code                          0\n",
              "education                                0\n",
              "wage_per_hour                            0\n",
              "enrolled_in_edu_inst_lastwk         147518\n",
              "marital_status                           0\n",
              "major_industry_code                      0\n",
              "major_occupation_code                58316\n",
              "race                                     0\n",
              "hispanic_origin                       1116\n",
              "sex                                      0\n",
              "member_of_labor_union               139266\n",
              "reason_for_unemployment             152380\n",
              "full_parttime_employment_stat            0\n",
              "capital_gains                            0\n",
              "capital_losses                           0\n",
              "dividend_from_Stocks                     0\n",
              "tax_filer_status                         0\n",
              "region_of_previous_residence        142942\n",
              "state_of_previous_residence         143630\n",
              "d_household_family_stat                  0\n",
              "d_household_summary                      0\n",
              "migration_msa                        78252\n",
              "migration_reg                        78252\n",
              "migration_within_reg                 78252\n",
              "live_1_year_ago                          0\n",
              "migration_sunbelt                   142942\n",
              "num_person_Worked_employer               0\n",
              "family_members_under_18             138620\n",
              "country_father                        6566\n",
              "country_mother                        5997\n",
              "country_self                          3452\n",
              "citizenship                              0\n",
              "business_or_self_employed                0\n",
              "fill_questionnaire_veteran_admin    156398\n",
              "veterans_benefits                        0\n",
              "weeks_worked_in_year                     0\n",
              "year                                     0\n",
              "income_level                             0\n",
              "dtype: int64"
            ]
          },
          "metadata": {},
          "execution_count": 25
        }
      ]
    },
    {
      "cell_type": "code",
      "source": [
        "print(missing_values[missing_values>0])"
      ],
      "metadata": {
        "colab": {
          "base_uri": "https://localhost:8080/"
        },
        "id": "oKMmQb43Ktd2",
        "outputId": "46f78f72-95ac-4165-a4c2-f4c3105fa069"
      },
      "execution_count": 26,
      "outputs": [
        {
          "output_type": "stream",
          "name": "stdout",
          "text": [
            "class_of_worker                      57925\n",
            "enrolled_in_edu_inst_lastwk         147518\n",
            "major_occupation_code                58316\n",
            "hispanic_origin                       1116\n",
            "member_of_labor_union               139266\n",
            "reason_for_unemployment             152380\n",
            "region_of_previous_residence        142942\n",
            "state_of_previous_residence         143630\n",
            "migration_msa                        78252\n",
            "migration_reg                        78252\n",
            "migration_within_reg                 78252\n",
            "migration_sunbelt                   142942\n",
            "family_members_under_18             138620\n",
            "country_father                        6566\n",
            "country_mother                        5997\n",
            "country_self                          3452\n",
            "fill_questionnaire_veteran_admin    156398\n",
            "dtype: int64\n"
          ]
        }
      ]
    },
    {
      "cell_type": "code",
      "source": [
        "percentage=(missing_values[missing_values>0]/df.shape[0])*100\n",
        "percentage.round()"
      ],
      "metadata": {
        "colab": {
          "base_uri": "https://localhost:8080/"
        },
        "id": "yhW5I7X6Ku8o",
        "outputId": "96e60d41-b2f6-4c8d-8651-9ee34b8d547b"
      },
      "execution_count": 28,
      "outputs": [
        {
          "output_type": "execute_result",
          "data": {
            "text/plain": [
              "class_of_worker                     37.0\n",
              "enrolled_in_edu_inst_lastwk         93.0\n",
              "major_occupation_code               37.0\n",
              "hispanic_origin                      1.0\n",
              "member_of_labor_union               88.0\n",
              "reason_for_unemployment             96.0\n",
              "region_of_previous_residence        90.0\n",
              "state_of_previous_residence         91.0\n",
              "migration_msa                       49.0\n",
              "migration_reg                       49.0\n",
              "migration_within_reg                49.0\n",
              "migration_sunbelt                   90.0\n",
              "family_members_under_18             87.0\n",
              "country_father                       4.0\n",
              "country_mother                       4.0\n",
              "country_self                         2.0\n",
              "fill_questionnaire_veteran_admin    99.0\n",
              "dtype: float64"
            ]
          },
          "metadata": {},
          "execution_count": 28
        }
      ]
    },
    {
      "cell_type": "code",
      "source": [
        "df.shape"
      ],
      "metadata": {
        "colab": {
          "base_uri": "https://localhost:8080/"
        },
        "id": "W4KoVZ1hKxCE",
        "outputId": "155cf213-84d3-41bd-a3d6-464a1bb69413"
      },
      "execution_count": 29,
      "outputs": [
        {
          "output_type": "execute_result",
          "data": {
            "text/plain": [
              "(158450, 41)"
            ]
          },
          "metadata": {},
          "execution_count": 29
        }
      ]
    },
    {
      "cell_type": "code",
      "source": [
        "#df = df.drop(['migration_msa','migration_reg','enrolled_in_edu_inst_lastwk','member_of_labor_union',\n",
        "#              'migration_within_reg','migration_sunbelt', 'reason_for_unemployment','region_of_previous_residence',\n",
        "#              'state_of_previous_residence','migration_sunbelt','family_members_under_18',\n",
        "#              'fill_questionnaire_veteran_admin'],axis=1)"
      ],
      "metadata": {
        "id": "WJCOPUTTLXMR"
      },
      "execution_count": 39,
      "outputs": []
    },
    {
      "cell_type": "code",
      "source": [
        "df.shape"
      ],
      "metadata": {
        "colab": {
          "base_uri": "https://localhost:8080/"
        },
        "id": "723Kc508KzI4",
        "outputId": "228f6a2f-8928-4d7c-fa4e-4401059385d8"
      },
      "execution_count": 40,
      "outputs": [
        {
          "output_type": "execute_result",
          "data": {
            "text/plain": [
              "(158450, 30)"
            ]
          },
          "metadata": {},
          "execution_count": 40
        }
      ]
    },
    {
      "cell_type": "code",
      "source": [
        "#df_eval = df_eval.drop(['migration_msa','migration_reg','enrolled_in_edu_inst_lastwk','member_of_labor_union',\n",
        "# #              'migration_within_reg','migration_sunbelt', 'reason_for_unemployment','region_of_previous_residence',\n",
        "#               'state_of_previous_residence','migration_sunbelt','family_members_under_18',\n",
        "#               'fill_questionnaire_veteran_admin'],axis=1)\n"
      ],
      "metadata": {
        "colab": {
          "base_uri": "https://localhost:8080/",
          "height": 600
        },
        "id": "hMfmLi0xLS7d",
        "outputId": "cbe806a2-8336-451d-ffcf-791d8af17fe3"
      },
      "execution_count": 41,
      "outputs": [
        {
          "output_type": "error",
          "ename": "KeyError",
          "evalue": "ignored",
          "traceback": [
            "\u001b[0;31m---------------------------------------------------------------------------\u001b[0m",
            "\u001b[0;31mKeyError\u001b[0m                                  Traceback (most recent call last)",
            "\u001b[0;32m<ipython-input-41-9d402df80379>\u001b[0m in \u001b[0;36m<cell line: 1>\u001b[0;34m()\u001b[0m\n\u001b[0;32m----> 1\u001b[0;31m df_eval = df_eval.drop(['migration_msa','migration_reg','enrolled_in_edu_inst_lastwk','member_of_labor_union',\n\u001b[0m\u001b[1;32m      2\u001b[0m               \u001b[0;34m'migration_within_reg'\u001b[0m\u001b[0;34m,\u001b[0m\u001b[0;34m'migration_sunbelt'\u001b[0m\u001b[0;34m,\u001b[0m \u001b[0;34m'reason_for_unemployment'\u001b[0m\u001b[0;34m,\u001b[0m\u001b[0;34m'region_of_previous_residence'\u001b[0m\u001b[0;34m,\u001b[0m\u001b[0;34m\u001b[0m\u001b[0;34m\u001b[0m\u001b[0m\n\u001b[1;32m      3\u001b[0m               \u001b[0;34m'state_of_previous_residence'\u001b[0m\u001b[0;34m,\u001b[0m\u001b[0;34m'migration_sunbelt'\u001b[0m\u001b[0;34m,\u001b[0m\u001b[0;34m'family_members_under_18'\u001b[0m\u001b[0;34m,\u001b[0m\u001b[0;34m\u001b[0m\u001b[0;34m\u001b[0m\u001b[0m\n\u001b[1;32m      4\u001b[0m               'fill_questionnaire_veteran_admin'],axis=1)\n",
            "\u001b[0;32m/usr/local/lib/python3.10/dist-packages/pandas/util/_decorators.py\u001b[0m in \u001b[0;36mwrapper\u001b[0;34m(*args, **kwargs)\u001b[0m\n\u001b[1;32m    329\u001b[0m                     \u001b[0mstacklevel\u001b[0m\u001b[0;34m=\u001b[0m\u001b[0mfind_stack_level\u001b[0m\u001b[0;34m(\u001b[0m\u001b[0;34m)\u001b[0m\u001b[0;34m,\u001b[0m\u001b[0;34m\u001b[0m\u001b[0;34m\u001b[0m\u001b[0m\n\u001b[1;32m    330\u001b[0m                 )\n\u001b[0;32m--> 331\u001b[0;31m             \u001b[0;32mreturn\u001b[0m \u001b[0mfunc\u001b[0m\u001b[0;34m(\u001b[0m\u001b[0;34m*\u001b[0m\u001b[0margs\u001b[0m\u001b[0;34m,\u001b[0m \u001b[0;34m**\u001b[0m\u001b[0mkwargs\u001b[0m\u001b[0;34m)\u001b[0m\u001b[0;34m\u001b[0m\u001b[0;34m\u001b[0m\u001b[0m\n\u001b[0m\u001b[1;32m    332\u001b[0m \u001b[0;34m\u001b[0m\u001b[0m\n\u001b[1;32m    333\u001b[0m         \u001b[0;31m# error: \"Callable[[VarArg(Any), KwArg(Any)], Any]\" has no\u001b[0m\u001b[0;34m\u001b[0m\u001b[0;34m\u001b[0m\u001b[0m\n",
            "\u001b[0;32m/usr/local/lib/python3.10/dist-packages/pandas/core/frame.py\u001b[0m in \u001b[0;36mdrop\u001b[0;34m(self, labels, axis, index, columns, level, inplace, errors)\u001b[0m\n\u001b[1;32m   5397\u001b[0m                 \u001b[0mweight\u001b[0m  \u001b[0;36m1.0\u001b[0m     \u001b[0;36m0.8\u001b[0m\u001b[0;34m\u001b[0m\u001b[0;34m\u001b[0m\u001b[0m\n\u001b[1;32m   5398\u001b[0m         \"\"\"\n\u001b[0;32m-> 5399\u001b[0;31m         return super().drop(\n\u001b[0m\u001b[1;32m   5400\u001b[0m             \u001b[0mlabels\u001b[0m\u001b[0;34m=\u001b[0m\u001b[0mlabels\u001b[0m\u001b[0;34m,\u001b[0m\u001b[0;34m\u001b[0m\u001b[0;34m\u001b[0m\u001b[0m\n\u001b[1;32m   5401\u001b[0m             \u001b[0maxis\u001b[0m\u001b[0;34m=\u001b[0m\u001b[0maxis\u001b[0m\u001b[0;34m,\u001b[0m\u001b[0;34m\u001b[0m\u001b[0;34m\u001b[0m\u001b[0m\n",
            "\u001b[0;32m/usr/local/lib/python3.10/dist-packages/pandas/util/_decorators.py\u001b[0m in \u001b[0;36mwrapper\u001b[0;34m(*args, **kwargs)\u001b[0m\n\u001b[1;32m    329\u001b[0m                     \u001b[0mstacklevel\u001b[0m\u001b[0;34m=\u001b[0m\u001b[0mfind_stack_level\u001b[0m\u001b[0;34m(\u001b[0m\u001b[0;34m)\u001b[0m\u001b[0;34m,\u001b[0m\u001b[0;34m\u001b[0m\u001b[0;34m\u001b[0m\u001b[0m\n\u001b[1;32m    330\u001b[0m                 )\n\u001b[0;32m--> 331\u001b[0;31m             \u001b[0;32mreturn\u001b[0m \u001b[0mfunc\u001b[0m\u001b[0;34m(\u001b[0m\u001b[0;34m*\u001b[0m\u001b[0margs\u001b[0m\u001b[0;34m,\u001b[0m \u001b[0;34m**\u001b[0m\u001b[0mkwargs\u001b[0m\u001b[0;34m)\u001b[0m\u001b[0;34m\u001b[0m\u001b[0;34m\u001b[0m\u001b[0m\n\u001b[0m\u001b[1;32m    332\u001b[0m \u001b[0;34m\u001b[0m\u001b[0m\n\u001b[1;32m    333\u001b[0m         \u001b[0;31m# error: \"Callable[[VarArg(Any), KwArg(Any)], Any]\" has no\u001b[0m\u001b[0;34m\u001b[0m\u001b[0;34m\u001b[0m\u001b[0m\n",
            "\u001b[0;32m/usr/local/lib/python3.10/dist-packages/pandas/core/generic.py\u001b[0m in \u001b[0;36mdrop\u001b[0;34m(self, labels, axis, index, columns, level, inplace, errors)\u001b[0m\n\u001b[1;32m   4503\u001b[0m         \u001b[0;32mfor\u001b[0m \u001b[0maxis\u001b[0m\u001b[0;34m,\u001b[0m \u001b[0mlabels\u001b[0m \u001b[0;32min\u001b[0m \u001b[0maxes\u001b[0m\u001b[0;34m.\u001b[0m\u001b[0mitems\u001b[0m\u001b[0;34m(\u001b[0m\u001b[0;34m)\u001b[0m\u001b[0;34m:\u001b[0m\u001b[0;34m\u001b[0m\u001b[0;34m\u001b[0m\u001b[0m\n\u001b[1;32m   4504\u001b[0m             \u001b[0;32mif\u001b[0m \u001b[0mlabels\u001b[0m \u001b[0;32mis\u001b[0m \u001b[0;32mnot\u001b[0m \u001b[0;32mNone\u001b[0m\u001b[0;34m:\u001b[0m\u001b[0;34m\u001b[0m\u001b[0;34m\u001b[0m\u001b[0m\n\u001b[0;32m-> 4505\u001b[0;31m                 \u001b[0mobj\u001b[0m \u001b[0;34m=\u001b[0m \u001b[0mobj\u001b[0m\u001b[0;34m.\u001b[0m\u001b[0m_drop_axis\u001b[0m\u001b[0;34m(\u001b[0m\u001b[0mlabels\u001b[0m\u001b[0;34m,\u001b[0m \u001b[0maxis\u001b[0m\u001b[0;34m,\u001b[0m \u001b[0mlevel\u001b[0m\u001b[0;34m=\u001b[0m\u001b[0mlevel\u001b[0m\u001b[0;34m,\u001b[0m \u001b[0merrors\u001b[0m\u001b[0;34m=\u001b[0m\u001b[0merrors\u001b[0m\u001b[0;34m)\u001b[0m\u001b[0;34m\u001b[0m\u001b[0;34m\u001b[0m\u001b[0m\n\u001b[0m\u001b[1;32m   4506\u001b[0m \u001b[0;34m\u001b[0m\u001b[0m\n\u001b[1;32m   4507\u001b[0m         \u001b[0;32mif\u001b[0m \u001b[0minplace\u001b[0m\u001b[0;34m:\u001b[0m\u001b[0;34m\u001b[0m\u001b[0;34m\u001b[0m\u001b[0m\n",
            "\u001b[0;32m/usr/local/lib/python3.10/dist-packages/pandas/core/generic.py\u001b[0m in \u001b[0;36m_drop_axis\u001b[0;34m(self, labels, axis, level, errors, only_slice)\u001b[0m\n\u001b[1;32m   4544\u001b[0m                 \u001b[0mnew_axis\u001b[0m \u001b[0;34m=\u001b[0m \u001b[0maxis\u001b[0m\u001b[0;34m.\u001b[0m\u001b[0mdrop\u001b[0m\u001b[0;34m(\u001b[0m\u001b[0mlabels\u001b[0m\u001b[0;34m,\u001b[0m \u001b[0mlevel\u001b[0m\u001b[0;34m=\u001b[0m\u001b[0mlevel\u001b[0m\u001b[0;34m,\u001b[0m \u001b[0merrors\u001b[0m\u001b[0;34m=\u001b[0m\u001b[0merrors\u001b[0m\u001b[0;34m)\u001b[0m\u001b[0;34m\u001b[0m\u001b[0;34m\u001b[0m\u001b[0m\n\u001b[1;32m   4545\u001b[0m             \u001b[0;32melse\u001b[0m\u001b[0;34m:\u001b[0m\u001b[0;34m\u001b[0m\u001b[0;34m\u001b[0m\u001b[0m\n\u001b[0;32m-> 4546\u001b[0;31m                 \u001b[0mnew_axis\u001b[0m \u001b[0;34m=\u001b[0m \u001b[0maxis\u001b[0m\u001b[0;34m.\u001b[0m\u001b[0mdrop\u001b[0m\u001b[0;34m(\u001b[0m\u001b[0mlabels\u001b[0m\u001b[0;34m,\u001b[0m \u001b[0merrors\u001b[0m\u001b[0;34m=\u001b[0m\u001b[0merrors\u001b[0m\u001b[0;34m)\u001b[0m\u001b[0;34m\u001b[0m\u001b[0;34m\u001b[0m\u001b[0m\n\u001b[0m\u001b[1;32m   4547\u001b[0m             \u001b[0mindexer\u001b[0m \u001b[0;34m=\u001b[0m \u001b[0maxis\u001b[0m\u001b[0;34m.\u001b[0m\u001b[0mget_indexer\u001b[0m\u001b[0;34m(\u001b[0m\u001b[0mnew_axis\u001b[0m\u001b[0;34m)\u001b[0m\u001b[0;34m\u001b[0m\u001b[0;34m\u001b[0m\u001b[0m\n\u001b[1;32m   4548\u001b[0m \u001b[0;34m\u001b[0m\u001b[0m\n",
            "\u001b[0;32m/usr/local/lib/python3.10/dist-packages/pandas/core/indexes/base.py\u001b[0m in \u001b[0;36mdrop\u001b[0;34m(self, labels, errors)\u001b[0m\n\u001b[1;32m   6932\u001b[0m         \u001b[0;32mif\u001b[0m \u001b[0mmask\u001b[0m\u001b[0;34m.\u001b[0m\u001b[0many\u001b[0m\u001b[0;34m(\u001b[0m\u001b[0;34m)\u001b[0m\u001b[0;34m:\u001b[0m\u001b[0;34m\u001b[0m\u001b[0;34m\u001b[0m\u001b[0m\n\u001b[1;32m   6933\u001b[0m             \u001b[0;32mif\u001b[0m \u001b[0merrors\u001b[0m \u001b[0;34m!=\u001b[0m \u001b[0;34m\"ignore\"\u001b[0m\u001b[0;34m:\u001b[0m\u001b[0;34m\u001b[0m\u001b[0;34m\u001b[0m\u001b[0m\n\u001b[0;32m-> 6934\u001b[0;31m                 \u001b[0;32mraise\u001b[0m \u001b[0mKeyError\u001b[0m\u001b[0;34m(\u001b[0m\u001b[0;34mf\"{list(labels[mask])} not found in axis\"\u001b[0m\u001b[0;34m)\u001b[0m\u001b[0;34m\u001b[0m\u001b[0;34m\u001b[0m\u001b[0m\n\u001b[0m\u001b[1;32m   6935\u001b[0m             \u001b[0mindexer\u001b[0m \u001b[0;34m=\u001b[0m \u001b[0mindexer\u001b[0m\u001b[0;34m[\u001b[0m\u001b[0;34m~\u001b[0m\u001b[0mmask\u001b[0m\u001b[0;34m]\u001b[0m\u001b[0;34m\u001b[0m\u001b[0;34m\u001b[0m\u001b[0m\n\u001b[1;32m   6936\u001b[0m         \u001b[0;32mreturn\u001b[0m \u001b[0mself\u001b[0m\u001b[0;34m.\u001b[0m\u001b[0mdelete\u001b[0m\u001b[0;34m(\u001b[0m\u001b[0mindexer\u001b[0m\u001b[0;34m)\u001b[0m\u001b[0;34m\u001b[0m\u001b[0;34m\u001b[0m\u001b[0m\n",
            "\u001b[0;31mKeyError\u001b[0m: \"['migration_msa', 'migration_reg', 'enrolled_in_edu_inst_lastwk', 'member_of_labor_union', 'migration_within_reg', 'migration_sunbelt', 'reason_for_unemployment', 'region_of_previous_residence', 'state_of_previous_residence', 'migration_sunbelt', 'family_members_under_18', 'fill_questionnaire_veteran_admin'] not found in axis\""
          ]
        }
      ]
    },
    {
      "cell_type": "code",
      "source": [
        "df_eval.shape"
      ],
      "metadata": {
        "colab": {
          "base_uri": "https://localhost:8080/"
        },
        "id": "3NgNJyRUK0r6",
        "outputId": "98c90f0a-e0d0-494d-8379-f83b3c3ff550"
      },
      "execution_count": 42,
      "outputs": [
        {
          "output_type": "execute_result",
          "data": {
            "text/plain": [
              "(50000, 29)"
            ]
          },
          "metadata": {},
          "execution_count": 42
        }
      ]
    },
    {
      "cell_type": "code",
      "source": [
        "df.hist(figsize=(15,15))"
      ],
      "metadata": {
        "colab": {
          "base_uri": "https://localhost:8080/",
          "height": 885
        },
        "id": "JTEpBdhvLPqz",
        "outputId": "7ab7b293-d58d-493e-8902-7d22182156d7"
      },
      "execution_count": 43,
      "outputs": [
        {
          "output_type": "execute_result",
          "data": {
            "text/plain": [
              "array([[<Axes: title={'center': 'age'}>,\n",
              "        <Axes: title={'center': 'industry_code'}>,\n",
              "        <Axes: title={'center': 'occupation_code'}>,\n",
              "        <Axes: title={'center': 'wage_per_hour'}>],\n",
              "       [<Axes: title={'center': 'capital_gains'}>,\n",
              "        <Axes: title={'center': 'capital_losses'}>,\n",
              "        <Axes: title={'center': 'dividend_from_Stocks'}>,\n",
              "        <Axes: title={'center': 'num_person_Worked_employer'}>],\n",
              "       [<Axes: title={'center': 'business_or_self_employed'}>,\n",
              "        <Axes: title={'center': 'veterans_benefits'}>,\n",
              "        <Axes: title={'center': 'weeks_worked_in_year'}>,\n",
              "        <Axes: title={'center': 'year'}>],\n",
              "       [<Axes: title={'center': 'income_level'}>, <Axes: >, <Axes: >,\n",
              "        <Axes: >]], dtype=object)"
            ]
          },
          "metadata": {},
          "execution_count": 43
        },
        {
          "output_type": "display_data",
          "data": {
            "text/plain": [
              "<Figure size 1500x1500 with 16 Axes>"
            ],
            "image/png": "[encoded data removed]"
          },
          "metadata": {}
        }
      ]
    },
    {
      "cell_type": "code",
      "source": [
        "datacorr=df.corr()\n",
        "plt.figure(figsize=(10,10))\n",
        "sns.heatmap(datacorr,annot=True,cmap='Blues')\n"
      ],
      "metadata": {
        "colab": {
          "base_uri": "https://localhost:8080/",
          "height": 693
        },
        "id": "Sa8ul7EQLnKu",
        "outputId": "634bb48c-10a6-4150-e8e2-ee9f4670f04e"
      },
      "execution_count": 44,
      "outputs": [
        {
          "output_type": "execute_result",
          "data": {
            "text/plain": [
              "<Axes: >"
            ]
          },
          "metadata": {},
          "execution_count": 44
        },
        {
          "output_type": "display_data",
          "data": {
            "text/plain": [
              "<Figure size 1000x1000 with 2 Axes>"
            ],
            "image/png": "[encoded data removed]"
          },
          "metadata": {}
        }
      ]
    },
    {
      "cell_type": "code",
      "source": [
        "df.isnull().sum()"
      ],
      "metadata": {
        "colab": {
          "base_uri": "https://localhost:8080/"
        },
        "id": "l3yES0DnLrM_",
        "outputId": "530a4572-3d3f-4982-97ea-ae22f61a38d1"
      },
      "execution_count": 45,
      "outputs": [
        {
          "output_type": "execute_result",
          "data": {
            "text/plain": [
              "age                                  0\n",
              "class_of_worker                  57925\n",
              "industry_code                        0\n",
              "occupation_code                      0\n",
              "education                            0\n",
              "wage_per_hour                        0\n",
              "marital_status                       0\n",
              "major_industry_code                  0\n",
              "major_occupation_code            58316\n",
              "race                                 0\n",
              "hispanic_origin                   1116\n",
              "sex                                  0\n",
              "full_parttime_employment_stat        0\n",
              "capital_gains                        0\n",
              "capital_losses                       0\n",
              "dividend_from_Stocks                 0\n",
              "tax_filer_status                     0\n",
              "d_household_family_stat              0\n",
              "d_household_summary                  0\n",
              "live_1_year_ago                      0\n",
              "num_person_Worked_employer           0\n",
              "country_father                    6566\n",
              "country_mother                    5997\n",
              "country_self                      3452\n",
              "citizenship                          0\n",
              "business_or_self_employed            0\n",
              "veterans_benefits                    0\n",
              "weeks_worked_in_year                 0\n",
              "year                                 0\n",
              "income_level                         0\n",
              "dtype: int64"
            ]
          },
          "metadata": {},
          "execution_count": 45
        }
      ]
    },
    {
      "cell_type": "code",
      "source": [
        "df['class_of_worker'] = df['class_of_worker'].str.replace(' ','')"
      ],
      "metadata": {
        "id": "dpgzfgaMLsaT"
      },
      "execution_count": 46,
      "outputs": []
    },
    {
      "cell_type": "code",
      "source": [
        "df.class_of_worker.value_counts()"
      ],
      "metadata": {
        "colab": {
          "base_uri": "https://localhost:8080/"
        },
        "id": "qoZbzNHULt8s",
        "outputId": "f820114a-a867-4843-ff27-da65d450fc1d"
      },
      "execution_count": 47,
      "outputs": [
        {
          "output_type": "execute_result",
          "data": {
            "text/plain": [
              "Private                          72763\n",
              "Self-employed-notincorporated     8608\n",
              "Localgovernment                   7842\n",
              "Stategovernment                   4355\n",
              "Self-employed-incorporated        3486\n",
              "Federalgovernment                 2940\n",
              "Neverworked                        391\n",
              "Withoutpay                         140\n",
              "Name: class_of_worker, dtype: int64"
            ]
          },
          "metadata": {},
          "execution_count": 47
        }
      ]
    },
    {
      "cell_type": "code",
      "source": [
        "df_1 = df.loc[df['class_of_worker'] != 'Private']"
      ],
      "metadata": {
        "id": "cGxzC3CuLu5J"
      },
      "execution_count": 48,
      "outputs": []
    },
    {
      "cell_type": "code",
      "source": [
        "df_1['class_of_worker'].mode()"
      ],
      "metadata": {
        "colab": {
          "base_uri": "https://localhost:8080/"
        },
        "id": "PmN-qQRCLv08",
        "outputId": "ac59f278-c996-4f2f-929c-b38895c0643b"
      },
      "execution_count": 49,
      "outputs": [
        {
          "output_type": "execute_result",
          "data": {
            "text/plain": [
              "0    Self-employed-notincorporated\n",
              "Name: class_of_worker, dtype: object"
            ]
          },
          "metadata": {},
          "execution_count": 49
        }
      ]
    },
    {
      "cell_type": "code",
      "source": [
        "df['class_of_worker'] = df['class_of_worker'].fillna(value= df_1['class_of_worker'].mode()[0])"
      ],
      "metadata": {
        "id": "fMxWPoiLLw0U"
      },
      "execution_count": 51,
      "outputs": []
    },
    {
      "cell_type": "code",
      "source": [
        "df['class_of_worker'].isnull().sum()"
      ],
      "metadata": {
        "colab": {
          "base_uri": "https://localhost:8080/"
        },
        "id": "eo0Mo-pnLyEl",
        "outputId": "02b22c78-adae-45e6-831f-6cff6f8bb36a"
      },
      "execution_count": 52,
      "outputs": [
        {
          "output_type": "execute_result",
          "data": {
            "text/plain": [
              "0"
            ]
          },
          "metadata": {},
          "execution_count": 52
        }
      ]
    },
    {
      "cell_type": "code",
      "source": [
        "df.hispanic_origin.value_counts()"
      ],
      "metadata": {
        "colab": {
          "base_uri": "https://localhost:8080/"
        },
        "id": "gGCaDK6WL1SS",
        "outputId": "1086dd77-1c1c-48a3-b180-be57561cb62a"
      },
      "execution_count": 53,
      "outputs": [
        {
          "output_type": "execute_result",
          "data": {
            "text/plain": [
              "All other                     88431\n",
              " All other                    45314\n",
              "Mexican (Mexicano)             4242\n",
              "Mexican-American               4172\n",
              "Central or South American      2555\n",
              " Mexican (Mexicano)            2249\n",
              " Mexican-American              2195\n",
              "Puerto Rican                   2051\n",
              "Other Spanish                  1599\n",
              " Central or South American     1289\n",
              " Puerto Rican                  1015\n",
              " Other Spanish                  802\n",
              "Cuban                           717\n",
              " Cuban                          404\n",
              "Chicano                         188\n",
              " Chicano                        111\n",
              "Name: hispanic_origin, dtype: int64"
            ]
          },
          "metadata": {},
          "execution_count": 53
        }
      ]
    },
    {
      "cell_type": "code",
      "source": [
        "df['hispanic_origin'] = df['hispanic_origin'].str.replace(' ','')"
      ],
      "metadata": {
        "id": "rMrA5eX5L2f8"
      },
      "execution_count": 54,
      "outputs": []
    },
    {
      "cell_type": "code",
      "source": [
        "df.hispanic_origin.value_counts()"
      ],
      "metadata": {
        "colab": {
          "base_uri": "https://localhost:8080/"
        },
        "id": "gl_Z3etAL37Y",
        "outputId": "73f58194-fe26-4669-a62d-f3c62d0f396b"
      },
      "execution_count": 55,
      "outputs": [
        {
          "output_type": "execute_result",
          "data": {
            "text/plain": [
              "Allother                  133745\n",
              "Mexican(Mexicano)           6491\n",
              "Mexican-American            6367\n",
              "CentralorSouthAmerican      3844\n",
              "PuertoRican                 3066\n",
              "OtherSpanish                2401\n",
              "Cuban                       1121\n",
              "Chicano                      299\n",
              "Name: hispanic_origin, dtype: int64"
            ]
          },
          "metadata": {},
          "execution_count": 55
        }
      ]
    },
    {
      "cell_type": "code",
      "source": [
        "df_2 = df.loc[df['hispanic_origin'] != 'Allother']"
      ],
      "metadata": {
        "id": "9zuwP409L46T"
      },
      "execution_count": 56,
      "outputs": []
    },
    {
      "cell_type": "code",
      "source": [
        "df_2['hispanic_origin'].mode()"
      ],
      "metadata": {
        "colab": {
          "base_uri": "https://localhost:8080/"
        },
        "id": "vSAq_t0qL57d",
        "outputId": "324474fc-1dd0-488c-cf71-961498d83369"
      },
      "execution_count": 57,
      "outputs": [
        {
          "output_type": "execute_result",
          "data": {
            "text/plain": [
              "0    Mexican(Mexicano)\n",
              "Name: hispanic_origin, dtype: object"
            ]
          },
          "metadata": {},
          "execution_count": 57
        }
      ]
    },
    {
      "cell_type": "code",
      "source": [
        "df['hispanic_origin'] = df['hispanic_origin'].fillna(value= df_2['hispanic_origin'].mode()[0])"
      ],
      "metadata": {
        "id": "UcUUjmWdL67A"
      },
      "execution_count": 58,
      "outputs": []
    },
    {
      "cell_type": "code",
      "source": [
        "df['hispanic_origin'].isnull().sum()"
      ],
      "metadata": {
        "colab": {
          "base_uri": "https://localhost:8080/"
        },
        "id": "gbmu6MZcL8HK",
        "outputId": "85c68d02-4b42-4f35-c822-8ae4e2287411"
      },
      "execution_count": 59,
      "outputs": [
        {
          "output_type": "execute_result",
          "data": {
            "text/plain": [
              "0"
            ]
          },
          "metadata": {},
          "execution_count": 59
        }
      ]
    },
    {
      "cell_type": "code",
      "source": [
        "df['major_occupation_code'] = df['major_occupation_code'].str.replace(' ','')\n"
      ],
      "metadata": {
        "id": "v-R7QSekL9af"
      },
      "execution_count": 60,
      "outputs": []
    },
    {
      "cell_type": "code",
      "source": [
        "df.major_occupation_code.value_counts()"
      ],
      "metadata": {
        "colab": {
          "base_uri": "https://localhost:8080/"
        },
        "id": "uaEyKgH9L-Zz",
        "outputId": "710dfcca-0819-4359-dbfc-65c1ab435cab"
      },
      "execution_count": 61,
      "outputs": [
        {
          "output_type": "execute_result",
          "data": {
            "text/plain": [
              "Admsupportincludingclerical          14647\n",
              "Professionalspecialty                14583\n",
              "Executiveadminandmanagerial          13196\n",
              "Otherservice                         12044\n",
              "Sales                                11936\n",
              "Precisionproductioncraft&repair      10569\n",
              "Machineoperatorsassmblrs&inspctrs     6309\n",
              "Handlersequipcleanersetc              4180\n",
              "Transportationandmaterialmoving       4018\n",
              "Farmingforestryandfishing             3069\n",
              "Techniciansandrelatedsupport          3050\n",
              "Protectiveservices                    1684\n",
              "Privatehouseholdservices               811\n",
              "ArmedForces                             38\n",
              "Name: major_occupation_code, dtype: int64"
            ]
          },
          "metadata": {},
          "execution_count": 61
        }
      ]
    },
    {
      "cell_type": "code",
      "source": [
        "df['major_occupation_code'] = df['major_occupation_code'].fillna(value= df['major_occupation_code'].mode()[0])"
      ],
      "metadata": {
        "id": "d4VeBHw3L_j8"
      },
      "execution_count": 62,
      "outputs": []
    },
    {
      "cell_type": "code",
      "source": [
        "df['country_father'] = df['country_father'].str.replace(' ','')"
      ],
      "metadata": {
        "id": "OLZQkDwiMBPG"
      },
      "execution_count": 63,
      "outputs": []
    },
    {
      "cell_type": "code",
      "source": [
        "df.country_father.value_counts()"
      ],
      "metadata": {
        "colab": {
          "base_uri": "https://localhost:8080/"
        },
        "id": "dBsrUFEhMCLU",
        "outputId": "937504ff-6724-47e7-8a6a-a9595d228ba7"
      },
      "execution_count": 64,
      "outputs": [
        {
          "output_type": "execute_result",
          "data": {
            "text/plain": [
              "United-States               120072\n",
              "Mexico                        8443\n",
              "Puerto-Rico                   2550\n",
              "Italy                         2181\n",
              "Canada                        1349\n",
              "Germany                       1329\n",
              "Dominican-Republic            1268\n",
              "Poland                        1221\n",
              "Philippines                   1131\n",
              "Cuba                          1112\n",
              "El-Salvador                    957\n",
              "China                          822\n",
              "England                        791\n",
              "Columbia                       592\n",
              "India                          578\n",
              "Ireland                        545\n",
              "SouthKorea                     516\n",
              "Jamaica                        479\n",
              "Guatemala                      447\n",
              "Vietnam                        430\n",
              "Japan                          405\n",
              "Portugal                       391\n",
              "Ecuador                        381\n",
              "Greece                         375\n",
              "Haiti                          330\n",
              "Peru                           319\n",
              "Nicaragua                      315\n",
              "Hungary                        313\n",
              "Scotland                       257\n",
              "Yugoslavia                     231\n",
              "Iran                           225\n",
              "Cambodia                       210\n",
              "Honduras                       208\n",
              "France                         191\n",
              "Taiwan                         184\n",
              "Laos                           159\n",
              "Outlying-US(GuamUSVIetc)       155\n",
              "Trinadad&Tobago                130\n",
              "HongKong                       115\n",
              "Thailand                       103\n",
              "Holand-Netherlands              48\n",
              "Panama                          26\n",
              "Name: country_father, dtype: int64"
            ]
          },
          "metadata": {},
          "execution_count": 64
        }
      ]
    },
    {
      "cell_type": "code",
      "source": [
        "df.country_father.mode()"
      ],
      "metadata": {
        "colab": {
          "base_uri": "https://localhost:8080/"
        },
        "id": "pX1XDuzEMDC7",
        "outputId": "6764d105-b3eb-44a6-a723-dee40b09ef77"
      },
      "execution_count": 65,
      "outputs": [
        {
          "output_type": "execute_result",
          "data": {
            "text/plain": [
              "0    United-States\n",
              "Name: country_father, dtype: object"
            ]
          },
          "metadata": {},
          "execution_count": 65
        }
      ]
    },
    {
      "cell_type": "code",
      "source": [
        "df['country_father'] = df['country_father'].fillna(value=df.country_father.mode()[0])\n"
      ],
      "metadata": {
        "id": "xg-OZDWTMEkM"
      },
      "execution_count": 66,
      "outputs": []
    },
    {
      "cell_type": "code",
      "source": [
        "df.country_mother.mode()"
      ],
      "metadata": {
        "colab": {
          "base_uri": "https://localhost:8080/"
        },
        "id": "2TRYLQSHMFvk",
        "outputId": "bec318d8-ed5b-4521-a96c-772859d08f75"
      },
      "execution_count": 67,
      "outputs": [
        {
          "output_type": "execute_result",
          "data": {
            "text/plain": [
              "0    United-States\n",
              "Name: country_mother, dtype: object"
            ]
          },
          "metadata": {},
          "execution_count": 67
        }
      ]
    },
    {
      "cell_type": "code",
      "source": [
        "df['country_mother'] = df['country_mother'].fillna(value=df.country_mother.mode()[0])"
      ],
      "metadata": {
        "id": "X52GlX13MG5z"
      },
      "execution_count": 68,
      "outputs": []
    },
    {
      "cell_type": "code",
      "source": [
        "df.country_self.mode()"
      ],
      "metadata": {
        "colab": {
          "base_uri": "https://localhost:8080/"
        },
        "id": "OEu51_KXMH5K",
        "outputId": "bc70a5e6-a3a4-46f8-c63a-c905d2ca3169"
      },
      "execution_count": 69,
      "outputs": [
        {
          "output_type": "execute_result",
          "data": {
            "text/plain": [
              "0    United-States\n",
              "Name: country_self, dtype: object"
            ]
          },
          "metadata": {},
          "execution_count": 69
        }
      ]
    },
    {
      "cell_type": "code",
      "source": [
        "df['country_self'] = df['country_self'].fillna(value=df.country_self.mode()[0])"
      ],
      "metadata": {
        "id": "6HZSKPgCMIwd"
      },
      "execution_count": 71,
      "outputs": []
    },
    {
      "cell_type": "code",
      "source": [
        "df.isnull().sum()"
      ],
      "metadata": {
        "colab": {
          "base_uri": "https://localhost:8080/"
        },
        "id": "HelEWh5AMJz0",
        "outputId": "e6d737e4-858b-42b2-c0d7-d1335afe3154"
      },
      "execution_count": 72,
      "outputs": [
        {
          "output_type": "execute_result",
          "data": {
            "text/plain": [
              "age                              0\n",
              "class_of_worker                  0\n",
              "industry_code                    0\n",
              "occupation_code                  0\n",
              "education                        0\n",
              "wage_per_hour                    0\n",
              "marital_status                   0\n",
              "major_industry_code              0\n",
              "major_occupation_code            0\n",
              "race                             0\n",
              "hispanic_origin                  0\n",
              "sex                              0\n",
              "full_parttime_employment_stat    0\n",
              "capital_gains                    0\n",
              "capital_losses                   0\n",
              "dividend_from_Stocks             0\n",
              "tax_filer_status                 0\n",
              "d_household_family_stat          0\n",
              "d_household_summary              0\n",
              "live_1_year_ago                  0\n",
              "num_person_Worked_employer       0\n",
              "country_father                   0\n",
              "country_mother                   0\n",
              "country_self                     0\n",
              "citizenship                      0\n",
              "business_or_self_employed        0\n",
              "veterans_benefits                0\n",
              "weeks_worked_in_year             0\n",
              "year                             0\n",
              "income_level                     0\n",
              "dtype: int64"
            ]
          },
          "metadata": {},
          "execution_count": 72
        }
      ]
    },
    {
      "cell_type": "code",
      "source": [
        "df_eval['class_of_worker'] = df_eval['class_of_worker'].str.replace(' ','')"
      ],
      "metadata": {
        "id": "vGc9uMERMLt5"
      },
      "execution_count": 73,
      "outputs": []
    },
    {
      "cell_type": "code",
      "source": [
        "df_eval['class_of_worker'] = df_eval['class_of_worker'].fillna(value= df_1['class_of_worker'].mode()[0])"
      ],
      "metadata": {
        "id": "k_QRl7bjMOeD"
      },
      "execution_count": 74,
      "outputs": []
    },
    {
      "cell_type": "code",
      "source": [
        "df_eval['hispanic_origin'] = df_eval['hispanic_origin'].str.replace(' ','')"
      ],
      "metadata": {
        "id": "DiK763r4MPqm"
      },
      "execution_count": 75,
      "outputs": []
    },
    {
      "cell_type": "code",
      "source": [
        "df_eval['hispanic_origin'] = df_eval['hispanic_origin'].fillna(value= df_2['hispanic_origin'].mode()[0])"
      ],
      "metadata": {
        "id": "8xIBWWgWMQlO"
      },
      "execution_count": 76,
      "outputs": []
    },
    {
      "cell_type": "code",
      "source": [
        "df_eval['major_occupation_code'] = df_eval['major_occupation_code'].str.replace(' ','')"
      ],
      "metadata": {
        "id": "--1teT88MRqB"
      },
      "execution_count": 78,
      "outputs": []
    },
    {
      "cell_type": "code",
      "source": [
        "df_eval['major_occupation_code'] = df_eval['major_occupation_code'].fillna(value= df_eval['major_occupation_code'].mode()[0])"
      ],
      "metadata": {
        "id": "Hf7R3iNVMSol"
      },
      "execution_count": 79,
      "outputs": []
    },
    {
      "cell_type": "code",
      "source": [
        "df_eval['country_father'] = df_eval['country_father'].str.replace(' ','')"
      ],
      "metadata": {
        "id": "DIvOnyYRMU6j"
      },
      "execution_count": 80,
      "outputs": []
    },
    {
      "cell_type": "code",
      "source": [
        "df_eval['country_father'] = df_eval['country_father'].fillna(value=df_eval.country_father.mode()[0])"
      ],
      "metadata": {
        "id": "dUguTtPvMVvq"
      },
      "execution_count": 81,
      "outputs": []
    },
    {
      "cell_type": "code",
      "source": [
        "df_eval['country_mother'] = df_eval['country_mother'].str.replace(' ','')"
      ],
      "metadata": {
        "id": "23qlIk8qMWkC"
      },
      "execution_count": 82,
      "outputs": []
    },
    {
      "cell_type": "code",
      "source": [
        "df_eval['country_mother'] = df_eval['country_mother'].fillna(value=df_eval.country_mother.mode()[0])"
      ],
      "metadata": {
        "id": "nHR36563MXpn"
      },
      "execution_count": 83,
      "outputs": []
    },
    {
      "cell_type": "code",
      "source": [
        "df_eval['country_self'] = df_eval['country_self'].str.replace(' ','')"
      ],
      "metadata": {
        "id": "ToEErpLPMYkG"
      },
      "execution_count": 84,
      "outputs": []
    },
    {
      "cell_type": "code",
      "source": [
        "df_eval['country_self'] = df_eval['country_self'].fillna(value=df_eval.country_self.mode()[0])"
      ],
      "metadata": {
        "id": "Zw4iFK3CMZWU"
      },
      "execution_count": 85,
      "outputs": []
    },
    {
      "cell_type": "code",
      "source": [
        "df_eval.isnull().sum()"
      ],
      "metadata": {
        "colab": {
          "base_uri": "https://localhost:8080/"
        },
        "id": "3imJsN2wMaMX",
        "outputId": "b41a60a3-900f-4ea4-d869-aaf10cc0cd5a"
      },
      "execution_count": 86,
      "outputs": [
        {
          "output_type": "execute_result",
          "data": {
            "text/plain": [
              "age                              0\n",
              "class_of_worker                  0\n",
              "industry_code                    0\n",
              "occupation_code                  0\n",
              "education                        0\n",
              "wage_per_hour                    0\n",
              "marital_status                   0\n",
              "major_industry_code              0\n",
              "major_occupation_code            0\n",
              "race                             0\n",
              "hispanic_origin                  0\n",
              "sex                              0\n",
              "full_parttime_employment_stat    0\n",
              "capital_gains                    0\n",
              "capital_losses                   0\n",
              "dividend_from_Stocks             0\n",
              "tax_filer_status                 0\n",
              "d_household_family_stat          0\n",
              "d_household_summary              0\n",
              "live_1_year_ago                  0\n",
              "num_person_Worked_employer       0\n",
              "country_father                   0\n",
              "country_mother                   0\n",
              "country_self                     0\n",
              "citizenship                      0\n",
              "business_or_self_employed        0\n",
              "veterans_benefits                0\n",
              "weeks_worked_in_year             0\n",
              "year                             0\n",
              "dtype: int64"
            ]
          },
          "metadata": {},
          "execution_count": 86
        }
      ]
    },
    {
      "cell_type": "code",
      "source": [
        "df['education'] = df['education'].str.replace(' ','')"
      ],
      "metadata": {
        "id": "pdMWRbpmMa9y"
      },
      "execution_count": 87,
      "outputs": []
    },
    {
      "cell_type": "code",
      "source": [
        "df_eval['education'] = df_eval['education'].str.replace(' ','')"
      ],
      "metadata": {
        "id": "ojPRTDF3MdDJ"
      },
      "execution_count": 88,
      "outputs": []
    },
    {
      "cell_type": "code",
      "source": [
        "df['marital_status'] = df['marital_status'].str.replace(' ','')"
      ],
      "metadata": {
        "id": "25GmXaSsMeAU"
      },
      "execution_count": 89,
      "outputs": []
    },
    {
      "cell_type": "code",
      "source": [
        "df_eval['marital_status'] = df_eval['marital_status'].str.replace(' ','')"
      ],
      "metadata": {
        "id": "bQ6vDN4oMfPZ"
      },
      "execution_count": 90,
      "outputs": []
    },
    {
      "cell_type": "code",
      "source": [
        "df['major_industry_code'] = df['major_industry_code'].str.replace(' ','')"
      ],
      "metadata": {
        "id": "bBKdkA9NMgJg"
      },
      "execution_count": 91,
      "outputs": []
    },
    {
      "cell_type": "code",
      "source": [
        "df_eval['major_industry_code'] = df_eval['major_industry_code'].str.replace(' ','')"
      ],
      "metadata": {
        "id": "F_piRxbQMg9J"
      },
      "execution_count": 92,
      "outputs": []
    },
    {
      "cell_type": "code",
      "source": [
        "df['race'] = df['race'].str.replace(' ','')"
      ],
      "metadata": {
        "id": "_YqEdmbzMh1F"
      },
      "execution_count": 93,
      "outputs": []
    },
    {
      "cell_type": "code",
      "source": [
        "df_eval['race'] = df_eval['race'].str.replace(' ','')"
      ],
      "metadata": {
        "id": "5vbvo0hfMjI1"
      },
      "execution_count": 94,
      "outputs": []
    },
    {
      "cell_type": "code",
      "source": [
        "df['full_parttime_employment_stat'] = df['full_parttime_employment_stat'].str.replace(' ','')"
      ],
      "metadata": {
        "id": "VFNnrEbrMkle"
      },
      "execution_count": 95,
      "outputs": []
    },
    {
      "cell_type": "code",
      "source": [
        "df_eval['full_parttime_employment_stat'] = df_eval['full_parttime_employment_stat'].str.replace(' ','')"
      ],
      "metadata": {
        "id": "qbCD04MjMlqj"
      },
      "execution_count": 96,
      "outputs": []
    },
    {
      "cell_type": "code",
      "source": [
        "df['tax_filer_status'] = df['tax_filer_status'].str.replace(' ','')"
      ],
      "metadata": {
        "id": "ElxXyOXDMmkv"
      },
      "execution_count": 97,
      "outputs": []
    },
    {
      "cell_type": "code",
      "source": [
        "df_eval['tax_filer_status'] = df_eval['tax_filer_status'].str.replace(' ','')"
      ],
      "metadata": {
        "id": "dcNnqySCMnzB"
      },
      "execution_count": 98,
      "outputs": []
    },
    {
      "cell_type": "code",
      "source": [
        "df['d_household_family_stat'] = df['d_household_family_stat'].str.replace(' ','')"
      ],
      "metadata": {
        "id": "Zb7v77iOMo6J"
      },
      "execution_count": 99,
      "outputs": []
    },
    {
      "cell_type": "code",
      "source": [
        "df_eval['d_household_family_stat'] = df_eval['d_household_family_stat'].str.replace(' ','')"
      ],
      "metadata": {
        "id": "4moPCUx_Mp7q"
      },
      "execution_count": 100,
      "outputs": []
    },
    {
      "cell_type": "code",
      "source": [
        "df['d_household_summary'] = df['d_household_summary'].str.replace(' ','')"
      ],
      "metadata": {
        "id": "2dlG93vAMsa-"
      },
      "execution_count": 101,
      "outputs": []
    },
    {
      "cell_type": "code",
      "source": [
        "df_eval['d_household_summary'] = df_eval['d_household_summary'].str.replace(' ','')"
      ],
      "metadata": {
        "id": "IU6hddsOMsw2"
      },
      "execution_count": 102,
      "outputs": []
    },
    {
      "cell_type": "code",
      "source": [
        "df['live_1_year_ago'] = df['live_1_year_ago'].str.replace(' ','')"
      ],
      "metadata": {
        "id": "lVmu9bD2MtsJ"
      },
      "execution_count": 103,
      "outputs": []
    },
    {
      "cell_type": "code",
      "source": [
        "df_eval['live_1_year_ago'] = df_eval['live_1_year_ago'].str.replace(' ','')"
      ],
      "metadata": {
        "id": "rwFQL1BVMu8U"
      },
      "execution_count": 104,
      "outputs": []
    },
    {
      "cell_type": "code",
      "source": [
        "df['country_mother'] = df['country_mother'].str.replace(' ','')"
      ],
      "metadata": {
        "id": "i9S3kVQwMwIL"
      },
      "execution_count": 105,
      "outputs": []
    },
    {
      "cell_type": "code",
      "source": [
        "df_eval['country_mother'] = df_eval['country_mother'].str.replace(' ','')"
      ],
      "metadata": {
        "id": "q8K2hpnRMxHa"
      },
      "execution_count": 106,
      "outputs": []
    },
    {
      "cell_type": "code",
      "source": [
        "df['country_self'] = df['country_self'].str.replace(' ','')"
      ],
      "metadata": {
        "id": "_Y4jjqo-Mx3U"
      },
      "execution_count": 107,
      "outputs": []
    },
    {
      "cell_type": "code",
      "source": [
        "df_eval['country_self'] = df_eval['country_self'].str.replace(' ','')"
      ],
      "metadata": {
        "id": "zOn6ZnJeMy7Z"
      },
      "execution_count": 108,
      "outputs": []
    },
    {
      "cell_type": "code",
      "source": [
        "df['citizenship'] = df['citizenship'].str.replace(' ','')"
      ],
      "metadata": {
        "id": "nn7kUMcGMzt8"
      },
      "execution_count": 109,
      "outputs": []
    },
    {
      "cell_type": "code",
      "source": [
        "df_eval['citizenship'] = df_eval['citizenship'].str.replace(' ','')"
      ],
      "metadata": {
        "id": "X_8zpRVqM0w7"
      },
      "execution_count": 110,
      "outputs": []
    },
    {
      "cell_type": "code",
      "source": [
        "from sklearn.preprocessing import LabelEncoder, OneHotEncoder\n",
        "from sklearn.preprocessing import StandardScaler\n",
        "from sklearn.model_selection import train_test_split\n"
      ],
      "metadata": {
        "id": "lHw6zztQM1q9"
      },
      "execution_count": 111,
      "outputs": []
    },
    {
      "cell_type": "code",
      "source": [
        "df_eval.isnull().any()"
      ],
      "metadata": {
        "colab": {
          "base_uri": "https://localhost:8080/"
        },
        "id": "t8Il5YqzM4a2",
        "outputId": "a103e4c0-1c87-419b-bec9-17c603db8c03"
      },
      "execution_count": 112,
      "outputs": [
        {
          "output_type": "execute_result",
          "data": {
            "text/plain": [
              "age                              False\n",
              "class_of_worker                  False\n",
              "industry_code                    False\n",
              "occupation_code                  False\n",
              "education                        False\n",
              "wage_per_hour                    False\n",
              "marital_status                   False\n",
              "major_industry_code              False\n",
              "major_occupation_code            False\n",
              "race                             False\n",
              "hispanic_origin                  False\n",
              "sex                              False\n",
              "full_parttime_employment_stat    False\n",
              "capital_gains                    False\n",
              "capital_losses                   False\n",
              "dividend_from_Stocks             False\n",
              "tax_filer_status                 False\n",
              "d_household_family_stat          False\n",
              "d_household_summary              False\n",
              "live_1_year_ago                  False\n",
              "num_person_Worked_employer       False\n",
              "country_father                   False\n",
              "country_mother                   False\n",
              "country_self                     False\n",
              "citizenship                      False\n",
              "business_or_self_employed        False\n",
              "veterans_benefits                False\n",
              "weeks_worked_in_year             False\n",
              "year                             False\n",
              "dtype: bool"
            ]
          },
          "metadata": {},
          "execution_count": 112
        }
      ]
    },
    {
      "cell_type": "code",
      "source": [
        "df.shape"
      ],
      "metadata": {
        "colab": {
          "base_uri": "https://localhost:8080/"
        },
        "id": "oB6oJjxBM545",
        "outputId": "e76079fc-4fca-42c5-b622-85ea93813d05"
      },
      "execution_count": 113,
      "outputs": [
        {
          "output_type": "execute_result",
          "data": {
            "text/plain": [
              "(158450, 30)"
            ]
          },
          "metadata": {},
          "execution_count": 113
        }
      ]
    },
    {
      "cell_type": "code",
      "source": [
        "X=df.drop('income_level',axis=1)                         \n",
        "y=df['income_level']"
      ],
      "metadata": {
        "id": "C7hBGk4oM7PK"
      },
      "execution_count": 115,
      "outputs": []
    },
    {
      "cell_type": "code",
      "source": [
        "X.shape,y.shape"
      ],
      "metadata": {
        "colab": {
          "base_uri": "https://localhost:8080/"
        },
        "id": "M0DiBZNcM8X8",
        "outputId": "6c063244-cf9b-435b-d10f-81873ae453fa"
      },
      "execution_count": 116,
      "outputs": [
        {
          "output_type": "execute_result",
          "data": {
            "text/plain": [
              "((158450, 29), (158450,))"
            ]
          },
          "metadata": {},
          "execution_count": 116
        }
      ]
    },
    {
      "cell_type": "code",
      "source": [
        "X_train,X_test,y_train,y_test=train_test_split(X,y,test_size=0.3,random_state=42)\n",
        "print(X_train.shape,X_test.shape,y_train.shape,y_test.shape)"
      ],
      "metadata": {
        "colab": {
          "base_uri": "https://localhost:8080/"
        },
        "id": "-r7umf6LM-hY",
        "outputId": "842238ce-7b93-487e-f4c2-c36faad894a3"
      },
      "execution_count": 117,
      "outputs": [
        {
          "output_type": "stream",
          "name": "stdout",
          "text": [
            "(110915, 29) (47535, 29) (110915,) (47535,)\n"
          ]
        }
      ]
    },
    {
      "cell_type": "markdown",
      "source": [
        "## Feature Transformation"
      ],
      "metadata": {
        "id": "shcwO7KxNK79"
      }
    },
    {
      "cell_type": "code",
      "source": [
        "from sklearn.pipeline import Pipeline\n",
        "from sklearn.compose import ColumnTransformer\n",
        "from sklearn.preprocessing import StandardScaler\n",
        "import category_encoders as ce! pip install --upgrade category_encoders"
      ],
      "metadata": {
        "colab": {
          "base_uri": "https://localhost:8080/"
        },
        "id": "YS4oFfA9M_7L",
        "outputId": "0611b5fa-223f-4a2b-dad9-8d08dcee8c07"
      },
      "execution_count": 118,
      "outputs": [
        {
          "output_type": "stream",
          "name": "stdout",
          "text": [
            "Looking in indexes: https://pypi.org/simple, https://us-python.pkg.dev/colab-wheels/public/simple/\n",
            "Collecting category_encoders\n",
            "  Downloading category_encoders-2.6.0-py2.py3-none-any.whl (81 kB)\n",
            "\u001b[2K     \u001b[90m━━━━━━━━━━━━━━━━━━━━━━━━━━━━━━━━━━━━━━━━\u001b[0m \u001b[32m81.2/81.2 kB\u001b[0m \u001b[31m2.9 MB/s\u001b[0m eta \u001b[36m0:00:00\u001b[0m\n",
            "\u001b[?25hRequirement already satisfied: pandas>=1.0.5 in /usr/local/lib/python3.10/dist-packages (from category_encoders) (1.5.3)\n",
            "Requirement already satisfied: statsmodels>=0.9.0 in /usr/local/lib/python3.10/dist-packages (from category_encoders) (0.13.5)\n",
            "Requirement already satisfied: scikit-learn>=0.20.0 in /usr/local/lib/python3.10/dist-packages (from category_encoders) (1.2.2)\n",
            "Requirement already satisfied: patsy>=0.5.1 in /usr/local/lib/python3.10/dist-packages (from category_encoders) (0.5.3)\n",
            "Requirement already satisfied: scipy>=1.0.0 in /usr/local/lib/python3.10/dist-packages (from category_encoders) (1.10.1)\n",
            "Requirement already satisfied: numpy>=1.14.0 in /usr/local/lib/python3.10/dist-packages (from category_encoders) (1.22.4)\n",
            "Requirement already satisfied: python-dateutil>=2.8.1 in /usr/local/lib/python3.10/dist-packages (from pandas>=1.0.5->category_encoders) (2.8.2)\n",
            "Requirement already satisfied: pytz>=2020.1 in /usr/local/lib/python3.10/dist-packages (from pandas>=1.0.5->category_encoders) (2022.7.1)\n",
            "Requirement already satisfied: six in /usr/local/lib/python3.10/dist-packages (from patsy>=0.5.1->category_encoders) (1.16.0)\n",
            "Requirement already satisfied: joblib>=1.1.1 in /usr/local/lib/python3.10/dist-packages (from scikit-learn>=0.20.0->category_encoders) (1.2.0)\n",
            "Requirement already satisfied: threadpoolctl>=2.0.0 in /usr/local/lib/python3.10/dist-packages (from scikit-learn>=0.20.0->category_encoders) (3.1.0)\n",
            "Requirement already satisfied: packaging>=21.3 in /usr/local/lib/python3.10/dist-packages (from statsmodels>=0.9.0->category_encoders) (23.1)\n",
            "Installing collected packages: category_encoders\n",
            "Successfully installed category_encoders-2.6.0\n"
          ]
        }
      ]
    },
    {
      "cell_type": "code",
      "source": [
        "from sklearn.pipeline import Pipeline\n",
        "from sklearn.compose import ColumnTransformer\n",
        "from sklearn.preprocessing import StandardScaler\n",
        "import category_encoders as ce\n"
      ],
      "metadata": {
        "id": "AjaEq6--NClp"
      },
      "execution_count": 119,
      "outputs": []
    },
    {
      "cell_type": "code",
      "source": [
        "from sklearn.pipeline import Pipeline\n",
        "from sklearn.compose import ColumnTransformer\n",
        "from sklearn.preprocessing import StandardScaler\n",
        "import category_encoders as ce"
      ],
      "metadata": {
        "id": "i-KlAj_jNF14"
      },
      "execution_count": 120,
      "outputs": []
    },
    {
      "cell_type": "code",
      "source": [
        "Cat_cols= list(X_train.select_dtypes(include= 'object'))\n",
        "Num_cols = list(X_train.columns.difference(Cat_cols))"
      ],
      "metadata": {
        "id": "BzY8sYoENQLi"
      },
      "execution_count": 121,
      "outputs": []
    },
    {
      "cell_type": "code",
      "source": [
        "df_eval.dtypes"
      ],
      "metadata": {
        "colab": {
          "base_uri": "https://localhost:8080/"
        },
        "id": "cogDZkytNR7H",
        "outputId": "1bf35241-da1e-4f8a-f909-660bee9017cd"
      },
      "execution_count": 122,
      "outputs": [
        {
          "output_type": "execute_result",
          "data": {
            "text/plain": [
              "age                               int64\n",
              "class_of_worker                  object\n",
              "industry_code                     int64\n",
              "occupation_code                   int64\n",
              "education                        object\n",
              "wage_per_hour                     int64\n",
              "marital_status                   object\n",
              "major_industry_code              object\n",
              "major_occupation_code            object\n",
              "race                             object\n",
              "hispanic_origin                  object\n",
              "sex                              object\n",
              "full_parttime_employment_stat    object\n",
              "capital_gains                     int64\n",
              "capital_losses                    int64\n",
              "dividend_from_Stocks              int64\n",
              "tax_filer_status                 object\n",
              "d_household_family_stat          object\n",
              "d_household_summary              object\n",
              "live_1_year_ago                  object\n",
              "num_person_Worked_employer        int64\n",
              "country_father                   object\n",
              "country_mother                   object\n",
              "country_self                     object\n",
              "citizenship                      object\n",
              "business_or_self_employed         int64\n",
              "veterans_benefits                 int64\n",
              "weeks_worked_in_year              int64\n",
              "year                              int64\n",
              "dtype: object"
            ]
          },
          "metadata": {},
          "execution_count": 122
        }
      ]
    },
    {
      "cell_type": "code",
      "source": [
        "numeric_transformer = Pipeline(steps=[('scale', StandardScaler())])"
      ],
      "metadata": {
        "id": "u2tpSdUMNS3T"
      },
      "execution_count": 123,
      "outputs": []
    },
    {
      "cell_type": "code",
      "source": [
        "categorical_transformer = Pipeline(steps=[('enc', ce.LeaveOneOutEncoder(sigma= 0.25))])"
      ],
      "metadata": {
        "id": "qDW_St7QNUV-"
      },
      "execution_count": 124,
      "outputs": []
    },
    {
      "cell_type": "code",
      "source": [
        "preprocessor = ColumnTransformer(transformers=[('num', numeric_transformer, Num_cols),\n",
        "                                               ('cat', categorical_transformer, Cat_cols)])"
      ],
      "metadata": {
        "id": "R8FmXwgnNVXb"
      },
      "execution_count": 126,
      "outputs": []
    },
    {
      "cell_type": "code",
      "source": [
        "pipeline = Pipeline(steps=[('preprocessor', preprocessor)])"
      ],
      "metadata": {
        "id": "F5fGYRd-NXf7"
      },
      "execution_count": 127,
      "outputs": []
    },
    {
      "cell_type": "code",
      "source": [
        "pipeline.fit(X_train, y_train)"
      ],
      "metadata": {
        "colab": {
          "base_uri": "https://localhost:8080/",
          "height": 158
        },
        "id": "hUuSS-edNaMH",
        "outputId": "e434ac6d-ae07-48d2-bab8-ffcde8daca9e"
      },
      "execution_count": 128,
      "outputs": [
        {
          "output_type": "execute_result",
          "data": {
            "text/plain": [
              "Pipeline(steps=[('preprocessor',\n",
              "                 ColumnTransformer(transformers=[('num',\n",
              "                                                  Pipeline(steps=[('scale',\n",
              "                                                                   StandardScaler())]),\n",
              "                                                  ['age',\n",
              "                                                   'business_or_self_employed',\n",
              "                                                   'capital_gains',\n",
              "                                                   'capital_losses',\n",
              "                                                   'dividend_from_Stocks',\n",
              "                                                   'industry_code',\n",
              "                                                   'num_person_Worked_employer',\n",
              "                                                   'occupation_code',\n",
              "                                                   'veterans_benefits',\n",
              "                                                   'wage_per_hour',\n",
              "                                                   'weeks_worked_in_year',\n",
              "                                                   'year']),\n",
              "                                                 ('cat',\n",
              "                                                  Pipel...enc',\n",
              "                                                                   LeaveOneOutEncoder(sigma=0.25))]),\n",
              "                                                  ['class_of_worker',\n",
              "                                                   'education',\n",
              "                                                   'marital_status',\n",
              "                                                   'major_industry_code',\n",
              "                                                   'major_occupation_code',\n",
              "                                                   'race', 'hispanic_origin',\n",
              "                                                   'sex',\n",
              "                                                   'full_parttime_employment_stat',\n",
              "                                                   'tax_filer_status',\n",
              "                                                   'd_household_family_stat',\n",
              "                                                   'd_household_summary',\n",
              "                                                   'live_1_year_ago',\n",
              "                                                   'country_father',\n",
              "                                                   'country_mother',\n",
              "                                                   'country_self',\n",
              "                                                   'citizenship'])]))])"
            ],
            "text/html": [
              "<style>#sk-container-id-1 {color: black;background-color: white;}#sk-container-id-1 pre{padding: 0;}#sk-container-id-1 div.sk-toggleable {background-color: white;}#sk-container-id-1 label.sk-toggleable__label {cursor: pointer;display: block;width: 100%;margin-bottom: 0;padding: 0.3em;box-sizing: border-box;text-align: center;}#sk-container-id-1 label.sk-toggleable__label-arrow:before {content: \"▸\";float: left;margin-right: 0.25em;color: #696969;}#sk-container-id-1 label.sk-toggleable__label-arrow:hover:before {color: black;}#sk-container-id-1 div.sk-estimator:hover label.sk-toggleable__label-arrow:before {color: black;}#sk-container-id-1 div.sk-toggleable__content {max-height: 0;max-width: 0;overflow: hidden;text-align: left;background-color: #f0f8ff;}#sk-container-id-1 div.sk-toggleable__content pre {margin: 0.2em;color: black;border-radius: 0.25em;background-color: #f0f8ff;}#sk-container-id-1 input.sk-toggleable__control:checked~div.sk-toggleable__content {max-height: 200px;max-width: 100%;overflow: auto;}#sk-container-id-1 input.sk-toggleable__control:checked~label.sk-toggleable__label-arrow:before {content: \"▾\";}#sk-container-id-1 div.sk-estimator input.sk-toggleable__control:checked~label.sk-toggleable__label {background-color: #d4ebff;}#sk-container-id-1 div.sk-label input.sk-toggleable__control:checked~label.sk-toggleable__label {background-color: #d4ebff;}#sk-container-id-1 input.sk-hidden--visually {border: 0;clip: rect(1px 1px 1px 1px);clip: rect(1px, 1px, 1px, 1px);height: 1px;margin: -1px;overflow: hidden;padding: 0;position: absolute;width: 1px;}#sk-container-id-1 div.sk-estimator {font-family: monospace;background-color: #f0f8ff;border: 1px dotted black;border-radius: 0.25em;box-sizing: border-box;margin-bottom: 0.5em;}#sk-container-id-1 div.sk-estimator:hover {background-color: #d4ebff;}#sk-container-id-1 div.sk-parallel-item::after {content: \"\";width: 100%;border-bottom: 1px solid gray;flex-grow: 1;}#sk-container-id-1 div.sk-label:hover label.sk-toggleable__label {background-color: #d4ebff;}#sk-container-id-1 div.sk-serial::before {content: \"\";position: absolute;border-left: 1px solid gray;box-sizing: border-box;top: 0;bottom: 0;left: 50%;z-index: 0;}#sk-container-id-1 div.sk-serial {display: flex;flex-direction: column;align-items: center;background-color: white;padding-right: 0.2em;padding-left: 0.2em;position: relative;}#sk-container-id-1 div.sk-item {position: relative;z-index: 1;}#sk-container-id-1 div.sk-parallel {display: flex;align-items: stretch;justify-content: center;background-color: white;position: relative;}#sk-container-id-1 div.sk-item::before, #sk-container-id-1 div.sk-parallel-item::before {content: \"\";position: absolute;border-left: 1px solid gray;box-sizing: border-box;top: 0;bottom: 0;left: 50%;z-index: -1;}#sk-container-id-1 div.sk-parallel-item {display: flex;flex-direction: column;z-index: 1;position: relative;background-color: white;}#sk-container-id-1 div.sk-parallel-item:first-child::after {align-self: flex-end;width: 50%;}#sk-container-id-1 div.sk-parallel-item:last-child::after {align-self: flex-start;width: 50%;}#sk-container-id-1 div.sk-parallel-item:only-child::after {width: 0;}#sk-container-id-1 div.sk-dashed-wrapped {border: 1px dashed gray;margin: 0 0.4em 0.5em 0.4em;box-sizing: border-box;padding-bottom: 0.4em;background-color: white;}#sk-container-id-1 div.sk-label label {font-family: monospace;font-weight: bold;display: inline-block;line-height: 1.2em;}#sk-container-id-1 div.sk-label-container {text-align: center;}#sk-container-id-1 div.sk-container {/* jupyter's `normalize.less` sets `[hidden] { display: none; }` but bootstrap.min.css set `[hidden] { display: none !important; }` so we also need the `!important` here to be able to override the default hidden behavior on the sphinx rendered scikit-learn.org. See: https://github.com/scikit-learn/scikit-learn/issues/21755 */display: inline-block !important;position: relative;}#sk-container-id-1 div.sk-text-repr-fallback {display: none;}</style><div id=\"sk-container-id-1\" class=\"sk-top-container\"><div class=\"sk-text-repr-fallback\"><pre>Pipeline(steps=[(&#x27;preprocessor&#x27;,\n",
              "                 ColumnTransformer(transformers=[(&#x27;num&#x27;,\n",
              "                                                  Pipeline(steps=[(&#x27;scale&#x27;,\n",
              "                                                                   StandardScaler())]),\n",
              "                                                  [&#x27;age&#x27;,\n",
              "                                                   &#x27;business_or_self_employed&#x27;,\n",
              "                                                   &#x27;capital_gains&#x27;,\n",
              "                                                   &#x27;capital_losses&#x27;,\n",
              "                                                   &#x27;dividend_from_Stocks&#x27;,\n",
              "                                                   &#x27;industry_code&#x27;,\n",
              "                                                   &#x27;num_person_Worked_employer&#x27;,\n",
              "                                                   &#x27;occupation_code&#x27;,\n",
              "                                                   &#x27;veterans_benefits&#x27;,\n",
              "                                                   &#x27;wage_per_hour&#x27;,\n",
              "                                                   &#x27;weeks_worked_in_year&#x27;,\n",
              "                                                   &#x27;year&#x27;]),\n",
              "                                                 (&#x27;cat&#x27;,\n",
              "                                                  Pipel...enc&#x27;,\n",
              "                                                                   LeaveOneOutEncoder(sigma=0.25))]),\n",
              "                                                  [&#x27;class_of_worker&#x27;,\n",
              "                                                   &#x27;education&#x27;,\n",
              "                                                   &#x27;marital_status&#x27;,\n",
              "                                                   &#x27;major_industry_code&#x27;,\n",
              "                                                   &#x27;major_occupation_code&#x27;,\n",
              "                                                   &#x27;race&#x27;, &#x27;hispanic_origin&#x27;,\n",
              "                                                   &#x27;sex&#x27;,\n",
              "                                                   &#x27;full_parttime_employment_stat&#x27;,\n",
              "                                                   &#x27;tax_filer_status&#x27;,\n",
              "                                                   &#x27;d_household_family_stat&#x27;,\n",
              "                                                   &#x27;d_household_summary&#x27;,\n",
              "                                                   &#x27;live_1_year_ago&#x27;,\n",
              "                                                   &#x27;country_father&#x27;,\n",
              "                                                   &#x27;country_mother&#x27;,\n",
              "                                                   &#x27;country_self&#x27;,\n",
              "                                                   &#x27;citizenship&#x27;])]))])</pre><b>In a Jupyter environment, please rerun this cell to show the HTML representation or trust the notebook. <br />On GitHub, the HTML representation is unable to render, please try loading this page with nbviewer.org.</b></div><div class=\"sk-container\" hidden><div class=\"sk-item sk-dashed-wrapped\"><div class=\"sk-label-container\"><div class=\"sk-label sk-toggleable\"><input class=\"sk-toggleable__control sk-hidden--visually\" id=\"sk-estimator-id-1\" type=\"checkbox\" ><label for=\"sk-estimator-id-1\" class=\"sk-toggleable__label sk-toggleable__label-arrow\">Pipeline</label><div class=\"sk-toggleable__content\"><pre>Pipeline(steps=[(&#x27;preprocessor&#x27;,\n",
              "                 ColumnTransformer(transformers=[(&#x27;num&#x27;,\n",
              "                                                  Pipeline(steps=[(&#x27;scale&#x27;,\n",
              "                                                                   StandardScaler())]),\n",
              "                                                  [&#x27;age&#x27;,\n",
              "                                                   &#x27;business_or_self_employed&#x27;,\n",
              "                                                   &#x27;capital_gains&#x27;,\n",
              "                                                   &#x27;capital_losses&#x27;,\n",
              "                                                   &#x27;dividend_from_Stocks&#x27;,\n",
              "                                                   &#x27;industry_code&#x27;,\n",
              "                                                   &#x27;num_person_Worked_employer&#x27;,\n",
              "                                                   &#x27;occupation_code&#x27;,\n",
              "                                                   &#x27;veterans_benefits&#x27;,\n",
              "                                                   &#x27;wage_per_hour&#x27;,\n",
              "                                                   &#x27;weeks_worked_in_year&#x27;,\n",
              "                                                   &#x27;year&#x27;]),\n",
              "                                                 (&#x27;cat&#x27;,\n",
              "                                                  Pipel...enc&#x27;,\n",
              "                                                                   LeaveOneOutEncoder(sigma=0.25))]),\n",
              "                                                  [&#x27;class_of_worker&#x27;,\n",
              "                                                   &#x27;education&#x27;,\n",
              "                                                   &#x27;marital_status&#x27;,\n",
              "                                                   &#x27;major_industry_code&#x27;,\n",
              "                                                   &#x27;major_occupation_code&#x27;,\n",
              "                                                   &#x27;race&#x27;, &#x27;hispanic_origin&#x27;,\n",
              "                                                   &#x27;sex&#x27;,\n",
              "                                                   &#x27;full_parttime_employment_stat&#x27;,\n",
              "                                                   &#x27;tax_filer_status&#x27;,\n",
              "                                                   &#x27;d_household_family_stat&#x27;,\n",
              "                                                   &#x27;d_household_summary&#x27;,\n",
              "                                                   &#x27;live_1_year_ago&#x27;,\n",
              "                                                   &#x27;country_father&#x27;,\n",
              "                                                   &#x27;country_mother&#x27;,\n",
              "                                                   &#x27;country_self&#x27;,\n",
              "                                                   &#x27;citizenship&#x27;])]))])</pre></div></div></div><div class=\"sk-serial\"><div class=\"sk-item sk-dashed-wrapped\"><div class=\"sk-label-container\"><div class=\"sk-label sk-toggleable\"><input class=\"sk-toggleable__control sk-hidden--visually\" id=\"sk-estimator-id-2\" type=\"checkbox\" ><label for=\"sk-estimator-id-2\" class=\"sk-toggleable__label sk-toggleable__label-arrow\">preprocessor: ColumnTransformer</label><div class=\"sk-toggleable__content\"><pre>ColumnTransformer(transformers=[(&#x27;num&#x27;,\n",
              "                                 Pipeline(steps=[(&#x27;scale&#x27;, StandardScaler())]),\n",
              "                                 [&#x27;age&#x27;, &#x27;business_or_self_employed&#x27;,\n",
              "                                  &#x27;capital_gains&#x27;, &#x27;capital_losses&#x27;,\n",
              "                                  &#x27;dividend_from_Stocks&#x27;, &#x27;industry_code&#x27;,\n",
              "                                  &#x27;num_person_Worked_employer&#x27;,\n",
              "                                  &#x27;occupation_code&#x27;, &#x27;veterans_benefits&#x27;,\n",
              "                                  &#x27;wage_per_hour&#x27;, &#x27;weeks_worked_in_year&#x27;,\n",
              "                                  &#x27;year&#x27;]),\n",
              "                                (&#x27;cat&#x27;,\n",
              "                                 Pipeline(steps=[(&#x27;enc&#x27;,\n",
              "                                                  LeaveOneOutEncoder(sigma=0.25))]),\n",
              "                                 [&#x27;class_of_worker&#x27;, &#x27;education&#x27;,\n",
              "                                  &#x27;marital_status&#x27;, &#x27;major_industry_code&#x27;,\n",
              "                                  &#x27;major_occupation_code&#x27;, &#x27;race&#x27;,\n",
              "                                  &#x27;hispanic_origin&#x27;, &#x27;sex&#x27;,\n",
              "                                  &#x27;full_parttime_employment_stat&#x27;,\n",
              "                                  &#x27;tax_filer_status&#x27;, &#x27;d_household_family_stat&#x27;,\n",
              "                                  &#x27;d_household_summary&#x27;, &#x27;live_1_year_ago&#x27;,\n",
              "                                  &#x27;country_father&#x27;, &#x27;country_mother&#x27;,\n",
              "                                  &#x27;country_self&#x27;, &#x27;citizenship&#x27;])])</pre></div></div></div><div class=\"sk-parallel\"><div class=\"sk-parallel-item\"><div class=\"sk-item\"><div class=\"sk-label-container\"><div class=\"sk-label sk-toggleable\"><input class=\"sk-toggleable__control sk-hidden--visually\" id=\"sk-estimator-id-3\" type=\"checkbox\" ><label for=\"sk-estimator-id-3\" class=\"sk-toggleable__label sk-toggleable__label-arrow\">num</label><div class=\"sk-toggleable__content\"><pre>[&#x27;age&#x27;, &#x27;business_or_self_employed&#x27;, &#x27;capital_gains&#x27;, &#x27;capital_losses&#x27;, &#x27;dividend_from_Stocks&#x27;, &#x27;industry_code&#x27;, &#x27;num_person_Worked_employer&#x27;, &#x27;occupation_code&#x27;, &#x27;veterans_benefits&#x27;, &#x27;wage_per_hour&#x27;, &#x27;weeks_worked_in_year&#x27;, &#x27;year&#x27;]</pre></div></div></div><div class=\"sk-serial\"><div class=\"sk-item\"><div class=\"sk-serial\"><div class=\"sk-item\"><div class=\"sk-estimator sk-toggleable\"><input class=\"sk-toggleable__control sk-hidden--visually\" id=\"sk-estimator-id-4\" type=\"checkbox\" ><label for=\"sk-estimator-id-4\" class=\"sk-toggleable__label sk-toggleable__label-arrow\">StandardScaler</label><div class=\"sk-toggleable__content\"><pre>StandardScaler()</pre></div></div></div></div></div></div></div></div><div class=\"sk-parallel-item\"><div class=\"sk-item\"><div class=\"sk-label-container\"><div class=\"sk-label sk-toggleable\"><input class=\"sk-toggleable__control sk-hidden--visually\" id=\"sk-estimator-id-5\" type=\"checkbox\" ><label for=\"sk-estimator-id-5\" class=\"sk-toggleable__label sk-toggleable__label-arrow\">cat</label><div class=\"sk-toggleable__content\"><pre>[&#x27;class_of_worker&#x27;, &#x27;education&#x27;, &#x27;marital_status&#x27;, &#x27;major_industry_code&#x27;, &#x27;major_occupation_code&#x27;, &#x27;race&#x27;, &#x27;hispanic_origin&#x27;, &#x27;sex&#x27;, &#x27;full_parttime_employment_stat&#x27;, &#x27;tax_filer_status&#x27;, &#x27;d_household_family_stat&#x27;, &#x27;d_household_summary&#x27;, &#x27;live_1_year_ago&#x27;, &#x27;country_father&#x27;, &#x27;country_mother&#x27;, &#x27;country_self&#x27;, &#x27;citizenship&#x27;]</pre></div></div></div><div class=\"sk-serial\"><div class=\"sk-item\"><div class=\"sk-serial\"><div class=\"sk-item\"><div class=\"sk-estimator sk-toggleable\"><input class=\"sk-toggleable__control sk-hidden--visually\" id=\"sk-estimator-id-6\" type=\"checkbox\" ><label for=\"sk-estimator-id-6\" class=\"sk-toggleable__label sk-toggleable__label-arrow\">LeaveOneOutEncoder</label><div class=\"sk-toggleable__content\"><pre>LeaveOneOutEncoder(sigma=0.25)</pre></div></div></div></div></div></div></div></div></div></div></div></div></div></div>"
            ]
          },
          "metadata": {},
          "execution_count": 128
        }
      ]
    },
    {
      "cell_type": "code",
      "source": [
        "X_train_enc= pd.DataFrame(pipeline.transform(X_train), columns= Num_cols+Cat_cols)\n",
        "X_test_enc= pd.DataFrame(pipeline.transform(X_test), columns= Num_cols+Cat_cols)\n",
        "\n",
        "X_train_enc.head()"
      ],
      "metadata": {
        "colab": {
          "base_uri": "https://localhost:8080/",
          "height": 300
        },
        "id": "jNJmMk-TNbRG",
        "outputId": "85d7ed7c-000b-4347-f910-9a8c913ebc31"
      },
      "execution_count": 129,
      "outputs": [
        {
          "output_type": "execute_result",
          "data": {
            "text/plain": [
              "        age  business_or_self_employed  capital_gains  capital_losses  \\\n",
              "0 -1.335600                  -0.363996      -0.108572       -0.157115   \n",
              "1 -0.130386                  -0.363996      -0.108572       -0.157115   \n",
              "2 -0.883645                  -0.363996      -0.108572       -0.157115   \n",
              "3  0.572656                  -0.363996      -0.108572       -0.157115   \n",
              "4  1.677435                  -0.363996      -0.108572       -0.157115   \n",
              "\n",
              "   dividend_from_Stocks  industry_code  num_person_Worked_employer  \\\n",
              "0             -0.113034      -1.073259                   -1.035811   \n",
              "1             -0.113034      -1.073259                   -1.035811   \n",
              "2             -0.113034       1.172335                   -0.620854   \n",
              "3             -0.113034      -1.073259                   -1.035811   \n",
              "4              0.612797      -1.073259                   -1.035811   \n",
              "\n",
              "   occupation_code  veterans_benefits  wage_per_hour  ...       sex  \\\n",
              "0        -0.960708          -3.093733      -0.229526  ...  0.150441   \n",
              "1        -0.960708           0.335555      -0.229526  ...  0.038828   \n",
              "2         1.061880           0.335555      -0.229526  ...  0.150441   \n",
              "3        -0.960708           0.335555      -0.229526  ...  0.038828   \n",
              "4        -0.960708           0.335555      -0.229526  ...  0.038828   \n",
              "\n",
              "   full_parttime_employment_stat  tax_filer_status  d_household_family_stat  \\\n",
              "0                       0.081214          0.000999                 0.000000   \n",
              "1                       0.081214          0.160783                 0.070345   \n",
              "2                       0.081214          0.072514                 0.008501   \n",
              "3                       0.081214          0.160783                 0.070345   \n",
              "4                       0.081214          0.071163                 0.070345   \n",
              "\n",
              "   d_household_summary  live_1_year_ago  country_father  country_mother  \\\n",
              "0             0.000000         0.099313        0.035294        0.058824   \n",
              "1             0.070318         0.096680        0.101999        0.101910   \n",
              "2             0.010692         0.096680        0.018612        0.020777   \n",
              "3             0.070318         0.096680        0.029197        0.026013   \n",
              "4             0.070318         0.096680        0.109827        0.134615   \n",
              "\n",
              "   country_self  citizenship  \n",
              "0      0.084507     0.042343  \n",
              "1      0.097849     0.097519  \n",
              "2      0.018296     0.126489  \n",
              "3      0.028662     0.029098  \n",
              "4      0.177778     0.126489  \n",
              "\n",
              "[5 rows x 29 columns]"
            ],
            "text/html": [
              "\n",
              "  <div id=\"df-22ee42de-09b2-4a8b-b7c5-d859b0557b66\">\n",
              "    <div class=\"colab-df-container\">\n",
              "      <div>\n",
              "<style scoped>\n",
              "    .dataframe tbody tr th:only-of-type {\n",
              "        vertical-align: middle;\n",
              "    }\n",
              "\n",
              "    .dataframe tbody tr th {\n",
              "        vertical-align: top;\n",
              "    }\n",
              "\n",
              "    .dataframe thead th {\n",
              "        text-align: right;\n",
              "    }\n",
              "</style>\n",
              "<table border=\"1\" class=\"dataframe\">\n",
              "  <thead>\n",
              "    <tr style=\"text-align: right;\">\n",
              "      <th></th>\n",
              "      <th>age</th>\n",
              "      <th>business_or_self_employed</th>\n",
              "      <th>capital_gains</th>\n",
              "      <th>capital_losses</th>\n",
              "      <th>dividend_from_Stocks</th>\n",
              "      <th>industry_code</th>\n",
              "      <th>num_person_Worked_employer</th>\n",
              "      <th>occupation_code</th>\n",
              "      <th>veterans_benefits</th>\n",
              "      <th>wage_per_hour</th>\n",
              "      <th>...</th>\n",
              "      <th>sex</th>\n",
              "      <th>full_parttime_employment_stat</th>\n",
              "      <th>tax_filer_status</th>\n",
              "      <th>d_household_family_stat</th>\n",
              "      <th>d_household_summary</th>\n",
              "      <th>live_1_year_ago</th>\n",
              "      <th>country_father</th>\n",
              "      <th>country_mother</th>\n",
              "      <th>country_self</th>\n",
              "      <th>citizenship</th>\n",
              "    </tr>\n",
              "  </thead>\n",
              "  <tbody>\n",
              "    <tr>\n",
              "      <th>0</th>\n",
              "      <td>-1.335600</td>\n",
              "      <td>-0.363996</td>\n",
              "      <td>-0.108572</td>\n",
              "      <td>-0.157115</td>\n",
              "      <td>-0.113034</td>\n",
              "      <td>-1.073259</td>\n",
              "      <td>-1.035811</td>\n",
              "      <td>-0.960708</td>\n",
              "      <td>-3.093733</td>\n",
              "      <td>-0.229526</td>\n",
              "      <td>...</td>\n",
              "      <td>0.150441</td>\n",
              "      <td>0.081214</td>\n",
              "      <td>0.000999</td>\n",
              "      <td>0.000000</td>\n",
              "      <td>0.000000</td>\n",
              "      <td>0.099313</td>\n",
              "      <td>0.035294</td>\n",
              "      <td>0.058824</td>\n",
              "      <td>0.084507</td>\n",
              "      <td>0.042343</td>\n",
              "    </tr>\n",
              "    <tr>\n",
              "      <th>1</th>\n",
              "      <td>-0.130386</td>\n",
              "      <td>-0.363996</td>\n",
              "      <td>-0.108572</td>\n",
              "      <td>-0.157115</td>\n",
              "      <td>-0.113034</td>\n",
              "      <td>-1.073259</td>\n",
              "      <td>-1.035811</td>\n",
              "      <td>-0.960708</td>\n",
              "      <td>0.335555</td>\n",
              "      <td>-0.229526</td>\n",
              "      <td>...</td>\n",
              "      <td>0.038828</td>\n",
              "      <td>0.081214</td>\n",
              "      <td>0.160783</td>\n",
              "      <td>0.070345</td>\n",
              "      <td>0.070318</td>\n",
              "      <td>0.096680</td>\n",
              "      <td>0.101999</td>\n",
              "      <td>0.101910</td>\n",
              "      <td>0.097849</td>\n",
              "      <td>0.097519</td>\n",
              "    </tr>\n",
              "    <tr>\n",
              "      <th>2</th>\n",
              "      <td>-0.883645</td>\n",
              "      <td>-0.363996</td>\n",
              "      <td>-0.108572</td>\n",
              "      <td>-0.157115</td>\n",
              "      <td>-0.113034</td>\n",
              "      <td>1.172335</td>\n",
              "      <td>-0.620854</td>\n",
              "      <td>1.061880</td>\n",
              "      <td>0.335555</td>\n",
              "      <td>-0.229526</td>\n",
              "      <td>...</td>\n",
              "      <td>0.150441</td>\n",
              "      <td>0.081214</td>\n",
              "      <td>0.072514</td>\n",
              "      <td>0.008501</td>\n",
              "      <td>0.010692</td>\n",
              "      <td>0.096680</td>\n",
              "      <td>0.018612</td>\n",
              "      <td>0.020777</td>\n",
              "      <td>0.018296</td>\n",
              "      <td>0.126489</td>\n",
              "    </tr>\n",
              "    <tr>\n",
              "      <th>3</th>\n",
              "      <td>0.572656</td>\n",
              "      <td>-0.363996</td>\n",
              "      <td>-0.108572</td>\n",
              "      <td>-0.157115</td>\n",
              "      <td>-0.113034</td>\n",
              "      <td>-1.073259</td>\n",
              "      <td>-1.035811</td>\n",
              "      <td>-0.960708</td>\n",
              "      <td>0.335555</td>\n",
              "      <td>-0.229526</td>\n",
              "      <td>...</td>\n",
              "      <td>0.038828</td>\n",
              "      <td>0.081214</td>\n",
              "      <td>0.160783</td>\n",
              "      <td>0.070345</td>\n",
              "      <td>0.070318</td>\n",
              "      <td>0.096680</td>\n",
              "      <td>0.029197</td>\n",
              "      <td>0.026013</td>\n",
              "      <td>0.028662</td>\n",
              "      <td>0.029098</td>\n",
              "    </tr>\n",
              "    <tr>\n",
              "      <th>4</th>\n",
              "      <td>1.677435</td>\n",
              "      <td>-0.363996</td>\n",
              "      <td>-0.108572</td>\n",
              "      <td>-0.157115</td>\n",
              "      <td>0.612797</td>\n",
              "      <td>-1.073259</td>\n",
              "      <td>-1.035811</td>\n",
              "      <td>-0.960708</td>\n",
              "      <td>0.335555</td>\n",
              "      <td>-0.229526</td>\n",
              "      <td>...</td>\n",
              "      <td>0.038828</td>\n",
              "      <td>0.081214</td>\n",
              "      <td>0.071163</td>\n",
              "      <td>0.070345</td>\n",
              "      <td>0.070318</td>\n",
              "      <td>0.096680</td>\n",
              "      <td>0.109827</td>\n",
              "      <td>0.134615</td>\n",
              "      <td>0.177778</td>\n",
              "      <td>0.126489</td>\n",
              "    </tr>\n",
              "  </tbody>\n",
              "</table>\n",
              "<p>5 rows × 29 columns</p>\n",
              "</div>\n",
              "      <button class=\"colab-df-convert\" onclick=\"convertToInteractive('df-22ee42de-09b2-4a8b-b7c5-d859b0557b66')\"\n",
              "              title=\"Convert this dataframe to an interactive table.\"\n",
              "              style=\"display:none;\">\n",
              "        \n",
              "  <svg xmlns=\"http://www.w3.org/2000/svg\" height=\"24px\"viewBox=\"0 0 24 24\"\n",
              "       width=\"24px\">\n",
              "    <path d=\"M0 0h24v24H0V0z\" fill=\"none\"/>\n",
              "    <path d=\"M18.56 5.44l.94 2.06.94-2.06 2.06-.94-2.06-.94-.94-2.06-.94 2.06-2.06.94zm-11 1L8.5 8.5l.94-2.06 2.06-.94-2.06-.94L8.5 2.5l-.94 2.06-2.06.94zm10 10l.94 2.06.94-2.06 2.06-.94-2.06-.94-.94-2.06-.94 2.06-2.06.94z\"/><path d=\"M17.41 7.96l-1.37-1.37c-.4-.4-.92-.59-1.43-.59-.52 0-1.04.2-1.43.59L10.3 9.45l-7.72 7.72c-.78.78-.78 2.05 0 2.83L4 21.41c.39.39.9.59 1.41.59.51 0 1.02-.2 1.41-.59l7.78-7.78 2.81-2.81c.8-.78.8-2.07 0-2.86zM5.41 20L4 18.59l7.72-7.72 1.47 1.35L5.41 20z\"/>\n",
              "  </svg>\n",
              "      </button>\n",
              "      \n",
              "  <style>\n",
              "    .colab-df-container {\n",
              "      display:flex;\n",
              "      flex-wrap:wrap;\n",
              "      gap: 12px;\n",
              "    }\n",
              "\n",
              "    .colab-df-convert {\n",
              "      background-color: #E8F0FE;\n",
              "      border: none;\n",
              "      border-radius: 50%;\n",
              "      cursor: pointer;\n",
              "      display: none;\n",
              "      fill: #1967D2;\n",
              "      height: 32px;\n",
              "      padding: 0 0 0 0;\n",
              "      width: 32px;\n",
              "    }\n",
              "\n",
              "    .colab-df-convert:hover {\n",
              "      background-color: #E2EBFA;\n",
              "      box-shadow: 0px 1px 2px rgba(60, 64, 67, 0.3), 0px 1px 3px 1px rgba(60, 64, 67, 0.15);\n",
              "      fill: #174EA6;\n",
              "    }\n",
              "\n",
              "    [theme=dark] .colab-df-convert {\n",
              "      background-color: #3B4455;\n",
              "      fill: #D2E3FC;\n",
              "    }\n",
              "\n",
              "    [theme=dark] .colab-df-convert:hover {\n",
              "      background-color: #434B5C;\n",
              "      box-shadow: 0px 1px 3px 1px rgba(0, 0, 0, 0.15);\n",
              "      filter: drop-shadow(0px 1px 2px rgba(0, 0, 0, 0.3));\n",
              "      fill: #FFFFFF;\n",
              "    }\n",
              "  </style>\n",
              "\n",
              "      <script>\n",
              "        const buttonEl =\n",
              "          document.querySelector('#df-22ee42de-09b2-4a8b-b7c5-d859b0557b66 button.colab-df-convert');\n",
              "        buttonEl.style.display =\n",
              "          google.colab.kernel.accessAllowed ? 'block' : 'none';\n",
              "\n",
              "        async function convertToInteractive(key) {\n",
              "          const element = document.querySelector('#df-22ee42de-09b2-4a8b-b7c5-d859b0557b66');\n",
              "          const dataTable =\n",
              "            await google.colab.kernel.invokeFunction('convertToInteractive',\n",
              "                                                     [key], {});\n",
              "          if (!dataTable) return;\n",
              "\n",
              "          const docLinkHtml = 'Like what you see? Visit the ' +\n",
              "            '<a target=\"_blank\" href=https://colab.research.google.com/notebooks/data_table.ipynb>data table notebook</a>'\n",
              "            + ' to learn more about interactive tables.';\n",
              "          element.innerHTML = '';\n",
              "          dataTable['output_type'] = 'display_data';\n",
              "          await google.colab.output.renderOutput(dataTable, element);\n",
              "          const docLink = document.createElement('div');\n",
              "          docLink.innerHTML = docLinkHtml;\n",
              "          element.appendChild(docLink);\n",
              "        }\n",
              "      </script>\n",
              "    </div>\n",
              "  </div>\n",
              "  "
            ]
          },
          "metadata": {},
          "execution_count": 129
        }
      ]
    },
    {
      "cell_type": "code",
      "source": [
        "df_test_enc= pd.DataFrame(pipeline.transform(df_eval), columns= Num_cols+Cat_cols)"
      ],
      "metadata": {
        "id": "kTGbkOcGNdBy"
      },
      "execution_count": 130,
      "outputs": []
    },
    {
      "cell_type": "code",
      "source": [
        "pip install catboost\n"
      ],
      "metadata": {
        "colab": {
          "base_uri": "https://localhost:8080/"
        },
        "id": "fena-YeCNeXU",
        "outputId": "d1d36e93-8cd4-4bba-9607-79876eff095c"
      },
      "execution_count": 133,
      "outputs": [
        {
          "output_type": "stream",
          "name": "stdout",
          "text": [
            "Looking in indexes: https://pypi.org/simple, https://us-python.pkg.dev/colab-wheels/public/simple/\n",
            "Requirement already satisfied: catboost in /usr/local/lib/python3.10/dist-packages (1.2)\n",
            "Requirement already satisfied: plotly in /usr/local/lib/python3.10/dist-packages (from catboost) (5.13.1)\n",
            "Requirement already satisfied: graphviz in /usr/local/lib/python3.10/dist-packages (from catboost) (0.20.1)\n",
            "Requirement already satisfied: matplotlib in /usr/local/lib/python3.10/dist-packages (from catboost) (3.7.1)\n",
            "Requirement already satisfied: six in /usr/local/lib/python3.10/dist-packages (from catboost) (1.16.0)\n",
            "Requirement already satisfied: scipy in /usr/local/lib/python3.10/dist-packages (from catboost) (1.10.1)\n",
            "Requirement already satisfied: pandas>=0.24 in /usr/local/lib/python3.10/dist-packages (from catboost) (1.5.3)\n",
            "Requirement already satisfied: numpy>=1.16.0 in /usr/local/lib/python3.10/dist-packages (from catboost) (1.22.4)\n",
            "Requirement already satisfied: pytz>=2020.1 in /usr/local/lib/python3.10/dist-packages (from pandas>=0.24->catboost) (2022.7.1)\n",
            "Requirement already satisfied: python-dateutil>=2.8.1 in /usr/local/lib/python3.10/dist-packages (from pandas>=0.24->catboost) (2.8.2)\n",
            "Requirement already satisfied: cycler>=0.10 in /usr/local/lib/python3.10/dist-packages (from matplotlib->catboost) (0.11.0)\n",
            "Requirement already satisfied: fonttools>=4.22.0 in /usr/local/lib/python3.10/dist-packages (from matplotlib->catboost) (4.39.3)\n",
            "Requirement already satisfied: contourpy>=1.0.1 in /usr/local/lib/python3.10/dist-packages (from matplotlib->catboost) (1.0.7)\n",
            "Requirement already satisfied: pyparsing>=2.3.1 in /usr/local/lib/python3.10/dist-packages (from matplotlib->catboost) (3.0.9)\n",
            "Requirement already satisfied: pillow>=6.2.0 in /usr/local/lib/python3.10/dist-packages (from matplotlib->catboost) (8.4.0)\n",
            "Requirement already satisfied: kiwisolver>=1.0.1 in /usr/local/lib/python3.10/dist-packages (from matplotlib->catboost) (1.4.4)\n",
            "Requirement already satisfied: packaging>=20.0 in /usr/local/lib/python3.10/dist-packages (from matplotlib->catboost) (23.1)\n",
            "Requirement already satisfied: tenacity>=6.2.0 in /usr/local/lib/python3.10/dist-packages (from plotly->catboost) (8.2.2)\n"
          ]
        }
      ]
    },
    {
      "cell_type": "code",
      "source": [
        "from sklearn import datasets, linear_model, metrics\n",
        "from sklearn.metrics import accuracy_score, confusion_matrix, roc_auc_score, ConfusionMatrixDisplay, precision_score, recall_score, f1_score, classification_report, roc_curve, RocCurveDisplay, auc, precision_recall_curve, PrecisionRecallDisplay, average_precision_score\n",
        "from sklearn.model_selection import cross_val_score\n",
        "from collections import Counter\n",
        "from sklearn.linear_model import LogisticRegression\n",
        "from sklearn.neighbors import KNeighborsClassifier\n",
        "from sklearn.naive_bayes import GaussianNB\n",
        "from sklearn.tree import DecisionTreeClassifier\n",
        "from sklearn.ensemble import RandomForestClassifier, AdaBoostClassifier, GradientBoostingClassifier\n",
        "from xgboost import XGBClassifier\n",
        "from sklearn.svm import SVC\n",
        "from catboost import CatBoostClassifier\n",
        "from sklearn.model_selection import GridSearchCV"
      ],
      "metadata": {
        "id": "BNoBD7iKNgCx"
      },
      "execution_count": 137,
      "outputs": []
    },
    {
      "cell_type": "code",
      "source": [
        "# Defining all the necessary Algorithms\n",
        "grid_models = [(DecisionTreeClassifier(),[{'criterion':['gini','entropy'],'random_state':[0]}]), \n",
        "               (RandomForestClassifier(),[{'n_estimators':[100,150,200],\n",
        "                                           'criterion':['gini','entropy'],'random_state':[0]}]),\n",
        "               (GradientBoostingClassifier(),[{'n_estimators':[100,150,200],\n",
        "                                               'criterion':['friedman_mse','mse'],'loss':['deviance','exponential'],\n",
        "                                               'learning_rate':[0.1, 0.5, 0.8, 1],'random_state':[0]}]),\n",
        "               (XGBClassifier(), [{'learning_rate': [0.01, 0.05, 0.1], 'eval_metric': ['error']}]),\n",
        "               (KNeighborsClassifier(),[{'n_neighbors':[5,7, 8, 10], \n",
        "                                         'metric': ['euclidean', 'manhattan', 'chebyshev', 'minkowski']}]),\n",
        "               (CatBoostClassifier(),[{'iterations': [500],'depth': [4, 5, 6],\n",
        "                                       'loss_function': ['Logloss', 'CrossEntropy'],\n",
        "                                       'l2_leaf_reg': np.logspace(-20, -19, 3),\n",
        "                                       'eval_metric': ['Accuracy'],\n",
        "                                       'leaf_estimation_iterations': [10],\n",
        "                                       'logging_level':['Silent']}])]\n"
      ],
      "metadata": {
        "id": "AYFwRQaZNlTI"
      },
      "execution_count": 138,
      "outputs": []
    },
    {
      "cell_type": "code",
      "source": [
        "for i,j in grid_models:\n",
        "    grid = GridSearchCV(estimator=i,param_grid = j, scoring = 'accuracy',cv=2)\n",
        "    grid.fit(X_train_enc, y_train)\n",
        "    best_accuracy = grid.best_score_\n",
        "    best_param = grid.best_params_\n",
        "    print('{}:\\nBest Accuracy : {:.2f}%'.format(i,best_accuracy*100))\n",
        "    print('Best Parameters : ',best_param)\n",
        "    print('')\n",
        "    print('----------------')\n",
        "    print('')\n"
      ],
      "metadata": {
        "colab": {
          "base_uri": "https://localhost:8080/"
        },
        "id": "zYRwmPT-OpqG",
        "outputId": "cad91cb7-f128-40a9-ef08-d3e098ce1268"
      },
      "execution_count": 139,
      "outputs": [
        {
          "output_type": "stream",
          "name": "stdout",
          "text": [
            "DecisionTreeClassifier():\n",
            "Best Accuracy : 90.43%\n",
            "Best Parameters :  {'criterion': 'entropy', 'random_state': 0}\n",
            "\n",
            "----------------\n",
            "\n",
            "RandomForestClassifier():\n",
            "Best Accuracy : 93.57%\n",
            "Best Parameters :  {'criterion': 'entropy', 'n_estimators': 200, 'random_state': 0}\n",
            "\n",
            "----------------\n",
            "\n",
            "GradientBoostingClassifier():\n",
            "Best Accuracy : 93.85%\n",
            "Best Parameters :  {'criterion': 'friedman_mse', 'learning_rate': 0.5, 'loss': 'exponential', 'n_estimators': 150, 'random_state': 0}\n",
            "\n",
            "----------------\n",
            "\n",
            "XGBClassifier(base_score=None, booster=None, callbacks=None,\n",
            "              colsample_bylevel=None, colsample_bynode=None,\n",
            "              colsample_bytree=None, early_stopping_rounds=None,\n",
            "              enable_categorical=False, eval_metric=None, feature_types=None,\n",
            "              gamma=None, gpu_id=None, grow_policy=None, importance_type=None,\n",
            "              interaction_constraints=None, learning_rate=None, max_bin=None,\n",
            "              max_cat_threshold=None, max_cat_to_onehot=None,\n",
            "              max_delta_step=None, max_depth=None, max_leaves=None,\n",
            "              min_child_weight=None, missing=nan, monotone_constraints=None,\n",
            "              n_estimators=100, n_jobs=None, num_parallel_tree=None,\n",
            "              predictor=None, random_state=None, ...):\n",
            "Best Accuracy : 93.84%\n",
            "Best Parameters :  {'eval_metric': 'error', 'learning_rate': 0.1}\n",
            "\n",
            "----------------\n",
            "\n",
            "KNeighborsClassifier():\n",
            "Best Accuracy : 92.85%\n",
            "Best Parameters :  {'metric': 'manhattan', 'n_neighbors': 10}\n",
            "\n",
            "----------------\n",
            "\n",
            "<catboost.core.CatBoostClassifier object at 0x7f00d64e0d90>:\n",
            "Best Accuracy : 93.88%\n",
            "Best Parameters :  {'depth': 6, 'eval_metric': 'Accuracy', 'iterations': 500, 'l2_leaf_reg': 1e-19, 'leaf_estimation_iterations': 10, 'logging_level': 'Silent', 'loss_function': 'Logloss'}\n",
            "\n",
            "----------------\n",
            "\n"
          ]
        }
      ]
    },
    {
      "cell_type": "code",
      "source": [
        "#Fitting RandomForestClassifier Model\n",
        "classifier = RandomForestClassifier(criterion= 'entropy', n_estimators= 200, random_state= 0)\n",
        "classifier.fit(X_train_enc, y_train)\n",
        "y_pred = classifier.predict(X_test_enc)\n",
        "y_prob = classifier.predict_proba(X_test_enc)[:,1]\n",
        "cm = confusion_matrix(y_test, y_pred)\n",
        "\n",
        "print(classification_report(y_test, y_pred))\n",
        "print(f'ROC AUC score: {roc_auc_score(y_test, y_prob)}')\n",
        "print('Accuracy Score: ',accuracy_score(y_test, y_pred))"
      ],
      "metadata": {
        "colab": {
          "base_uri": "https://localhost:8080/"
        },
        "id": "NWlCuN-JOswM",
        "outputId": "bb1f315a-abc9-4352-8ed7-5b439376c657"
      },
      "execution_count": 140,
      "outputs": [
        {
          "output_type": "stream",
          "name": "stdout",
          "text": [
            "              precision    recall  f1-score   support\n",
            "\n",
            "           0       0.95      0.98      0.96     43018\n",
            "           1       0.73      0.48      0.58      4517\n",
            "\n",
            "    accuracy                           0.93     47535\n",
            "   macro avg       0.84      0.73      0.77     47535\n",
            "weighted avg       0.93      0.93      0.93     47535\n",
            "\n",
            "ROC AUC score: 0.9259278694371523\n",
            "Accuracy Score:  0.9336068160302935\n"
          ]
        }
      ]
    },
    {
      "cell_type": "code",
      "source": [
        "# Visualizing Confusion Matrix\n",
        "plt.figure(figsize = (6, 6))\n",
        "sns.heatmap(cm, cmap = 'Blues', annot = True, fmt = 'd', linewidths = 5, cbar = False, annot_kws = {'fontsize': 15}, \n",
        "            yticklabels = ['No Claim', 'Claimed'], xticklabels = ['Predicted No Claim', 'Predicted Claimed'])\n",
        "plt.yticks(rotation = 0)\n",
        "plt.show()"
      ],
      "metadata": {
        "colab": {
          "base_uri": "https://localhost:8080/",
          "height": 522
        },
        "id": "AH5-U4iwOwmR",
        "outputId": "ede44161-6470-4e6e-9004-857e5d831786"
      },
      "execution_count": 143,
      "outputs": [
        {
          "output_type": "display_data",
          "data": {
            "text/plain": [
              "<Figure size 600x600 with 1 Axes>"
            ],
            "image/png": "[encoded data removed]"
          },
          "metadata": {}
        }
      ]
    },
    {
      "cell_type": "code",
      "source": [
        "#Fitting GradientClassifier Model\n",
        "classifier2 = GradientBoostingClassifier(criterion= 'friedman_mse', learning_rate= 0.5, \n",
        "                                         loss= 'exponential', n_estimators= 150, random_state= 0)\n",
        "classifier2.fit(X_train_enc, y_train)\n",
        "y_pred = classifier2.predict(X_test_enc)\n",
        "y_prob = classifier2.predict_proba(X_test_enc)[:,1]\n",
        "cm1 = confusion_matrix(y_test, y_pred)\n",
        "\n",
        "print(classification_report(y_test, y_pred))\n",
        "print(f'ROC AUC score: {roc_auc_score(y_test, y_prob)}')\n",
        "print('Accuracy Score: ',accuracy_score(y_test, y_pred))"
      ],
      "metadata": {
        "colab": {
          "base_uri": "https://localhost:8080/"
        },
        "id": "4U5D9gvdOyPH",
        "outputId": "bdfec20c-7a75-4fed-b19b-3ded3dc5694b"
      },
      "execution_count": 144,
      "outputs": [
        {
          "output_type": "stream",
          "name": "stdout",
          "text": [
            "              precision    recall  f1-score   support\n",
            "\n",
            "           0       0.95      0.98      0.97     43018\n",
            "           1       0.75      0.51      0.61      4517\n",
            "\n",
            "    accuracy                           0.94     47535\n",
            "   macro avg       0.85      0.75      0.79     47535\n",
            "weighted avg       0.93      0.94      0.93     47535\n",
            "\n",
            "ROC AUC score: 0.9365250546715245\n",
            "Accuracy Score:  0.9369306826548859\n"
          ]
        }
      ]
    },
    {
      "cell_type": "code",
      "source": [
        "# Visualizing Confusion Matrix\n",
        "plt.figure(figsize = (6, 6))\n",
        "sns.heatmap(cm1, cmap = 'Blues', annot = True, fmt = 'd', linewidths = 5, cbar = False, annot_kws = {'fontsize': 15}, \n",
        "            yticklabels = ['No Claim', 'Claimed'], xticklabels = ['Predicted No Claim', 'Predicted Claimed'])\n",
        "plt.yticks(rotation = 0)\n",
        "plt.show()"
      ],
      "metadata": {
        "colab": {
          "base_uri": "https://localhost:8080/",
          "height": 522
        },
        "id": "lgyrUEr0QfY_",
        "outputId": "48d47911-be36-4f11-d892-6261a1e3f8ad"
      },
      "execution_count": 145,
      "outputs": [
        {
          "output_type": "display_data",
          "data": {
            "text/plain": [
              "<Figure size 600x600 with 1 Axes>"
            ],
            "image/png": "[encoded data removed]"
          },
          "metadata": {}
        }
      ]
    },
    {
      "cell_type": "code",
      "source": [
        "#Fitting KNeighborsClassifier Model\n",
        "classifier3 = KNeighborsClassifier(metric= 'manhattan', n_neighbors= 10)\n",
        "classifier3.fit(X_train_enc, y_train)\n",
        "y_pred = classifier3.predict(X_test_enc)\n",
        "y_prob = classifier3.predict_proba(X_test_enc)[:,1]\n",
        "cm2 = confusion_matrix(y_test, y_pred)\n",
        "\n",
        "print(classification_report(y_test, y_pred))\n",
        "print(f'ROC AUC score: {roc_auc_score(y_test, y_prob)}')\n",
        "print('Accuracy Score: ',accuracy_score(y_test, y_pred))"
      ],
      "metadata": {
        "colab": {
          "base_uri": "https://localhost:8080/"
        },
        "id": "aTicOpoXQhfX",
        "outputId": "0d5973a4-579d-4e8d-f3b1-5ec52d6d9f23"
      },
      "execution_count": 146,
      "outputs": [
        {
          "output_type": "stream",
          "name": "stdout",
          "text": [
            "              precision    recall  f1-score   support\n",
            "\n",
            "           0       0.94      0.99      0.96     43018\n",
            "           1       0.72      0.37      0.49      4517\n",
            "\n",
            "    accuracy                           0.93     47535\n",
            "   macro avg       0.83      0.68      0.72     47535\n",
            "weighted avg       0.92      0.93      0.92     47535\n",
            "\n",
            "ROC AUC score: 0.8806746135779996\n",
            "Accuracy Score:  0.9264752287787946\n"
          ]
        }
      ]
    },
    {
      "cell_type": "code",
      "source": [
        "# Visualizing Confusion Matrix\n",
        "plt.figure(figsize = (6, 6))\n",
        "sns.heatmap(cm2, cmap = 'Blues', annot = True, fmt = 'd', linewidths = 5, cbar = False, annot_kws = {'fontsize': 15}, \n",
        "            yticklabels = ['No Claim', 'Claimed'], xticklabels = ['Predicted No Claim', 'Predicted Claimed'])\n",
        "plt.yticks(rotation = 0)\n",
        "plt.show()"
      ],
      "metadata": {
        "colab": {
          "base_uri": "https://localhost:8080/",
          "height": 522
        },
        "id": "oqcT0BcSQjyJ",
        "outputId": "2b777dcf-bf69-44ae-81db-111d6bc2709a"
      },
      "execution_count": 147,
      "outputs": [
        {
          "output_type": "display_data",
          "data": {
            "text/plain": [
              "<Figure size 600x600 with 1 Axes>"
            ],
            "image/png": "[encoded data removed]"
          },
          "metadata": {}
        }
      ]
    },
    {
      "cell_type": "code",
      "source": [
        "#Fitting XGBClassifier Model\n",
        "classifier4 = XGBClassifier(evalXGBClassifieretric= 'error', learning_rate= 0.1)\n",
        "classifier4.fit(X_train_enc, y_train)\n",
        "y_pred = classifier4.predict(X_test_enc)\n",
        "y_prob = classifier4.predict_proba(X_test_enc)[:,1]\n",
        "cm3 = confusion_matrix(y_test, y_pred)\n",
        "\n",
        "print(classification_report(y_test, y_pred))\n",
        "print(f'ROC AUC score: {roc_auc_score(y_test, y_prob)}')\n",
        "print('Accuracy Score: ',accuracy_score(y_test, y_pred))"
      ],
      "metadata": {
        "colab": {
          "base_uri": "https://localhost:8080/"
        },
        "id": "NxE3WQuSQmSA",
        "outputId": "537ebe1e-527e-4b83-fb42-a5e541353006"
      },
      "execution_count": 148,
      "outputs": [
        {
          "output_type": "stream",
          "name": "stdout",
          "text": [
            "[06:37:12] WARNING: ../src/learner.cc:767: \n",
            "Parameters: { \"evalXGBClassifieretric\" } are not used.\n",
            "\n",
            "              precision    recall  f1-score   support\n",
            "\n",
            "           0       0.95      0.98      0.97     43018\n",
            "           1       0.75      0.49      0.59      4517\n",
            "\n",
            "    accuracy                           0.94     47535\n",
            "   macro avg       0.85      0.74      0.78     47535\n",
            "weighted avg       0.93      0.94      0.93     47535\n",
            "\n",
            "ROC AUC score: 0.9363325527102745\n",
            "Accuracy Score:  0.9361733459556116\n"
          ]
        }
      ]
    },
    {
      "cell_type": "code",
      "source": [
        "# Visualizing Confusion Matrix\n",
        "plt.figure(figsize = (6, 6))\n",
        "sns.heatmap(cm3, cmap = 'Blues', annot = True, fmt = 'd', linewidths = 5, cbar = False, annot_kws = {'fontsize': 15}, \n",
        "            yticklabels = ['No Claim', 'Claimed'], xticklabels = ['Predicted No Claim', 'Predicted Claimed'])\n",
        "plt.yticks(rotation = 0)\n",
        "plt.show()"
      ],
      "metadata": {
        "colab": {
          "base_uri": "https://localhost:8080/",
          "height": 522
        },
        "id": "AdSYg2FAQn5D",
        "outputId": "45da491e-7485-46bd-f13f-207c74b27941"
      },
      "execution_count": 149,
      "outputs": [
        {
          "output_type": "display_data",
          "data": {
            "text/plain": [
              "<Figure size 600x600 with 1 Axes>"
            ],
            "image/png": "[encoded data removed]"
          },
          "metadata": {}
        }
      ]
    },
    {
      "cell_type": "code",
      "source": [
        "#Fitting CatBoostClassifier Model\n",
        "classifier5 = CatBoostClassifier(depth= 6, eval_metric= 'Accuracy', iterations= 500, l2_leaf_reg= 1e-20, \n",
        "                                 logging_level= 'Silent', loss_function= 'Logloss')\n",
        "classifier5.fit(X_train_enc, y_train)\n",
        "y_pred = classifier5.predict(X_test_enc)\n",
        "y_prob = classifier5.predict_proba(X_test_enc)[:,1]\n",
        "cm4 = confusion_matrix(y_test, y_pred)\n",
        "\n",
        "print(classification_report(y_test, y_pred))\n",
        "print(f'ROC AUC score: {roc_auc_score(y_test, y_prob)}')\n",
        "print('Accuracy Score: ',accuracy_score(y_test, y_pred))"
      ],
      "metadata": {
        "colab": {
          "base_uri": "https://localhost:8080/"
        },
        "id": "2MR1chRXQqRq",
        "outputId": "578c1aee-1174-414c-90ef-0fb3445fe8e1"
      },
      "execution_count": 150,
      "outputs": [
        {
          "output_type": "stream",
          "name": "stdout",
          "text": [
            "              precision    recall  f1-score   support\n",
            "\n",
            "           0       0.95      0.98      0.97     43018\n",
            "           1       0.76      0.48      0.59      4517\n",
            "\n",
            "    accuracy                           0.94     47535\n",
            "   macro avg       0.85      0.73      0.78     47535\n",
            "weighted avg       0.93      0.94      0.93     47535\n",
            "\n",
            "ROC AUC score: 0.9352864378028636\n",
            "Accuracy Score:  0.9364468286525718\n"
          ]
        }
      ]
    },
    {
      "cell_type": "code",
      "source": [
        "# Visualizing Confusion Matrix\n",
        "plt.figure(figsize = (6, 6))\n",
        "sns.heatmap(cm4, cmap = 'Blues', annot = True, fmt = 'd', linewidths = 5, cbar = False, annot_kws = {'fontsize': 15}, \n",
        "            yticklabels = ['No Claim', 'Claimed'], xticklabels = ['Predicted No Claim', 'Predicted Claimed'])\n",
        "plt.yticks(rotation = 0)\n",
        "plt.show()"
      ],
      "metadata": {
        "colab": {
          "base_uri": "https://localhost:8080/",
          "height": 522
        },
        "id": "Eu82DD5yQsL4",
        "outputId": "c3c1f4ba-7340-4fe4-a4ad-efd561e87df3"
      },
      "execution_count": 151,
      "outputs": [
        {
          "output_type": "display_data",
          "data": {
            "text/plain": [
              "<Figure size 600x600 with 1 Axes>"
            ],
            "image/png": "[encoded data removed]"
          },
          "metadata": {}
        }
      ]
    },
    {
      "cell_type": "code",
      "source": [
        "test_pred = classifier5.predict(df_test_enc)\n",
        "len(test_pred)"
      ],
      "metadata": {
        "colab": {
          "base_uri": "https://localhost:8080/"
        },
        "id": "SPbjKdotQtYx",
        "outputId": "183c0b4d-6252-484d-fe73-b20cc0ee5c4b"
      },
      "execution_count": 152,
      "outputs": [
        {
          "output_type": "execute_result",
          "data": {
            "text/plain": [
              "50000"
            ]
          },
          "metadata": {},
          "execution_count": 152
        }
      ]
    },
    {
      "cell_type": "code",
      "source": [
        "id_frame=pd.read_csv('https://raw.githubusercontent.com/dphi-official/Datasets/master/Census_Income/Testing_set_census.csv')"
      ],
      "metadata": {
        "id": "nqyt9-nEQvTd"
      },
      "execution_count": 153,
      "outputs": []
    },
    {
      "cell_type": "code",
      "source": [
        "id_frame['id'] = id_frame.index+1"
      ],
      "metadata": {
        "id": "jKZShDBaQyFU"
      },
      "execution_count": 154,
      "outputs": []
    },
    {
      "cell_type": "code",
      "source": [
        "ID_info = id_frame[[\"id\"]]"
      ],
      "metadata": {
        "id": "S7nMO4vHQzDy"
      },
      "execution_count": 155,
      "outputs": []
    },
    {
      "cell_type": "code",
      "source": [
        "prediction = pd.DataFrame(test_pred,columns=[\"prediction\"])"
      ],
      "metadata": {
        "id": "7h-od5jaQ0YN"
      },
      "execution_count": 156,
      "outputs": []
    },
    {
      "cell_type": "code",
      "source": [
        "ID_info[\"prediction\"] = prediction[\"prediction\"]"
      ],
      "metadata": {
        "id": "k6MTRsTCQ1NA"
      },
      "execution_count": 157,
      "outputs": []
    },
    {
      "cell_type": "code",
      "source": [
        "ID_info.to_csv('DataSprint_CensusIncome_2.csv',index=False)"
      ],
      "metadata": {
        "id": "6w0lMB9WQ2LO"
      },
      "execution_count": 158,
      "outputs": []
    },
    {
      "cell_type": "code",
      "source": [
        "test_pred = classifier4.predict(df_test_enc)\n",
        "len(test_pred)"
      ],
      "metadata": {
        "colab": {
          "base_uri": "https://localhost:8080/"
        },
        "id": "z5N9tW-oQ4Kl",
        "outputId": "921bf987-462c-4bcb-b104-0bc2818b7a78"
      },
      "execution_count": 159,
      "outputs": [
        {
          "output_type": "execute_result",
          "data": {
            "text/plain": [
              "50000"
            ]
          },
          "metadata": {},
          "execution_count": 159
        }
      ]
    },
    {
      "cell_type": "code",
      "source": [
        "test_pred = classifier3.predict(df_test_enc)\n",
        "len(test_pred)"
      ],
      "metadata": {
        "colab": {
          "base_uri": "https://localhost:8080/"
        },
        "id": "dka4heMpQ6FA",
        "outputId": "0e886731-6612-4912-9663-dfc25ec9445c"
      },
      "execution_count": 160,
      "outputs": [
        {
          "output_type": "execute_result",
          "data": {
            "text/plain": [
              "50000"
            ]
          },
          "metadata": {},
          "execution_count": 160
        }
      ]
    },
    {
      "cell_type": "code",
      "source": [
        "test_pred = classifier2.predict(df_test_enc)\n",
        "len(test_pred)"
      ],
      "metadata": {
        "colab": {
          "base_uri": "https://localhost:8080/"
        },
        "id": "hhdf0EKvQ8Y9",
        "outputId": "be6f378b-57c3-4f8a-d3aa-f212cdbc7b3f"
      },
      "execution_count": 161,
      "outputs": [
        {
          "output_type": "execute_result",
          "data": {
            "text/plain": [
              "50000"
            ]
          },
          "metadata": {},
          "execution_count": 161
        }
      ]
    },
    {
      "cell_type": "code",
      "source": [
        "test_pred = classifier.predict(df_test_enc)\n",
        "len(test_pred)"
      ],
      "metadata": {
        "colab": {
          "base_uri": "https://localhost:8080/"
        },
        "id": "OQyGlphiQ9VY",
        "outputId": "64d2ac31-9802-4c0d-d1dc-ef65840cff6d"
      },
      "execution_count": 162,
      "outputs": [
        {
          "output_type": "execute_result",
          "data": {
            "text/plain": [
              "50000"
            ]
          },
          "metadata": {},
          "execution_count": 162
        }
      ]
    },
    {
      "cell_type": "code",
      "source": [],
      "metadata": {
        "id": "KwTyvmCYQ-fK"
      },
      "execution_count": 162,
      "outputs": []
    }
  ]
}